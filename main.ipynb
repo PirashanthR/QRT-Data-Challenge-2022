{
  "cells": [
    {
      "cell_type": "code",
      "execution_count": 1,
      "metadata": {
        "id": "ZVU9p9LbsatK"
      },
      "outputs": [],
      "source": [
        "%load_ext autoreload\n",
        "%autoreload 2"
      ]
    },
    {
      "cell_type": "code",
      "execution_count": 2,
      "metadata": {
        "id": "rcLI1atQtM5t"
      },
      "outputs": [],
      "source": [
        "from pl_data_module import QRTDataModule\n",
        "from pl_module import QRTChallengeRegressor\n",
        "from ray.tune.integration.pytorch_lightning import TuneReportCallback\n",
        "import pytorch_lightning as pl\n",
        "from ray import tune"
      ]
    },
    {
      "cell_type": "code",
      "execution_count": 3,
      "metadata": {
        "id": "b3GoUZaZta3U"
      },
      "outputs": [],
      "source": [
        "def train_qrt(config, data_dir, num_gpus=0):\n",
        "    model = QRTChallengeRegressor(config)\n",
        "    dm = QRTDataModule(\n",
        "        data_dir=data_dir, num_workers=1, batch_size=config[\"batch_size\"])\n",
        "    metrics = {\"mse_loss\": \"ptl/mse_loss\", \"cel_loss\": \"ptl/cel_loss\"}\n",
        "    trainer = pl.Trainer(\n",
        "        max_epochs=config[\"num_epochs\"],\n",
        "        gpus=num_gpus,\n",
        "        progress_bar_refresh_rate=0,\n",
        "        callbacks=[TuneReportCallback(metrics, on=\"validation_end\")])\n",
        "    trainer.fit(model, dm)"
      ]
    },
    {
      "cell_type": "code",
      "execution_count": 4,
      "metadata": {
        "id": "OODJ5xPdthzc"
      },
      "outputs": [],
      "source": [
        "config = {\n",
        " \"dropout\": tune.choice([0, 0.2, 0.5]),\n",
        " \"num_epochs\": tune.choice([20, 40, 60, 80, 100]),\n",
        " \"lr\": tune.loguniform(1e-5, 1e-1),\n",
        " \"batch_size\": tune.choice([32, 64, 128])\n",
        "}"
      ]
    },
    {
      "cell_type": "code",
      "execution_count": 6,
      "metadata": {
        "colab": {
          "base_uri": "https://localhost:8080/",
          "height": 1000
        },
        "id": "MMUDh9OItkXh",
        "outputId": "ce666e6c-485d-4cbc-96a6-54653a324559"
      },
      "outputs": [
        {
          "data": {
            "text/html": [
              "== Status ==<br>Current time: 2022-07-16 21:17:13 (running for 00:00:05.01)<br>Memory usage on this node: 1.8/12.7 GiB<br>Using FIFO scheduling algorithm.<br>Resources requested: 1.0/2 CPUs, 0/0 GPUs, 0.0/7.38 GiB heap, 0.0/3.69 GiB objects<br>Result logdir: /root/ray_results/train_qrt_2022-07-16_21-17-08<br>Number of trials: 10/10 (9 PENDING, 1 RUNNING)<br><table>\n",
              "<thead>\n",
              "<tr><th>Trial name           </th><th>status  </th><th>loc             </th><th style=\"text-align: right;\">  batch_size</th><th style=\"text-align: right;\">  dropout</th><th style=\"text-align: right;\">         lr</th><th style=\"text-align: right;\">  num_epochs</th></tr>\n",
              "</thead>\n",
              "<tbody>\n",
              "<tr><td>train_qrt_a6989_00000</td><td>RUNNING </td><td>172.28.0.2:34666</td><td style=\"text-align: right;\">          32</td><td style=\"text-align: right;\">      0.2</td><td style=\"text-align: right;\">1.91481e-05</td><td style=\"text-align: right;\">         100</td></tr>\n",
              "<tr><td>train_qrt_a6989_00001</td><td>PENDING </td><td>                </td><td style=\"text-align: right;\">          64</td><td style=\"text-align: right;\">      0  </td><td style=\"text-align: right;\">0.0292711  </td><td style=\"text-align: right;\">          60</td></tr>\n",
              "<tr><td>train_qrt_a6989_00002</td><td>PENDING </td><td>                </td><td style=\"text-align: right;\">          64</td><td style=\"text-align: right;\">      0  </td><td style=\"text-align: right;\">0.0764205  </td><td style=\"text-align: right;\">          40</td></tr>\n",
              "<tr><td>train_qrt_a6989_00003</td><td>PENDING </td><td>                </td><td style=\"text-align: right;\">          64</td><td style=\"text-align: right;\">      0  </td><td style=\"text-align: right;\">0.000105935</td><td style=\"text-align: right;\">          60</td></tr>\n",
              "<tr><td>train_qrt_a6989_00004</td><td>PENDING </td><td>                </td><td style=\"text-align: right;\">         128</td><td style=\"text-align: right;\">      0  </td><td style=\"text-align: right;\">0.0251209  </td><td style=\"text-align: right;\">          40</td></tr>\n",
              "<tr><td>train_qrt_a6989_00005</td><td>PENDING </td><td>                </td><td style=\"text-align: right;\">          64</td><td style=\"text-align: right;\">      0.2</td><td style=\"text-align: right;\">1.66108e-05</td><td style=\"text-align: right;\">          20</td></tr>\n",
              "<tr><td>train_qrt_a6989_00006</td><td>PENDING </td><td>                </td><td style=\"text-align: right;\">         128</td><td style=\"text-align: right;\">      0  </td><td style=\"text-align: right;\">0.0012109  </td><td style=\"text-align: right;\">          60</td></tr>\n",
              "<tr><td>train_qrt_a6989_00007</td><td>PENDING </td><td>                </td><td style=\"text-align: right;\">         128</td><td style=\"text-align: right;\">      0.2</td><td style=\"text-align: right;\">0.0824483  </td><td style=\"text-align: right;\">         100</td></tr>\n",
              "<tr><td>train_qrt_a6989_00008</td><td>PENDING </td><td>                </td><td style=\"text-align: right;\">         128</td><td style=\"text-align: right;\">      0  </td><td style=\"text-align: right;\">3.30049e-05</td><td style=\"text-align: right;\">          40</td></tr>\n",
              "<tr><td>train_qrt_a6989_00009</td><td>PENDING </td><td>                </td><td style=\"text-align: right;\">         128</td><td style=\"text-align: right;\">      0.2</td><td style=\"text-align: right;\">0.000485717</td><td style=\"text-align: right;\">          40</td></tr>\n",
              "</tbody>\n",
              "</table><br><br>"
            ],
            "text/plain": [
              "<IPython.core.display.HTML object>"
            ]
          },
          "metadata": {},
          "output_type": "display_data"
        },
        {
          "name": "stderr",
          "output_type": "stream",
          "text": [
            "\u001b[2m\u001b[36m(train_qrt pid=34666)\u001b[0m /usr/local/lib/python3.7/dist-packages/pytorch_lightning/trainer/connectors/callback_connector.py:97: LightningDeprecationWarning: Setting `Trainer(progress_bar_refresh_rate=0)` is deprecated in v1.5 and will be removed in v1.7. Please pass `pytorch_lightning.callbacks.progress.TQDMProgressBar` with `refresh_rate` directly to the Trainer's `callbacks` argument instead. Or, to disable the progress bar pass `enable_progress_bar = False` to the Trainer.\n",
            "\u001b[2m\u001b[36m(train_qrt pid=34666)\u001b[0m   f\"Setting `Trainer(progress_bar_refresh_rate={progress_bar_refresh_rate})` is deprecated in v1.5 and\"\n",
            "\u001b[2m\u001b[36m(train_qrt pid=34666)\u001b[0m GPU available: False, used: False\n",
            "\u001b[2m\u001b[36m(train_qrt pid=34666)\u001b[0m TPU available: False, using: 0 TPU cores\n",
            "\u001b[2m\u001b[36m(train_qrt pid=34666)\u001b[0m IPU available: False, using: 0 IPUs\n",
            "\u001b[2m\u001b[36m(train_qrt pid=34666)\u001b[0m HPU available: False, using: 0 HPUs\n",
            "\u001b[2m\u001b[36m(train_qrt pid=34666)\u001b[0m /usr/local/lib/python3.7/dist-packages/pytorch_lightning/trainer/configuration_validator.py:336: LightningDeprecationWarning: The `on_keyboard_interrupt` callback hook was deprecated in v1.5 and will be removed in v1.7. Please use the `on_exception` callback hook instead.\n",
            "\u001b[2m\u001b[36m(train_qrt pid=34666)\u001b[0m   \"The `on_keyboard_interrupt` callback hook was deprecated in v1.5 and will be removed in v1.7.\"\n",
            "\u001b[2m\u001b[36m(train_qrt pid=34666)\u001b[0m /usr/local/lib/python3.7/dist-packages/pytorch_lightning/trainer/configuration_validator.py:348: LightningDeprecationWarning: The `on_init_start` callback hook was deprecated in v1.6 and will be removed in v1.8.\n",
            "\u001b[2m\u001b[36m(train_qrt pid=34666)\u001b[0m   \"The `on_init_start` callback hook was deprecated in v1.6 and will be removed in v1.8.\"\n",
            "\u001b[2m\u001b[36m(train_qrt pid=34666)\u001b[0m /usr/local/lib/python3.7/dist-packages/pytorch_lightning/trainer/configuration_validator.py:351: LightningDeprecationWarning: The `on_init_end` callback hook was deprecated in v1.6 and will be removed in v1.8.\n",
            "\u001b[2m\u001b[36m(train_qrt pid=34666)\u001b[0m   rank_zero_deprecation(\"The `on_init_end` callback hook was deprecated in v1.6 and will be removed in v1.8.\")\n",
            "\u001b[2m\u001b[36m(train_qrt pid=34666)\u001b[0m /usr/local/lib/python3.7/dist-packages/pytorch_lightning/trainer/configuration_validator.py:377: LightningDeprecationWarning: The `Callback.on_batch_start` hook was deprecated in v1.6 and will be removed in v1.8. Please use `Callback.on_train_batch_start` instead.\n",
            "\u001b[2m\u001b[36m(train_qrt pid=34666)\u001b[0m   f\"The `Callback.{hook}` hook was deprecated in v1.6 and\"\n",
            "\u001b[2m\u001b[36m(train_qrt pid=34666)\u001b[0m /usr/local/lib/python3.7/dist-packages/pytorch_lightning/trainer/configuration_validator.py:377: LightningDeprecationWarning: The `Callback.on_batch_end` hook was deprecated in v1.6 and will be removed in v1.8. Please use `Callback.on_train_batch_end` instead.\n",
            "\u001b[2m\u001b[36m(train_qrt pid=34666)\u001b[0m   f\"The `Callback.{hook}` hook was deprecated in v1.6 and\"\n",
            "\u001b[2m\u001b[36m(train_qrt pid=34666)\u001b[0m /usr/local/lib/python3.7/dist-packages/pytorch_lightning/trainer/configuration_validator.py:386: LightningDeprecationWarning: The `Callback.on_epoch_start` hook was deprecated in v1.6 and will be removed in v1.8. Please use `Callback.on_<train/validation/test>_epoch_start` instead.\n",
            "\u001b[2m\u001b[36m(train_qrt pid=34666)\u001b[0m   f\"The `Callback.{hook}` hook was deprecated in v1.6 and\"\n",
            "\u001b[2m\u001b[36m(train_qrt pid=34666)\u001b[0m /usr/local/lib/python3.7/dist-packages/pytorch_lightning/trainer/configuration_validator.py:386: LightningDeprecationWarning: The `Callback.on_epoch_end` hook was deprecated in v1.6 and will be removed in v1.8. Please use `Callback.on_<train/validation/test>_epoch_end` instead.\n",
            "\u001b[2m\u001b[36m(train_qrt pid=34666)\u001b[0m   f\"The `Callback.{hook}` hook was deprecated in v1.6 and\"\n",
            "\u001b[2m\u001b[36m(train_qrt pid=34666)\u001b[0m Missing logger folder: /root/ray_results/train_qrt_2022-07-16_21-17-08/train_qrt_a6989_00000_0_batch_size=32,dropout=0.2000,lr=0.0000,num_epochs=100_2022-07-16_21-17-10/lightning_logs\n",
            "\u001b[2m\u001b[36m(train_qrt pid=34666)\u001b[0m /content/QRT_DataChallenge/pl_data_module.py:42: FutureWarning: In a future version of pandas all arguments of concat except for the argument 'objs' will be keyword-only\n",
            "\u001b[2m\u001b[36m(train_qrt pid=34666)\u001b[0m   X_train_reshape = pd.concat([ X_train.T.shift(i+1).stack(dropna=False) for i in range(250) ], 1).dropna()\n",
            "\u001b[2m\u001b[36m(train_qrt pid=34666)\u001b[0m /content/QRT_DataChallenge/pl_data_module.py:46: FutureWarning: In a future version of pandas all arguments of concat except for the argument 'objs' will be keyword-only\n",
            "\u001b[2m\u001b[36m(train_qrt pid=34666)\u001b[0m   X_val_reshape = pd.concat([ X_val.T.shift(i+1).stack(dropna=False) for i in range(250) ], 1).dropna()\n",
            "\u001b[2m\u001b[36m(train_qrt pid=34666)\u001b[0m \n",
            "\u001b[2m\u001b[36m(train_qrt pid=34666)\u001b[0m   | Name     | Type                | Params\n",
            "\u001b[2m\u001b[36m(train_qrt pid=34666)\u001b[0m -------------------------------------------------\n",
            "\u001b[2m\u001b[36m(train_qrt pid=34666)\u001b[0m 0 | model    | Model               | 2.5 K \n",
            "\u001b[2m\u001b[36m(train_qrt pid=34666)\u001b[0m 1 | cel_loss | CosineEmbeddingLoss | 0     \n",
            "\u001b[2m\u001b[36m(train_qrt pid=34666)\u001b[0m 2 | mse_loss | MSELoss             | 0     \n",
            "\u001b[2m\u001b[36m(train_qrt pid=34666)\u001b[0m -------------------------------------------------\n",
            "\u001b[2m\u001b[36m(train_qrt pid=34666)\u001b[0m 2.5 K     Trainable params\n",
            "\u001b[2m\u001b[36m(train_qrt pid=34666)\u001b[0m 0         Non-trainable params\n",
            "\u001b[2m\u001b[36m(train_qrt pid=34666)\u001b[0m 2.5 K     Total params\n",
            "\u001b[2m\u001b[36m(train_qrt pid=34666)\u001b[0m 0.010     Total estimated model params size (MB)\n",
            "\u001b[2m\u001b[36m(train_qrt pid=34666)\u001b[0m /usr/local/lib/python3.7/dist-packages/pytorch_lightning/trainer/trainer.py:1937: PossibleUserWarning: The number of training batches (16) is smaller than the logging interval Trainer(log_every_n_steps=50). Set a lower value for log_every_n_steps if you want to see logs for the training epoch.\n",
            "\u001b[2m\u001b[36m(train_qrt pid=34666)\u001b[0m   category=PossibleUserWarning,\n"
          ]
        },
        {
          "data": {
            "text/html": [
              "== Status ==<br>Current time: 2022-07-16 21:17:19 (running for 00:00:11.08)<br>Memory usage on this node: 1.9/12.7 GiB<br>Using FIFO scheduling algorithm.<br>Resources requested: 2.0/2 CPUs, 0/0 GPUs, 0.0/7.38 GiB heap, 0.0/3.69 GiB objects<br>Result logdir: /root/ray_results/train_qrt_2022-07-16_21-17-08<br>Number of trials: 10/10 (8 PENDING, 2 RUNNING)<br><table>\n",
              "<thead>\n",
              "<tr><th>Trial name           </th><th>status  </th><th>loc             </th><th style=\"text-align: right;\">  batch_size</th><th style=\"text-align: right;\">  dropout</th><th style=\"text-align: right;\">         lr</th><th style=\"text-align: right;\">  num_epochs</th></tr>\n",
              "</thead>\n",
              "<tbody>\n",
              "<tr><td>train_qrt_a6989_00000</td><td>RUNNING </td><td>172.28.0.2:34666</td><td style=\"text-align: right;\">          32</td><td style=\"text-align: right;\">      0.2</td><td style=\"text-align: right;\">1.91481e-05</td><td style=\"text-align: right;\">         100</td></tr>\n",
              "<tr><td>train_qrt_a6989_00001</td><td>RUNNING </td><td>172.28.0.2:34701</td><td style=\"text-align: right;\">          64</td><td style=\"text-align: right;\">      0  </td><td style=\"text-align: right;\">0.0292711  </td><td style=\"text-align: right;\">          60</td></tr>\n",
              "<tr><td>train_qrt_a6989_00002</td><td>PENDING </td><td>                </td><td style=\"text-align: right;\">          64</td><td style=\"text-align: right;\">      0  </td><td style=\"text-align: right;\">0.0764205  </td><td style=\"text-align: right;\">          40</td></tr>\n",
              "<tr><td>train_qrt_a6989_00003</td><td>PENDING </td><td>                </td><td style=\"text-align: right;\">          64</td><td style=\"text-align: right;\">      0  </td><td style=\"text-align: right;\">0.000105935</td><td style=\"text-align: right;\">          60</td></tr>\n",
              "<tr><td>train_qrt_a6989_00004</td><td>PENDING </td><td>                </td><td style=\"text-align: right;\">         128</td><td style=\"text-align: right;\">      0  </td><td style=\"text-align: right;\">0.0251209  </td><td style=\"text-align: right;\">          40</td></tr>\n",
              "<tr><td>train_qrt_a6989_00005</td><td>PENDING </td><td>                </td><td style=\"text-align: right;\">          64</td><td style=\"text-align: right;\">      0.2</td><td style=\"text-align: right;\">1.66108e-05</td><td style=\"text-align: right;\">          20</td></tr>\n",
              "<tr><td>train_qrt_a6989_00006</td><td>PENDING </td><td>                </td><td style=\"text-align: right;\">         128</td><td style=\"text-align: right;\">      0  </td><td style=\"text-align: right;\">0.0012109  </td><td style=\"text-align: right;\">          60</td></tr>\n",
              "<tr><td>train_qrt_a6989_00007</td><td>PENDING </td><td>                </td><td style=\"text-align: right;\">         128</td><td style=\"text-align: right;\">      0.2</td><td style=\"text-align: right;\">0.0824483  </td><td style=\"text-align: right;\">         100</td></tr>\n",
              "<tr><td>train_qrt_a6989_00008</td><td>PENDING </td><td>                </td><td style=\"text-align: right;\">         128</td><td style=\"text-align: right;\">      0  </td><td style=\"text-align: right;\">3.30049e-05</td><td style=\"text-align: right;\">          40</td></tr>\n",
              "<tr><td>train_qrt_a6989_00009</td><td>PENDING </td><td>                </td><td style=\"text-align: right;\">         128</td><td style=\"text-align: right;\">      0.2</td><td style=\"text-align: right;\">0.000485717</td><td style=\"text-align: right;\">          40</td></tr>\n",
              "</tbody>\n",
              "</table><br><br>"
            ],
            "text/plain": [
              "<IPython.core.display.HTML object>"
            ]
          },
          "metadata": {},
          "output_type": "display_data"
        },
        {
          "name": "stderr",
          "output_type": "stream",
          "text": [
            "\u001b[2m\u001b[36m(train_qrt pid=34701)\u001b[0m /usr/local/lib/python3.7/dist-packages/pytorch_lightning/trainer/connectors/callback_connector.py:97: LightningDeprecationWarning: Setting `Trainer(progress_bar_refresh_rate=0)` is deprecated in v1.5 and will be removed in v1.7. Please pass `pytorch_lightning.callbacks.progress.TQDMProgressBar` with `refresh_rate` directly to the Trainer's `callbacks` argument instead. Or, to disable the progress bar pass `enable_progress_bar = False` to the Trainer.\n",
            "\u001b[2m\u001b[36m(train_qrt pid=34701)\u001b[0m   f\"Setting `Trainer(progress_bar_refresh_rate={progress_bar_refresh_rate})` is deprecated in v1.5 and\"\n",
            "\u001b[2m\u001b[36m(train_qrt pid=34701)\u001b[0m GPU available: False, used: False\n",
            "\u001b[2m\u001b[36m(train_qrt pid=34701)\u001b[0m TPU available: False, using: 0 TPU cores\n",
            "\u001b[2m\u001b[36m(train_qrt pid=34701)\u001b[0m IPU available: False, using: 0 IPUs\n",
            "\u001b[2m\u001b[36m(train_qrt pid=34701)\u001b[0m HPU available: False, using: 0 HPUs\n",
            "\u001b[2m\u001b[36m(train_qrt pid=34701)\u001b[0m /usr/local/lib/python3.7/dist-packages/pytorch_lightning/trainer/configuration_validator.py:336: LightningDeprecationWarning: The `on_keyboard_interrupt` callback hook was deprecated in v1.5 and will be removed in v1.7. Please use the `on_exception` callback hook instead.\n",
            "\u001b[2m\u001b[36m(train_qrt pid=34701)\u001b[0m   \"The `on_keyboard_interrupt` callback hook was deprecated in v1.5 and will be removed in v1.7.\"\n",
            "\u001b[2m\u001b[36m(train_qrt pid=34701)\u001b[0m /usr/local/lib/python3.7/dist-packages/pytorch_lightning/trainer/configuration_validator.py:348: LightningDeprecationWarning: The `on_init_start` callback hook was deprecated in v1.6 and will be removed in v1.8.\n",
            "\u001b[2m\u001b[36m(train_qrt pid=34701)\u001b[0m   \"The `on_init_start` callback hook was deprecated in v1.6 and will be removed in v1.8.\"\n",
            "\u001b[2m\u001b[36m(train_qrt pid=34701)\u001b[0m /usr/local/lib/python3.7/dist-packages/pytorch_lightning/trainer/configuration_validator.py:351: LightningDeprecationWarning: The `on_init_end` callback hook was deprecated in v1.6 and will be removed in v1.8.\n",
            "\u001b[2m\u001b[36m(train_qrt pid=34701)\u001b[0m   rank_zero_deprecation(\"The `on_init_end` callback hook was deprecated in v1.6 and will be removed in v1.8.\")\n",
            "\u001b[2m\u001b[36m(train_qrt pid=34701)\u001b[0m /usr/local/lib/python3.7/dist-packages/pytorch_lightning/trainer/configuration_validator.py:377: LightningDeprecationWarning: The `Callback.on_batch_start` hook was deprecated in v1.6 and will be removed in v1.8. Please use `Callback.on_train_batch_start` instead.\n",
            "\u001b[2m\u001b[36m(train_qrt pid=34701)\u001b[0m   f\"The `Callback.{hook}` hook was deprecated in v1.6 and\"\n",
            "\u001b[2m\u001b[36m(train_qrt pid=34701)\u001b[0m /usr/local/lib/python3.7/dist-packages/pytorch_lightning/trainer/configuration_validator.py:377: LightningDeprecationWarning: The `Callback.on_batch_end` hook was deprecated in v1.6 and will be removed in v1.8. Please use `Callback.on_train_batch_end` instead.\n",
            "\u001b[2m\u001b[36m(train_qrt pid=34701)\u001b[0m   f\"The `Callback.{hook}` hook was deprecated in v1.6 and\"\n",
            "\u001b[2m\u001b[36m(train_qrt pid=34701)\u001b[0m /usr/local/lib/python3.7/dist-packages/pytorch_lightning/trainer/configuration_validator.py:386: LightningDeprecationWarning: The `Callback.on_epoch_start` hook was deprecated in v1.6 and will be removed in v1.8. Please use `Callback.on_<train/validation/test>_epoch_start` instead.\n",
            "\u001b[2m\u001b[36m(train_qrt pid=34701)\u001b[0m   f\"The `Callback.{hook}` hook was deprecated in v1.6 and\"\n",
            "\u001b[2m\u001b[36m(train_qrt pid=34701)\u001b[0m /usr/local/lib/python3.7/dist-packages/pytorch_lightning/trainer/configuration_validator.py:386: LightningDeprecationWarning: The `Callback.on_epoch_end` hook was deprecated in v1.6 and will be removed in v1.8. Please use `Callback.on_<train/validation/test>_epoch_end` instead.\n",
            "\u001b[2m\u001b[36m(train_qrt pid=34701)\u001b[0m   f\"The `Callback.{hook}` hook was deprecated in v1.6 and\"\n",
            "\u001b[2m\u001b[36m(train_qrt pid=34701)\u001b[0m Missing logger folder: /root/ray_results/train_qrt_2022-07-16_21-17-08/train_qrt_a6989_00001_1_batch_size=64,dropout=0,lr=0.0293,num_epochs=60_2022-07-16_21-17-13/lightning_logs\n",
            "\u001b[2m\u001b[36m(train_qrt pid=34701)\u001b[0m /content/QRT_DataChallenge/pl_data_module.py:42: FutureWarning: In a future version of pandas all arguments of concat except for the argument 'objs' will be keyword-only\n",
            "\u001b[2m\u001b[36m(train_qrt pid=34701)\u001b[0m   X_train_reshape = pd.concat([ X_train.T.shift(i+1).stack(dropna=False) for i in range(250) ], 1).dropna()\n"
          ]
        },
        {
          "name": "stdout",
          "output_type": "stream",
          "text": [
            "Result for train_qrt_a6989_00000:\n",
            "  cel_loss: 0.9774962663650513\n",
            "  date: 2022-07-16_21-17-23\n",
            "  done: false\n",
            "  experiment_id: d464be6c0f664d1283297b14baf160ef\n",
            "  hostname: f6468dcefdbf\n",
            "  iterations_since_restore: 1\n",
            "  mse_loss: 0.00027920008869841695\n",
            "  node_ip: 172.28.0.2\n",
            "  pid: 34666\n",
            "  time_since_restore: 9.851218461990356\n",
            "  time_this_iter_s: 9.851218461990356\n",
            "  time_total_s: 9.851218461990356\n",
            "  timestamp: 1658006243\n",
            "  timesteps_since_restore: 0\n",
            "  training_iteration: 1\n",
            "  trial_id: a6989_00000\n",
            "  warmup_time: 0.004649162292480469\n",
            "  \n"
          ]
        },
        {
          "name": "stderr",
          "output_type": "stream",
          "text": [
            "\u001b[2m\u001b[36m(train_qrt pid=34701)\u001b[0m /content/QRT_DataChallenge/pl_data_module.py:46: FutureWarning: In a future version of pandas all arguments of concat except for the argument 'objs' will be keyword-only\n",
            "\u001b[2m\u001b[36m(train_qrt pid=34701)\u001b[0m   X_val_reshape = pd.concat([ X_val.T.shift(i+1).stack(dropna=False) for i in range(250) ], 1).dropna()\n"
          ]
        },
        {
          "data": {
            "text/html": [
              "== Status ==<br>Current time: 2022-07-16 21:17:24 (running for 00:00:15.56)<br>Memory usage on this node: 2.1/12.7 GiB<br>Using FIFO scheduling algorithm.<br>Resources requested: 2.0/2 CPUs, 0/0 GPUs, 0.0/7.38 GiB heap, 0.0/3.69 GiB objects<br>Current best trial: a6989_00000 with cel_loss=0.9773101210594177 and parameters={'dropout': 0.2, 'num_epochs': 100, 'lr': 1.9148106523258937e-05, 'batch_size': 32}<br>Result logdir: /root/ray_results/train_qrt_2022-07-16_21-17-08<br>Number of trials: 10/10 (8 PENDING, 2 RUNNING)<br><table>\n",
              "<thead>\n",
              "<tr><th>Trial name           </th><th>status  </th><th>loc             </th><th style=\"text-align: right;\">  batch_size</th><th style=\"text-align: right;\">  dropout</th><th style=\"text-align: right;\">         lr</th><th style=\"text-align: right;\">  num_epochs</th><th style=\"text-align: right;\">  iter</th><th style=\"text-align: right;\">  total time (s)</th><th style=\"text-align: right;\">   mse_loss</th><th style=\"text-align: right;\">  cel_loss</th></tr>\n",
              "</thead>\n",
              "<tbody>\n",
              "<tr><td>train_qrt_a6989_00000</td><td>RUNNING </td><td>172.28.0.2:34666</td><td style=\"text-align: right;\">          32</td><td style=\"text-align: right;\">      0.2</td><td style=\"text-align: right;\">1.91481e-05</td><td style=\"text-align: right;\">         100</td><td style=\"text-align: right;\">     2</td><td style=\"text-align: right;\">          10.544</td><td style=\"text-align: right;\">0.000279147</td><td style=\"text-align: right;\">   0.97731</td></tr>\n",
              "<tr><td>train_qrt_a6989_00001</td><td>RUNNING </td><td>172.28.0.2:34701</td><td style=\"text-align: right;\">          64</td><td style=\"text-align: right;\">      0  </td><td style=\"text-align: right;\">0.0292711  </td><td style=\"text-align: right;\">          60</td><td style=\"text-align: right;\">      </td><td style=\"text-align: right;\">                </td><td style=\"text-align: right;\">           </td><td style=\"text-align: right;\">          </td></tr>\n",
              "<tr><td>train_qrt_a6989_00002</td><td>PENDING </td><td>                </td><td style=\"text-align: right;\">          64</td><td style=\"text-align: right;\">      0  </td><td style=\"text-align: right;\">0.0764205  </td><td style=\"text-align: right;\">          40</td><td style=\"text-align: right;\">      </td><td style=\"text-align: right;\">                </td><td style=\"text-align: right;\">           </td><td style=\"text-align: right;\">          </td></tr>\n",
              "<tr><td>train_qrt_a6989_00003</td><td>PENDING </td><td>                </td><td style=\"text-align: right;\">          64</td><td style=\"text-align: right;\">      0  </td><td style=\"text-align: right;\">0.000105935</td><td style=\"text-align: right;\">          60</td><td style=\"text-align: right;\">      </td><td style=\"text-align: right;\">                </td><td style=\"text-align: right;\">           </td><td style=\"text-align: right;\">          </td></tr>\n",
              "<tr><td>train_qrt_a6989_00004</td><td>PENDING </td><td>                </td><td style=\"text-align: right;\">         128</td><td style=\"text-align: right;\">      0  </td><td style=\"text-align: right;\">0.0251209  </td><td style=\"text-align: right;\">          40</td><td style=\"text-align: right;\">      </td><td style=\"text-align: right;\">                </td><td style=\"text-align: right;\">           </td><td style=\"text-align: right;\">          </td></tr>\n",
              "<tr><td>train_qrt_a6989_00005</td><td>PENDING </td><td>                </td><td style=\"text-align: right;\">          64</td><td style=\"text-align: right;\">      0.2</td><td style=\"text-align: right;\">1.66108e-05</td><td style=\"text-align: right;\">          20</td><td style=\"text-align: right;\">      </td><td style=\"text-align: right;\">                </td><td style=\"text-align: right;\">           </td><td style=\"text-align: right;\">          </td></tr>\n",
              "<tr><td>train_qrt_a6989_00006</td><td>PENDING </td><td>                </td><td style=\"text-align: right;\">         128</td><td style=\"text-align: right;\">      0  </td><td style=\"text-align: right;\">0.0012109  </td><td style=\"text-align: right;\">          60</td><td style=\"text-align: right;\">      </td><td style=\"text-align: right;\">                </td><td style=\"text-align: right;\">           </td><td style=\"text-align: right;\">          </td></tr>\n",
              "<tr><td>train_qrt_a6989_00007</td><td>PENDING </td><td>                </td><td style=\"text-align: right;\">         128</td><td style=\"text-align: right;\">      0.2</td><td style=\"text-align: right;\">0.0824483  </td><td style=\"text-align: right;\">         100</td><td style=\"text-align: right;\">      </td><td style=\"text-align: right;\">                </td><td style=\"text-align: right;\">           </td><td style=\"text-align: right;\">          </td></tr>\n",
              "<tr><td>train_qrt_a6989_00008</td><td>PENDING </td><td>                </td><td style=\"text-align: right;\">         128</td><td style=\"text-align: right;\">      0  </td><td style=\"text-align: right;\">3.30049e-05</td><td style=\"text-align: right;\">          40</td><td style=\"text-align: right;\">      </td><td style=\"text-align: right;\">                </td><td style=\"text-align: right;\">           </td><td style=\"text-align: right;\">          </td></tr>\n",
              "<tr><td>train_qrt_a6989_00009</td><td>PENDING </td><td>                </td><td style=\"text-align: right;\">         128</td><td style=\"text-align: right;\">      0.2</td><td style=\"text-align: right;\">0.000485717</td><td style=\"text-align: right;\">          40</td><td style=\"text-align: right;\">      </td><td style=\"text-align: right;\">                </td><td style=\"text-align: right;\">           </td><td style=\"text-align: right;\">          </td></tr>\n",
              "</tbody>\n",
              "</table><br><br>"
            ],
            "text/plain": [
              "<IPython.core.display.HTML object>"
            ]
          },
          "metadata": {},
          "output_type": "display_data"
        },
        {
          "name": "stderr",
          "output_type": "stream",
          "text": [
            "\u001b[2m\u001b[36m(train_qrt pid=34701)\u001b[0m \n",
            "\u001b[2m\u001b[36m(train_qrt pid=34701)\u001b[0m   | Name     | Type                | Params\n",
            "\u001b[2m\u001b[36m(train_qrt pid=34701)\u001b[0m -------------------------------------------------\n",
            "\u001b[2m\u001b[36m(train_qrt pid=34701)\u001b[0m 0 | model    | Model               | 2.5 K \n",
            "\u001b[2m\u001b[36m(train_qrt pid=34701)\u001b[0m 1 | cel_loss | CosineEmbeddingLoss | 0     \n",
            "\u001b[2m\u001b[36m(train_qrt pid=34701)\u001b[0m 2 | mse_loss | MSELoss             | 0     \n",
            "\u001b[2m\u001b[36m(train_qrt pid=34701)\u001b[0m -------------------------------------------------\n",
            "\u001b[2m\u001b[36m(train_qrt pid=34701)\u001b[0m 2.5 K     Trainable params\n",
            "\u001b[2m\u001b[36m(train_qrt pid=34701)\u001b[0m 0         Non-trainable params\n",
            "\u001b[2m\u001b[36m(train_qrt pid=34701)\u001b[0m 2.5 K     Total params\n",
            "\u001b[2m\u001b[36m(train_qrt pid=34701)\u001b[0m 0.010     Total estimated model params size (MB)\n",
            "\u001b[2m\u001b[36m(train_qrt pid=34701)\u001b[0m /usr/local/lib/python3.7/dist-packages/pytorch_lightning/trainer/trainer.py:1937: PossibleUserWarning: The number of training batches (8) is smaller than the logging interval Trainer(log_every_n_steps=50). Set a lower value for log_every_n_steps if you want to see logs for the training epoch.\n",
            "\u001b[2m\u001b[36m(train_qrt pid=34701)\u001b[0m   category=PossibleUserWarning,\n"
          ]
        },
        {
          "name": "stdout",
          "output_type": "stream",
          "text": [
            "Result for train_qrt_a6989_00000:\n",
            "  cel_loss: 0.9758024215698242\n",
            "  date: 2022-07-16_21-17-28\n",
            "  done: false\n",
            "  experiment_id: d464be6c0f664d1283297b14baf160ef\n",
            "  hostname: f6468dcefdbf\n",
            "  iterations_since_restore: 9\n",
            "  mse_loss: 0.00027874938677996397\n",
            "  node_ip: 172.28.0.2\n",
            "  pid: 34666\n",
            "  time_since_restore: 14.902608871459961\n",
            "  time_this_iter_s: 0.6066639423370361\n",
            "  time_total_s: 14.902608871459961\n",
            "  timestamp: 1658006248\n",
            "  timesteps_since_restore: 0\n",
            "  training_iteration: 9\n",
            "  trial_id: a6989_00000\n",
            "  warmup_time: 0.004649162292480469\n",
            "  \n",
            "Result for train_qrt_a6989_00001:\n",
            "  cel_loss: 1.0146743059158325\n",
            "  date: 2022-07-16_21-17-29\n",
            "  done: false\n",
            "  experiment_id: 202a61d7a01e47dca4be579c9e2dac4a\n",
            "  hostname: f6468dcefdbf\n",
            "  iterations_since_restore: 1\n",
            "  mse_loss: 0.00032645626924932003\n",
            "  node_ip: 172.28.0.2\n",
            "  pid: 34701\n",
            "  time_since_restore: 9.58514404296875\n",
            "  time_this_iter_s: 9.58514404296875\n",
            "  time_total_s: 9.58514404296875\n",
            "  timestamp: 1658006249\n",
            "  timesteps_since_restore: 0\n",
            "  training_iteration: 1\n",
            "  trial_id: a6989_00001\n",
            "  warmup_time: 0.005987644195556641\n",
            "  \n"
          ]
        },
        {
          "data": {
            "text/html": [
              "== Status ==<br>Current time: 2022-07-16 21:17:29 (running for 00:00:20.69)<br>Memory usage on this node: 2.4/12.7 GiB<br>Using FIFO scheduling algorithm.<br>Resources requested: 2.0/2 CPUs, 0/0 GPUs, 0.0/7.38 GiB heap, 0.0/3.69 GiB objects<br>Current best trial: a6989_00000 with cel_loss=0.9756371378898621 and parameters={'dropout': 0.2, 'num_epochs': 100, 'lr': 1.9148106523258937e-05, 'batch_size': 32}<br>Result logdir: /root/ray_results/train_qrt_2022-07-16_21-17-08<br>Number of trials: 10/10 (8 PENDING, 2 RUNNING)<br><table>\n",
              "<thead>\n",
              "<tr><th>Trial name           </th><th>status  </th><th>loc             </th><th style=\"text-align: right;\">  batch_size</th><th style=\"text-align: right;\">  dropout</th><th style=\"text-align: right;\">         lr</th><th style=\"text-align: right;\">  num_epochs</th><th style=\"text-align: right;\">  iter</th><th style=\"text-align: right;\">  total time (s)</th><th style=\"text-align: right;\">   mse_loss</th><th style=\"text-align: right;\">  cel_loss</th></tr>\n",
              "</thead>\n",
              "<tbody>\n",
              "<tr><td>train_qrt_a6989_00000</td><td>RUNNING </td><td>172.28.0.2:34666</td><td style=\"text-align: right;\">          32</td><td style=\"text-align: right;\">      0.2</td><td style=\"text-align: right;\">1.91481e-05</td><td style=\"text-align: right;\">         100</td><td style=\"text-align: right;\">    10</td><td style=\"text-align: right;\">        15.4985 </td><td style=\"text-align: right;\">0.000278686</td><td style=\"text-align: right;\">  0.975637</td></tr>\n",
              "<tr><td>train_qrt_a6989_00001</td><td>RUNNING </td><td>172.28.0.2:34701</td><td style=\"text-align: right;\">          64</td><td style=\"text-align: right;\">      0  </td><td style=\"text-align: right;\">0.0292711  </td><td style=\"text-align: right;\">          60</td><td style=\"text-align: right;\">     1</td><td style=\"text-align: right;\">         9.58514</td><td style=\"text-align: right;\">0.000326456</td><td style=\"text-align: right;\">  1.01467 </td></tr>\n",
              "<tr><td>train_qrt_a6989_00002</td><td>PENDING </td><td>                </td><td style=\"text-align: right;\">          64</td><td style=\"text-align: right;\">      0  </td><td style=\"text-align: right;\">0.0764205  </td><td style=\"text-align: right;\">          40</td><td style=\"text-align: right;\">      </td><td style=\"text-align: right;\">                </td><td style=\"text-align: right;\">           </td><td style=\"text-align: right;\">          </td></tr>\n",
              "<tr><td>train_qrt_a6989_00003</td><td>PENDING </td><td>                </td><td style=\"text-align: right;\">          64</td><td style=\"text-align: right;\">      0  </td><td style=\"text-align: right;\">0.000105935</td><td style=\"text-align: right;\">          60</td><td style=\"text-align: right;\">      </td><td style=\"text-align: right;\">                </td><td style=\"text-align: right;\">           </td><td style=\"text-align: right;\">          </td></tr>\n",
              "<tr><td>train_qrt_a6989_00004</td><td>PENDING </td><td>                </td><td style=\"text-align: right;\">         128</td><td style=\"text-align: right;\">      0  </td><td style=\"text-align: right;\">0.0251209  </td><td style=\"text-align: right;\">          40</td><td style=\"text-align: right;\">      </td><td style=\"text-align: right;\">                </td><td style=\"text-align: right;\">           </td><td style=\"text-align: right;\">          </td></tr>\n",
              "<tr><td>train_qrt_a6989_00005</td><td>PENDING </td><td>                </td><td style=\"text-align: right;\">          64</td><td style=\"text-align: right;\">      0.2</td><td style=\"text-align: right;\">1.66108e-05</td><td style=\"text-align: right;\">          20</td><td style=\"text-align: right;\">      </td><td style=\"text-align: right;\">                </td><td style=\"text-align: right;\">           </td><td style=\"text-align: right;\">          </td></tr>\n",
              "<tr><td>train_qrt_a6989_00006</td><td>PENDING </td><td>                </td><td style=\"text-align: right;\">         128</td><td style=\"text-align: right;\">      0  </td><td style=\"text-align: right;\">0.0012109  </td><td style=\"text-align: right;\">          60</td><td style=\"text-align: right;\">      </td><td style=\"text-align: right;\">                </td><td style=\"text-align: right;\">           </td><td style=\"text-align: right;\">          </td></tr>\n",
              "<tr><td>train_qrt_a6989_00007</td><td>PENDING </td><td>                </td><td style=\"text-align: right;\">         128</td><td style=\"text-align: right;\">      0.2</td><td style=\"text-align: right;\">0.0824483  </td><td style=\"text-align: right;\">         100</td><td style=\"text-align: right;\">      </td><td style=\"text-align: right;\">                </td><td style=\"text-align: right;\">           </td><td style=\"text-align: right;\">          </td></tr>\n",
              "<tr><td>train_qrt_a6989_00008</td><td>PENDING </td><td>                </td><td style=\"text-align: right;\">         128</td><td style=\"text-align: right;\">      0  </td><td style=\"text-align: right;\">3.30049e-05</td><td style=\"text-align: right;\">          40</td><td style=\"text-align: right;\">      </td><td style=\"text-align: right;\">                </td><td style=\"text-align: right;\">           </td><td style=\"text-align: right;\">          </td></tr>\n",
              "<tr><td>train_qrt_a6989_00009</td><td>PENDING </td><td>                </td><td style=\"text-align: right;\">         128</td><td style=\"text-align: right;\">      0.2</td><td style=\"text-align: right;\">0.000485717</td><td style=\"text-align: right;\">          40</td><td style=\"text-align: right;\">      </td><td style=\"text-align: right;\">                </td><td style=\"text-align: right;\">           </td><td style=\"text-align: right;\">          </td></tr>\n",
              "</tbody>\n",
              "</table><br><br>"
            ],
            "text/plain": [
              "<IPython.core.display.HTML object>"
            ]
          },
          "metadata": {},
          "output_type": "display_data"
        },
        {
          "name": "stdout",
          "output_type": "stream",
          "text": [
            "Result for train_qrt_a6989_00000:\n",
            "  cel_loss: 0.9744558334350586\n",
            "  date: 2022-07-16_21-17-33\n",
            "  done: false\n",
            "  experiment_id: d464be6c0f664d1283297b14baf160ef\n",
            "  hostname: f6468dcefdbf\n",
            "  iterations_since_restore: 16\n",
            "  mse_loss: 0.00027834612410515547\n",
            "  node_ip: 172.28.0.2\n",
            "  pid: 34666\n",
            "  time_since_restore: 19.930455923080444\n",
            "  time_this_iter_s: 0.6709854602813721\n",
            "  time_total_s: 19.930455923080444\n",
            "  timestamp: 1658006253\n",
            "  timesteps_since_restore: 0\n",
            "  training_iteration: 16\n",
            "  trial_id: a6989_00000\n",
            "  warmup_time: 0.004649162292480469\n",
            "  \n",
            "Result for train_qrt_a6989_00001:\n",
            "  cel_loss: 0.9463082551956177\n",
            "  date: 2022-07-16_21-17-34\n",
            "  done: false\n",
            "  experiment_id: 202a61d7a01e47dca4be579c9e2dac4a\n",
            "  hostname: f6468dcefdbf\n",
            "  iterations_since_restore: 11\n",
            "  mse_loss: 0.00045532890362665057\n",
            "  node_ip: 172.28.0.2\n",
            "  pid: 34701\n",
            "  time_since_restore: 14.66928243637085\n",
            "  time_this_iter_s: 0.45139455795288086\n",
            "  time_total_s: 14.66928243637085\n",
            "  timestamp: 1658006254\n",
            "  timesteps_since_restore: 0\n",
            "  training_iteration: 11\n",
            "  trial_id: a6989_00001\n",
            "  warmup_time: 0.005987644195556641\n",
            "  \n"
          ]
        },
        {
          "data": {
            "text/html": [
              "== Status ==<br>Current time: 2022-07-16 21:17:34 (running for 00:00:25.77)<br>Memory usage on this node: 2.3/12.7 GiB<br>Using FIFO scheduling algorithm.<br>Resources requested: 2.0/2 CPUs, 0/0 GPUs, 0.0/7.38 GiB heap, 0.0/3.69 GiB objects<br>Current best trial: a6989_00001 with cel_loss=0.9463082551956177 and parameters={'dropout': 0, 'num_epochs': 60, 'lr': 0.029271147456383234, 'batch_size': 64}<br>Result logdir: /root/ray_results/train_qrt_2022-07-16_21-17-08<br>Number of trials: 10/10 (8 PENDING, 2 RUNNING)<br><table>\n",
              "<thead>\n",
              "<tr><th>Trial name           </th><th>status  </th><th>loc             </th><th style=\"text-align: right;\">  batch_size</th><th style=\"text-align: right;\">  dropout</th><th style=\"text-align: right;\">         lr</th><th style=\"text-align: right;\">  num_epochs</th><th style=\"text-align: right;\">  iter</th><th style=\"text-align: right;\">  total time (s)</th><th style=\"text-align: right;\">   mse_loss</th><th style=\"text-align: right;\">  cel_loss</th></tr>\n",
              "</thead>\n",
              "<tbody>\n",
              "<tr><td>train_qrt_a6989_00000</td><td>RUNNING </td><td>172.28.0.2:34666</td><td style=\"text-align: right;\">          32</td><td style=\"text-align: right;\">      0.2</td><td style=\"text-align: right;\">1.91481e-05</td><td style=\"text-align: right;\">         100</td><td style=\"text-align: right;\">    17</td><td style=\"text-align: right;\">         20.6085</td><td style=\"text-align: right;\">0.000278297</td><td style=\"text-align: right;\">  0.974323</td></tr>\n",
              "<tr><td>train_qrt_a6989_00001</td><td>RUNNING </td><td>172.28.0.2:34701</td><td style=\"text-align: right;\">          64</td><td style=\"text-align: right;\">      0  </td><td style=\"text-align: right;\">0.0292711  </td><td style=\"text-align: right;\">          60</td><td style=\"text-align: right;\">    11</td><td style=\"text-align: right;\">         14.6693</td><td style=\"text-align: right;\">0.000455329</td><td style=\"text-align: right;\">  0.946308</td></tr>\n",
              "<tr><td>train_qrt_a6989_00002</td><td>PENDING </td><td>                </td><td style=\"text-align: right;\">          64</td><td style=\"text-align: right;\">      0  </td><td style=\"text-align: right;\">0.0764205  </td><td style=\"text-align: right;\">          40</td><td style=\"text-align: right;\">      </td><td style=\"text-align: right;\">                </td><td style=\"text-align: right;\">           </td><td style=\"text-align: right;\">          </td></tr>\n",
              "<tr><td>train_qrt_a6989_00003</td><td>PENDING </td><td>                </td><td style=\"text-align: right;\">          64</td><td style=\"text-align: right;\">      0  </td><td style=\"text-align: right;\">0.000105935</td><td style=\"text-align: right;\">          60</td><td style=\"text-align: right;\">      </td><td style=\"text-align: right;\">                </td><td style=\"text-align: right;\">           </td><td style=\"text-align: right;\">          </td></tr>\n",
              "<tr><td>train_qrt_a6989_00004</td><td>PENDING </td><td>                </td><td style=\"text-align: right;\">         128</td><td style=\"text-align: right;\">      0  </td><td style=\"text-align: right;\">0.0251209  </td><td style=\"text-align: right;\">          40</td><td style=\"text-align: right;\">      </td><td style=\"text-align: right;\">                </td><td style=\"text-align: right;\">           </td><td style=\"text-align: right;\">          </td></tr>\n",
              "<tr><td>train_qrt_a6989_00005</td><td>PENDING </td><td>                </td><td style=\"text-align: right;\">          64</td><td style=\"text-align: right;\">      0.2</td><td style=\"text-align: right;\">1.66108e-05</td><td style=\"text-align: right;\">          20</td><td style=\"text-align: right;\">      </td><td style=\"text-align: right;\">                </td><td style=\"text-align: right;\">           </td><td style=\"text-align: right;\">          </td></tr>\n",
              "<tr><td>train_qrt_a6989_00006</td><td>PENDING </td><td>                </td><td style=\"text-align: right;\">         128</td><td style=\"text-align: right;\">      0  </td><td style=\"text-align: right;\">0.0012109  </td><td style=\"text-align: right;\">          60</td><td style=\"text-align: right;\">      </td><td style=\"text-align: right;\">                </td><td style=\"text-align: right;\">           </td><td style=\"text-align: right;\">          </td></tr>\n",
              "<tr><td>train_qrt_a6989_00007</td><td>PENDING </td><td>                </td><td style=\"text-align: right;\">         128</td><td style=\"text-align: right;\">      0.2</td><td style=\"text-align: right;\">0.0824483  </td><td style=\"text-align: right;\">         100</td><td style=\"text-align: right;\">      </td><td style=\"text-align: right;\">                </td><td style=\"text-align: right;\">           </td><td style=\"text-align: right;\">          </td></tr>\n",
              "<tr><td>train_qrt_a6989_00008</td><td>PENDING </td><td>                </td><td style=\"text-align: right;\">         128</td><td style=\"text-align: right;\">      0  </td><td style=\"text-align: right;\">3.30049e-05</td><td style=\"text-align: right;\">          40</td><td style=\"text-align: right;\">      </td><td style=\"text-align: right;\">                </td><td style=\"text-align: right;\">           </td><td style=\"text-align: right;\">          </td></tr>\n",
              "<tr><td>train_qrt_a6989_00009</td><td>PENDING </td><td>                </td><td style=\"text-align: right;\">         128</td><td style=\"text-align: right;\">      0.2</td><td style=\"text-align: right;\">0.000485717</td><td style=\"text-align: right;\">          40</td><td style=\"text-align: right;\">      </td><td style=\"text-align: right;\">                </td><td style=\"text-align: right;\">           </td><td style=\"text-align: right;\">          </td></tr>\n",
              "</tbody>\n",
              "</table><br><br>"
            ],
            "text/plain": [
              "<IPython.core.display.HTML object>"
            ]
          },
          "metadata": {},
          "output_type": "display_data"
        },
        {
          "name": "stdout",
          "output_type": "stream",
          "text": [
            "Result for train_qrt_a6989_00000:\n",
            "  cel_loss: 0.973606526851654\n",
            "  date: 2022-07-16_21-17-39\n",
            "  done: false\n",
            "  experiment_id: d464be6c0f664d1283297b14baf160ef\n",
            "  hostname: f6468dcefdbf\n",
            "  iterations_since_restore: 23\n",
            "  mse_loss: 0.00027794070774689317\n",
            "  node_ip: 172.28.0.2\n",
            "  pid: 34666\n",
            "  time_since_restore: 25.458558559417725\n",
            "  time_this_iter_s: 1.1427762508392334\n",
            "  time_total_s: 25.458558559417725\n",
            "  timestamp: 1658006259\n",
            "  timesteps_since_restore: 0\n",
            "  training_iteration: 23\n",
            "  trial_id: a6989_00000\n",
            "  warmup_time: 0.004649162292480469\n",
            "  \n",
            "Result for train_qrt_a6989_00001:\n",
            "  cel_loss: 0.9466666579246521\n",
            "  date: 2022-07-16_21-17-39\n",
            "  done: false\n",
            "  experiment_id: 202a61d7a01e47dca4be579c9e2dac4a\n",
            "  hostname: f6468dcefdbf\n",
            "  iterations_since_restore: 20\n",
            "  mse_loss: 0.0004907987313345075\n",
            "  node_ip: 172.28.0.2\n",
            "  pid: 34701\n",
            "  time_since_restore: 19.82519769668579\n",
            "  time_this_iter_s: 0.8413050174713135\n",
            "  time_total_s: 19.82519769668579\n",
            "  timestamp: 1658006259\n",
            "  timesteps_since_restore: 0\n",
            "  training_iteration: 20\n",
            "  trial_id: a6989_00001\n",
            "  warmup_time: 0.005987644195556641\n",
            "  \n"
          ]
        },
        {
          "data": {
            "text/html": [
              "== Status ==<br>Current time: 2022-07-16 21:17:39 (running for 00:00:30.93)<br>Memory usage on this node: 2.3/12.7 GiB<br>Using FIFO scheduling algorithm.<br>Resources requested: 2.0/2 CPUs, 0/0 GPUs, 0.0/7.38 GiB heap, 0.0/3.69 GiB objects<br>Current best trial: a6989_00001 with cel_loss=0.9466666579246521 and parameters={'dropout': 0, 'num_epochs': 60, 'lr': 0.029271147456383234, 'batch_size': 64}<br>Result logdir: /root/ray_results/train_qrt_2022-07-16_21-17-08<br>Number of trials: 10/10 (8 PENDING, 2 RUNNING)<br><table>\n",
              "<thead>\n",
              "<tr><th>Trial name           </th><th>status  </th><th>loc             </th><th style=\"text-align: right;\">  batch_size</th><th style=\"text-align: right;\">  dropout</th><th style=\"text-align: right;\">         lr</th><th style=\"text-align: right;\">  num_epochs</th><th style=\"text-align: right;\">  iter</th><th style=\"text-align: right;\">  total time (s)</th><th style=\"text-align: right;\">   mse_loss</th><th style=\"text-align: right;\">  cel_loss</th></tr>\n",
              "</thead>\n",
              "<tbody>\n",
              "<tr><td>train_qrt_a6989_00000</td><td>RUNNING </td><td>172.28.0.2:34666</td><td style=\"text-align: right;\">          32</td><td style=\"text-align: right;\">      0.2</td><td style=\"text-align: right;\">1.91481e-05</td><td style=\"text-align: right;\">         100</td><td style=\"text-align: right;\">    23</td><td style=\"text-align: right;\">         25.4586</td><td style=\"text-align: right;\">0.000277941</td><td style=\"text-align: right;\">  0.973607</td></tr>\n",
              "<tr><td>train_qrt_a6989_00001</td><td>RUNNING </td><td>172.28.0.2:34701</td><td style=\"text-align: right;\">          64</td><td style=\"text-align: right;\">      0  </td><td style=\"text-align: right;\">0.0292711  </td><td style=\"text-align: right;\">          60</td><td style=\"text-align: right;\">    20</td><td style=\"text-align: right;\">         19.8252</td><td style=\"text-align: right;\">0.000490799</td><td style=\"text-align: right;\">  0.946667</td></tr>\n",
              "<tr><td>train_qrt_a6989_00002</td><td>PENDING </td><td>                </td><td style=\"text-align: right;\">          64</td><td style=\"text-align: right;\">      0  </td><td style=\"text-align: right;\">0.0764205  </td><td style=\"text-align: right;\">          40</td><td style=\"text-align: right;\">      </td><td style=\"text-align: right;\">                </td><td style=\"text-align: right;\">           </td><td style=\"text-align: right;\">          </td></tr>\n",
              "<tr><td>train_qrt_a6989_00003</td><td>PENDING </td><td>                </td><td style=\"text-align: right;\">          64</td><td style=\"text-align: right;\">      0  </td><td style=\"text-align: right;\">0.000105935</td><td style=\"text-align: right;\">          60</td><td style=\"text-align: right;\">      </td><td style=\"text-align: right;\">                </td><td style=\"text-align: right;\">           </td><td style=\"text-align: right;\">          </td></tr>\n",
              "<tr><td>train_qrt_a6989_00004</td><td>PENDING </td><td>                </td><td style=\"text-align: right;\">         128</td><td style=\"text-align: right;\">      0  </td><td style=\"text-align: right;\">0.0251209  </td><td style=\"text-align: right;\">          40</td><td style=\"text-align: right;\">      </td><td style=\"text-align: right;\">                </td><td style=\"text-align: right;\">           </td><td style=\"text-align: right;\">          </td></tr>\n",
              "<tr><td>train_qrt_a6989_00005</td><td>PENDING </td><td>                </td><td style=\"text-align: right;\">          64</td><td style=\"text-align: right;\">      0.2</td><td style=\"text-align: right;\">1.66108e-05</td><td style=\"text-align: right;\">          20</td><td style=\"text-align: right;\">      </td><td style=\"text-align: right;\">                </td><td style=\"text-align: right;\">           </td><td style=\"text-align: right;\">          </td></tr>\n",
              "<tr><td>train_qrt_a6989_00006</td><td>PENDING </td><td>                </td><td style=\"text-align: right;\">         128</td><td style=\"text-align: right;\">      0  </td><td style=\"text-align: right;\">0.0012109  </td><td style=\"text-align: right;\">          60</td><td style=\"text-align: right;\">      </td><td style=\"text-align: right;\">                </td><td style=\"text-align: right;\">           </td><td style=\"text-align: right;\">          </td></tr>\n",
              "<tr><td>train_qrt_a6989_00007</td><td>PENDING </td><td>                </td><td style=\"text-align: right;\">         128</td><td style=\"text-align: right;\">      0.2</td><td style=\"text-align: right;\">0.0824483  </td><td style=\"text-align: right;\">         100</td><td style=\"text-align: right;\">      </td><td style=\"text-align: right;\">                </td><td style=\"text-align: right;\">           </td><td style=\"text-align: right;\">          </td></tr>\n",
              "<tr><td>train_qrt_a6989_00008</td><td>PENDING </td><td>                </td><td style=\"text-align: right;\">         128</td><td style=\"text-align: right;\">      0  </td><td style=\"text-align: right;\">3.30049e-05</td><td style=\"text-align: right;\">          40</td><td style=\"text-align: right;\">      </td><td style=\"text-align: right;\">                </td><td style=\"text-align: right;\">           </td><td style=\"text-align: right;\">          </td></tr>\n",
              "<tr><td>train_qrt_a6989_00009</td><td>PENDING </td><td>                </td><td style=\"text-align: right;\">         128</td><td style=\"text-align: right;\">      0.2</td><td style=\"text-align: right;\">0.000485717</td><td style=\"text-align: right;\">          40</td><td style=\"text-align: right;\">      </td><td style=\"text-align: right;\">                </td><td style=\"text-align: right;\">           </td><td style=\"text-align: right;\">          </td></tr>\n",
              "</tbody>\n",
              "</table><br><br>"
            ],
            "text/plain": [
              "<IPython.core.display.HTML object>"
            ]
          },
          "metadata": {},
          "output_type": "display_data"
        },
        {
          "name": "stdout",
          "output_type": "stream",
          "text": [
            "Result for train_qrt_a6989_00000:\n",
            "  cel_loss: 0.9728947877883911\n",
            "  date: 2022-07-16_21-17-44\n",
            "  done: false\n",
            "  experiment_id: d464be6c0f664d1283297b14baf160ef\n",
            "  hostname: f6468dcefdbf\n",
            "  iterations_since_restore: 30\n",
            "  mse_loss: 0.0002775061293505132\n",
            "  node_ip: 172.28.0.2\n",
            "  pid: 34666\n",
            "  time_since_restore: 30.67206335067749\n",
            "  time_this_iter_s: 0.6923136711120605\n",
            "  time_total_s: 30.67206335067749\n",
            "  timestamp: 1658006264\n",
            "  timesteps_since_restore: 0\n",
            "  training_iteration: 30\n",
            "  trial_id: a6989_00000\n",
            "  warmup_time: 0.004649162292480469\n",
            "  \n",
            "Result for train_qrt_a6989_00001:\n",
            "  cel_loss: 0.9438616037368774\n",
            "  date: 2022-07-16_21-17-45\n",
            "  done: false\n",
            "  experiment_id: 202a61d7a01e47dca4be579c9e2dac4a\n",
            "  hostname: f6468dcefdbf\n",
            "  iterations_since_restore: 31\n",
            "  mse_loss: 0.000534535851329565\n",
            "  node_ip: 172.28.0.2\n",
            "  pid: 34701\n",
            "  time_since_restore: 25.18587851524353\n",
            "  time_this_iter_s: 0.4524352550506592\n",
            "  time_total_s: 25.18587851524353\n",
            "  timestamp: 1658006265\n",
            "  timesteps_since_restore: 0\n",
            "  training_iteration: 31\n",
            "  trial_id: a6989_00001\n",
            "  warmup_time: 0.005987644195556641\n",
            "  \n"
          ]
        },
        {
          "data": {
            "text/html": [
              "== Status ==<br>Current time: 2022-07-16 21:17:45 (running for 00:00:36.29)<br>Memory usage on this node: 2.3/12.7 GiB<br>Using FIFO scheduling algorithm.<br>Resources requested: 2.0/2 CPUs, 0/0 GPUs, 0.0/7.38 GiB heap, 0.0/3.69 GiB objects<br>Current best trial: a6989_00001 with cel_loss=0.9438616037368774 and parameters={'dropout': 0, 'num_epochs': 60, 'lr': 0.029271147456383234, 'batch_size': 64}<br>Result logdir: /root/ray_results/train_qrt_2022-07-16_21-17-08<br>Number of trials: 10/10 (8 PENDING, 2 RUNNING)<br><table>\n",
              "<thead>\n",
              "<tr><th>Trial name           </th><th>status  </th><th>loc             </th><th style=\"text-align: right;\">  batch_size</th><th style=\"text-align: right;\">  dropout</th><th style=\"text-align: right;\">         lr</th><th style=\"text-align: right;\">  num_epochs</th><th style=\"text-align: right;\">  iter</th><th style=\"text-align: right;\">  total time (s)</th><th style=\"text-align: right;\">   mse_loss</th><th style=\"text-align: right;\">  cel_loss</th></tr>\n",
              "</thead>\n",
              "<tbody>\n",
              "<tr><td>train_qrt_a6989_00000</td><td>RUNNING </td><td>172.28.0.2:34666</td><td style=\"text-align: right;\">          32</td><td style=\"text-align: right;\">      0.2</td><td style=\"text-align: right;\">1.91481e-05</td><td style=\"text-align: right;\">         100</td><td style=\"text-align: right;\">    30</td><td style=\"text-align: right;\">         30.6721</td><td style=\"text-align: right;\">0.000277506</td><td style=\"text-align: right;\">  0.972895</td></tr>\n",
              "<tr><td>train_qrt_a6989_00001</td><td>RUNNING </td><td>172.28.0.2:34701</td><td style=\"text-align: right;\">          64</td><td style=\"text-align: right;\">      0  </td><td style=\"text-align: right;\">0.0292711  </td><td style=\"text-align: right;\">          60</td><td style=\"text-align: right;\">    31</td><td style=\"text-align: right;\">         25.1859</td><td style=\"text-align: right;\">0.000534536</td><td style=\"text-align: right;\">  0.943862</td></tr>\n",
              "<tr><td>train_qrt_a6989_00002</td><td>PENDING </td><td>                </td><td style=\"text-align: right;\">          64</td><td style=\"text-align: right;\">      0  </td><td style=\"text-align: right;\">0.0764205  </td><td style=\"text-align: right;\">          40</td><td style=\"text-align: right;\">      </td><td style=\"text-align: right;\">                </td><td style=\"text-align: right;\">           </td><td style=\"text-align: right;\">          </td></tr>\n",
              "<tr><td>train_qrt_a6989_00003</td><td>PENDING </td><td>                </td><td style=\"text-align: right;\">          64</td><td style=\"text-align: right;\">      0  </td><td style=\"text-align: right;\">0.000105935</td><td style=\"text-align: right;\">          60</td><td style=\"text-align: right;\">      </td><td style=\"text-align: right;\">                </td><td style=\"text-align: right;\">           </td><td style=\"text-align: right;\">          </td></tr>\n",
              "<tr><td>train_qrt_a6989_00004</td><td>PENDING </td><td>                </td><td style=\"text-align: right;\">         128</td><td style=\"text-align: right;\">      0  </td><td style=\"text-align: right;\">0.0251209  </td><td style=\"text-align: right;\">          40</td><td style=\"text-align: right;\">      </td><td style=\"text-align: right;\">                </td><td style=\"text-align: right;\">           </td><td style=\"text-align: right;\">          </td></tr>\n",
              "<tr><td>train_qrt_a6989_00005</td><td>PENDING </td><td>                </td><td style=\"text-align: right;\">          64</td><td style=\"text-align: right;\">      0.2</td><td style=\"text-align: right;\">1.66108e-05</td><td style=\"text-align: right;\">          20</td><td style=\"text-align: right;\">      </td><td style=\"text-align: right;\">                </td><td style=\"text-align: right;\">           </td><td style=\"text-align: right;\">          </td></tr>\n",
              "<tr><td>train_qrt_a6989_00006</td><td>PENDING </td><td>                </td><td style=\"text-align: right;\">         128</td><td style=\"text-align: right;\">      0  </td><td style=\"text-align: right;\">0.0012109  </td><td style=\"text-align: right;\">          60</td><td style=\"text-align: right;\">      </td><td style=\"text-align: right;\">                </td><td style=\"text-align: right;\">           </td><td style=\"text-align: right;\">          </td></tr>\n",
              "<tr><td>train_qrt_a6989_00007</td><td>PENDING </td><td>                </td><td style=\"text-align: right;\">         128</td><td style=\"text-align: right;\">      0.2</td><td style=\"text-align: right;\">0.0824483  </td><td style=\"text-align: right;\">         100</td><td style=\"text-align: right;\">      </td><td style=\"text-align: right;\">                </td><td style=\"text-align: right;\">           </td><td style=\"text-align: right;\">          </td></tr>\n",
              "<tr><td>train_qrt_a6989_00008</td><td>PENDING </td><td>                </td><td style=\"text-align: right;\">         128</td><td style=\"text-align: right;\">      0  </td><td style=\"text-align: right;\">3.30049e-05</td><td style=\"text-align: right;\">          40</td><td style=\"text-align: right;\">      </td><td style=\"text-align: right;\">                </td><td style=\"text-align: right;\">           </td><td style=\"text-align: right;\">          </td></tr>\n",
              "<tr><td>train_qrt_a6989_00009</td><td>PENDING </td><td>                </td><td style=\"text-align: right;\">         128</td><td style=\"text-align: right;\">      0.2</td><td style=\"text-align: right;\">0.000485717</td><td style=\"text-align: right;\">          40</td><td style=\"text-align: right;\">      </td><td style=\"text-align: right;\">                </td><td style=\"text-align: right;\">           </td><td style=\"text-align: right;\">          </td></tr>\n",
              "</tbody>\n",
              "</table><br><br>"
            ],
            "text/plain": [
              "<IPython.core.display.HTML object>"
            ]
          },
          "metadata": {},
          "output_type": "display_data"
        },
        {
          "name": "stdout",
          "output_type": "stream",
          "text": [
            "Result for train_qrt_a6989_00000:\n",
            "  cel_loss: 0.971780002117157\n",
            "  date: 2022-07-16_21-17-50\n",
            "  done: false\n",
            "  experiment_id: d464be6c0f664d1283297b14baf160ef\n",
            "  hostname: f6468dcefdbf\n",
            "  iterations_since_restore: 39\n",
            "  mse_loss: 0.00027694820892065763\n",
            "  node_ip: 172.28.0.2\n",
            "  pid: 34666\n",
            "  time_since_restore: 36.3092041015625\n",
            "  time_this_iter_s: 0.6385037899017334\n",
            "  time_total_s: 36.3092041015625\n",
            "  timestamp: 1658006270\n",
            "  timesteps_since_restore: 0\n",
            "  training_iteration: 39\n",
            "  trial_id: a6989_00000\n",
            "  warmup_time: 0.004649162292480469\n",
            "  \n"
          ]
        },
        {
          "data": {
            "text/html": [
              "== Status ==<br>Current time: 2022-07-16 21:17:50 (running for 00:00:41.33)<br>Memory usage on this node: 2.3/12.7 GiB<br>Using FIFO scheduling algorithm.<br>Resources requested: 2.0/2 CPUs, 0/0 GPUs, 0.0/7.38 GiB heap, 0.0/3.69 GiB objects<br>Current best trial: a6989_00001 with cel_loss=0.9480695128440857 and parameters={'dropout': 0, 'num_epochs': 60, 'lr': 0.029271147456383234, 'batch_size': 64}<br>Result logdir: /root/ray_results/train_qrt_2022-07-16_21-17-08<br>Number of trials: 10/10 (8 PENDING, 2 RUNNING)<br><table>\n",
              "<thead>\n",
              "<tr><th>Trial name           </th><th>status  </th><th>loc             </th><th style=\"text-align: right;\">  batch_size</th><th style=\"text-align: right;\">  dropout</th><th style=\"text-align: right;\">         lr</th><th style=\"text-align: right;\">  num_epochs</th><th style=\"text-align: right;\">  iter</th><th style=\"text-align: right;\">  total time (s)</th><th style=\"text-align: right;\">   mse_loss</th><th style=\"text-align: right;\">  cel_loss</th></tr>\n",
              "</thead>\n",
              "<tbody>\n",
              "<tr><td>train_qrt_a6989_00000</td><td>RUNNING </td><td>172.28.0.2:34666</td><td style=\"text-align: right;\">          32</td><td style=\"text-align: right;\">      0.2</td><td style=\"text-align: right;\">1.91481e-05</td><td style=\"text-align: right;\">         100</td><td style=\"text-align: right;\">    39</td><td style=\"text-align: right;\">         36.3092</td><td style=\"text-align: right;\">0.000276948</td><td style=\"text-align: right;\">   0.97178</td></tr>\n",
              "<tr><td>train_qrt_a6989_00001</td><td>RUNNING </td><td>172.28.0.2:34701</td><td style=\"text-align: right;\">          64</td><td style=\"text-align: right;\">      0  </td><td style=\"text-align: right;\">0.0292711  </td><td style=\"text-align: right;\">          60</td><td style=\"text-align: right;\">    42</td><td style=\"text-align: right;\">         30.1015</td><td style=\"text-align: right;\">0.000573415</td><td style=\"text-align: right;\">   0.94807</td></tr>\n",
              "<tr><td>train_qrt_a6989_00002</td><td>PENDING </td><td>                </td><td style=\"text-align: right;\">          64</td><td style=\"text-align: right;\">      0  </td><td style=\"text-align: right;\">0.0764205  </td><td style=\"text-align: right;\">          40</td><td style=\"text-align: right;\">      </td><td style=\"text-align: right;\">                </td><td style=\"text-align: right;\">           </td><td style=\"text-align: right;\">          </td></tr>\n",
              "<tr><td>train_qrt_a6989_00003</td><td>PENDING </td><td>                </td><td style=\"text-align: right;\">          64</td><td style=\"text-align: right;\">      0  </td><td style=\"text-align: right;\">0.000105935</td><td style=\"text-align: right;\">          60</td><td style=\"text-align: right;\">      </td><td style=\"text-align: right;\">                </td><td style=\"text-align: right;\">           </td><td style=\"text-align: right;\">          </td></tr>\n",
              "<tr><td>train_qrt_a6989_00004</td><td>PENDING </td><td>                </td><td style=\"text-align: right;\">         128</td><td style=\"text-align: right;\">      0  </td><td style=\"text-align: right;\">0.0251209  </td><td style=\"text-align: right;\">          40</td><td style=\"text-align: right;\">      </td><td style=\"text-align: right;\">                </td><td style=\"text-align: right;\">           </td><td style=\"text-align: right;\">          </td></tr>\n",
              "<tr><td>train_qrt_a6989_00005</td><td>PENDING </td><td>                </td><td style=\"text-align: right;\">          64</td><td style=\"text-align: right;\">      0.2</td><td style=\"text-align: right;\">1.66108e-05</td><td style=\"text-align: right;\">          20</td><td style=\"text-align: right;\">      </td><td style=\"text-align: right;\">                </td><td style=\"text-align: right;\">           </td><td style=\"text-align: right;\">          </td></tr>\n",
              "<tr><td>train_qrt_a6989_00006</td><td>PENDING </td><td>                </td><td style=\"text-align: right;\">         128</td><td style=\"text-align: right;\">      0  </td><td style=\"text-align: right;\">0.0012109  </td><td style=\"text-align: right;\">          60</td><td style=\"text-align: right;\">      </td><td style=\"text-align: right;\">                </td><td style=\"text-align: right;\">           </td><td style=\"text-align: right;\">          </td></tr>\n",
              "<tr><td>train_qrt_a6989_00007</td><td>PENDING </td><td>                </td><td style=\"text-align: right;\">         128</td><td style=\"text-align: right;\">      0.2</td><td style=\"text-align: right;\">0.0824483  </td><td style=\"text-align: right;\">         100</td><td style=\"text-align: right;\">      </td><td style=\"text-align: right;\">                </td><td style=\"text-align: right;\">           </td><td style=\"text-align: right;\">          </td></tr>\n",
              "<tr><td>train_qrt_a6989_00008</td><td>PENDING </td><td>                </td><td style=\"text-align: right;\">         128</td><td style=\"text-align: right;\">      0  </td><td style=\"text-align: right;\">3.30049e-05</td><td style=\"text-align: right;\">          40</td><td style=\"text-align: right;\">      </td><td style=\"text-align: right;\">                </td><td style=\"text-align: right;\">           </td><td style=\"text-align: right;\">          </td></tr>\n",
              "<tr><td>train_qrt_a6989_00009</td><td>PENDING </td><td>                </td><td style=\"text-align: right;\">         128</td><td style=\"text-align: right;\">      0.2</td><td style=\"text-align: right;\">0.000485717</td><td style=\"text-align: right;\">          40</td><td style=\"text-align: right;\">      </td><td style=\"text-align: right;\">                </td><td style=\"text-align: right;\">           </td><td style=\"text-align: right;\">          </td></tr>\n",
              "</tbody>\n",
              "</table><br><br>"
            ],
            "text/plain": [
              "<IPython.core.display.HTML object>"
            ]
          },
          "metadata": {},
          "output_type": "display_data"
        },
        {
          "name": "stdout",
          "output_type": "stream",
          "text": [
            "Result for train_qrt_a6989_00001:\n",
            "  cel_loss: 0.9414224028587341\n",
            "  date: 2022-07-16_21-17-50\n",
            "  done: false\n",
            "  experiment_id: 202a61d7a01e47dca4be579c9e2dac4a\n",
            "  hostname: f6468dcefdbf\n",
            "  iterations_since_restore: 43\n",
            "  mse_loss: 0.0005780321662314236\n",
            "  node_ip: 172.28.0.2\n",
            "  pid: 34701\n",
            "  time_since_restore: 30.55418634414673\n",
            "  time_this_iter_s: 0.452725887298584\n",
            "  time_total_s: 30.55418634414673\n",
            "  timestamp: 1658006270\n",
            "  timesteps_since_restore: 0\n",
            "  training_iteration: 43\n",
            "  trial_id: a6989_00001\n",
            "  warmup_time: 0.005987644195556641\n",
            "  \n",
            "Result for train_qrt_a6989_00001:\n",
            "  cel_loss: 0.9409864544868469\n",
            "  date: 2022-07-16_21-17-55\n",
            "  done: false\n",
            "  experiment_id: 202a61d7a01e47dca4be579c9e2dac4a\n",
            "  hostname: f6468dcefdbf\n",
            "  iterations_since_restore: 54\n",
            "  mse_loss: 0.0006151796551421285\n",
            "  node_ip: 172.28.0.2\n",
            "  pid: 34701\n",
            "  time_since_restore: 35.58716821670532\n",
            "  time_this_iter_s: 0.4209103584289551\n",
            "  time_total_s: 35.58716821670532\n",
            "  timestamp: 1658006275\n",
            "  timesteps_since_restore: 0\n",
            "  training_iteration: 54\n",
            "  trial_id: a6989_00001\n",
            "  warmup_time: 0.005987644195556641\n",
            "  \n"
          ]
        },
        {
          "data": {
            "text/html": [
              "== Status ==<br>Current time: 2022-07-16 21:17:55 (running for 00:00:46.69)<br>Memory usage on this node: 2.3/12.7 GiB<br>Using FIFO scheduling algorithm.<br>Resources requested: 2.0/2 CPUs, 0/0 GPUs, 0.0/7.38 GiB heap, 0.0/3.69 GiB objects<br>Current best trial: a6989_00001 with cel_loss=0.9409864544868469 and parameters={'dropout': 0, 'num_epochs': 60, 'lr': 0.029271147456383234, 'batch_size': 64}<br>Result logdir: /root/ray_results/train_qrt_2022-07-16_21-17-08<br>Number of trials: 10/10 (8 PENDING, 2 RUNNING)<br><table>\n",
              "<thead>\n",
              "<tr><th>Trial name           </th><th>status  </th><th>loc             </th><th style=\"text-align: right;\">  batch_size</th><th style=\"text-align: right;\">  dropout</th><th style=\"text-align: right;\">         lr</th><th style=\"text-align: right;\">  num_epochs</th><th style=\"text-align: right;\">  iter</th><th style=\"text-align: right;\">  total time (s)</th><th style=\"text-align: right;\">   mse_loss</th><th style=\"text-align: right;\">  cel_loss</th></tr>\n",
              "</thead>\n",
              "<tbody>\n",
              "<tr><td>train_qrt_a6989_00000</td><td>RUNNING </td><td>172.28.0.2:34666</td><td style=\"text-align: right;\">          32</td><td style=\"text-align: right;\">      0.2</td><td style=\"text-align: right;\">1.91481e-05</td><td style=\"text-align: right;\">         100</td><td style=\"text-align: right;\">    47</td><td style=\"text-align: right;\">         41.3017</td><td style=\"text-align: right;\">0.000276437</td><td style=\"text-align: right;\">  0.970686</td></tr>\n",
              "<tr><td>train_qrt_a6989_00001</td><td>RUNNING </td><td>172.28.0.2:34701</td><td style=\"text-align: right;\">          64</td><td style=\"text-align: right;\">      0  </td><td style=\"text-align: right;\">0.0292711  </td><td style=\"text-align: right;\">          60</td><td style=\"text-align: right;\">    54</td><td style=\"text-align: right;\">         35.5872</td><td style=\"text-align: right;\">0.00061518 </td><td style=\"text-align: right;\">  0.940986</td></tr>\n",
              "<tr><td>train_qrt_a6989_00002</td><td>PENDING </td><td>                </td><td style=\"text-align: right;\">          64</td><td style=\"text-align: right;\">      0  </td><td style=\"text-align: right;\">0.0764205  </td><td style=\"text-align: right;\">          40</td><td style=\"text-align: right;\">      </td><td style=\"text-align: right;\">                </td><td style=\"text-align: right;\">           </td><td style=\"text-align: right;\">          </td></tr>\n",
              "<tr><td>train_qrt_a6989_00003</td><td>PENDING </td><td>                </td><td style=\"text-align: right;\">          64</td><td style=\"text-align: right;\">      0  </td><td style=\"text-align: right;\">0.000105935</td><td style=\"text-align: right;\">          60</td><td style=\"text-align: right;\">      </td><td style=\"text-align: right;\">                </td><td style=\"text-align: right;\">           </td><td style=\"text-align: right;\">          </td></tr>\n",
              "<tr><td>train_qrt_a6989_00004</td><td>PENDING </td><td>                </td><td style=\"text-align: right;\">         128</td><td style=\"text-align: right;\">      0  </td><td style=\"text-align: right;\">0.0251209  </td><td style=\"text-align: right;\">          40</td><td style=\"text-align: right;\">      </td><td style=\"text-align: right;\">                </td><td style=\"text-align: right;\">           </td><td style=\"text-align: right;\">          </td></tr>\n",
              "<tr><td>train_qrt_a6989_00005</td><td>PENDING </td><td>                </td><td style=\"text-align: right;\">          64</td><td style=\"text-align: right;\">      0.2</td><td style=\"text-align: right;\">1.66108e-05</td><td style=\"text-align: right;\">          20</td><td style=\"text-align: right;\">      </td><td style=\"text-align: right;\">                </td><td style=\"text-align: right;\">           </td><td style=\"text-align: right;\">          </td></tr>\n",
              "<tr><td>train_qrt_a6989_00006</td><td>PENDING </td><td>                </td><td style=\"text-align: right;\">         128</td><td style=\"text-align: right;\">      0  </td><td style=\"text-align: right;\">0.0012109  </td><td style=\"text-align: right;\">          60</td><td style=\"text-align: right;\">      </td><td style=\"text-align: right;\">                </td><td style=\"text-align: right;\">           </td><td style=\"text-align: right;\">          </td></tr>\n",
              "<tr><td>train_qrt_a6989_00007</td><td>PENDING </td><td>                </td><td style=\"text-align: right;\">         128</td><td style=\"text-align: right;\">      0.2</td><td style=\"text-align: right;\">0.0824483  </td><td style=\"text-align: right;\">         100</td><td style=\"text-align: right;\">      </td><td style=\"text-align: right;\">                </td><td style=\"text-align: right;\">           </td><td style=\"text-align: right;\">          </td></tr>\n",
              "<tr><td>train_qrt_a6989_00008</td><td>PENDING </td><td>                </td><td style=\"text-align: right;\">         128</td><td style=\"text-align: right;\">      0  </td><td style=\"text-align: right;\">3.30049e-05</td><td style=\"text-align: right;\">          40</td><td style=\"text-align: right;\">      </td><td style=\"text-align: right;\">                </td><td style=\"text-align: right;\">           </td><td style=\"text-align: right;\">          </td></tr>\n",
              "<tr><td>train_qrt_a6989_00009</td><td>PENDING </td><td>                </td><td style=\"text-align: right;\">         128</td><td style=\"text-align: right;\">      0.2</td><td style=\"text-align: right;\">0.000485717</td><td style=\"text-align: right;\">          40</td><td style=\"text-align: right;\">      </td><td style=\"text-align: right;\">                </td><td style=\"text-align: right;\">           </td><td style=\"text-align: right;\">          </td></tr>\n",
              "</tbody>\n",
              "</table><br><br>"
            ],
            "text/plain": [
              "<IPython.core.display.HTML object>"
            ]
          },
          "metadata": {},
          "output_type": "display_data"
        },
        {
          "name": "stdout",
          "output_type": "stream",
          "text": [
            "Result for train_qrt_a6989_00000:\n",
            "  cel_loss: 0.9706031084060669\n",
            "  date: 2022-07-16_21-17-55\n",
            "  done: false\n",
            "  experiment_id: d464be6c0f664d1283297b14baf160ef\n",
            "  hostname: f6468dcefdbf\n",
            "  iterations_since_restore: 48\n",
            "  mse_loss: 0.00027639270410872996\n",
            "  node_ip: 172.28.0.2\n",
            "  pid: 34666\n",
            "  time_since_restore: 42.01111578941345\n",
            "  time_this_iter_s: 0.709458589553833\n",
            "  time_total_s: 42.01111578941345\n",
            "  timestamp: 1658006275\n",
            "  timesteps_since_restore: 0\n",
            "  training_iteration: 48\n",
            "  trial_id: a6989_00000\n",
            "  warmup_time: 0.004649162292480469\n",
            "  \n",
            "Result for train_qrt_a6989_00001:\n",
            "  cel_loss: 0.9470890164375305\n",
            "  date: 2022-07-16_21-17-59\n",
            "  done: true\n",
            "  experiment_id: 202a61d7a01e47dca4be579c9e2dac4a\n",
            "  experiment_tag: 1_batch_size=64,dropout=0,lr=0.0293,num_epochs=60\n",
            "  hostname: f6468dcefdbf\n",
            "  iterations_since_restore: 60\n",
            "  mse_loss: 0.000634045572951436\n",
            "  node_ip: 172.28.0.2\n",
            "  pid: 34701\n",
            "  time_since_restore: 39.28978633880615\n",
            "  time_this_iter_s: 0.9628603458404541\n",
            "  time_total_s: 39.28978633880615\n",
            "  timestamp: 1658006279\n",
            "  timesteps_since_restore: 0\n",
            "  training_iteration: 60\n",
            "  trial_id: a6989_00001\n",
            "  warmup_time: 0.005987644195556641\n",
            "  \n"
          ]
        },
        {
          "name": "stderr",
          "output_type": "stream",
          "text": [
            "\u001b[2m\u001b[36m(train_qrt pid=34701)\u001b[0m GPU available: False, used: False\n",
            "\u001b[2m\u001b[36m(train_qrt pid=34701)\u001b[0m TPU available: False, using: 0 TPU cores\n",
            "\u001b[2m\u001b[36m(train_qrt pid=34701)\u001b[0m IPU available: False, using: 0 IPUs\n",
            "\u001b[2m\u001b[36m(train_qrt pid=34701)\u001b[0m HPU available: False, using: 0 HPUs\n",
            "\u001b[2m\u001b[36m(train_qrt pid=34701)\u001b[0m Missing logger folder: /root/ray_results/train_qrt_2022-07-16_21-17-08/train_qrt_a6989_00002_2_batch_size=64,dropout=0,lr=0.0764,num_epochs=40_2022-07-16_21-17-59/lightning_logs\n"
          ]
        },
        {
          "data": {
            "text/html": [
              "== Status ==<br>Current time: 2022-07-16 21:18:00 (running for 00:00:51.93)<br>Memory usage on this node: 2.2/12.7 GiB<br>Using FIFO scheduling algorithm.<br>Resources requested: 2.0/2 CPUs, 0/0 GPUs, 0.0/7.38 GiB heap, 0.0/3.69 GiB objects<br>Current best trial: a6989_00001 with cel_loss=0.9470890164375305 and parameters={'dropout': 0, 'num_epochs': 60, 'lr': 0.029271147456383234, 'batch_size': 64}<br>Result logdir: /root/ray_results/train_qrt_2022-07-16_21-17-08<br>Number of trials: 10/10 (7 PENDING, 2 RUNNING, 1 TERMINATED)<br><table>\n",
              "<thead>\n",
              "<tr><th>Trial name           </th><th>status    </th><th>loc             </th><th style=\"text-align: right;\">  batch_size</th><th style=\"text-align: right;\">  dropout</th><th style=\"text-align: right;\">         lr</th><th style=\"text-align: right;\">  num_epochs</th><th style=\"text-align: right;\">  iter</th><th style=\"text-align: right;\">  total time (s)</th><th style=\"text-align: right;\">   mse_loss</th><th style=\"text-align: right;\">  cel_loss</th></tr>\n",
              "</thead>\n",
              "<tbody>\n",
              "<tr><td>train_qrt_a6989_00000</td><td>RUNNING   </td><td>172.28.0.2:34666</td><td style=\"text-align: right;\">          32</td><td style=\"text-align: right;\">      0.2</td><td style=\"text-align: right;\">1.91481e-05</td><td style=\"text-align: right;\">         100</td><td style=\"text-align: right;\">    54</td><td style=\"text-align: right;\">         46.915 </td><td style=\"text-align: right;\">0.000276031</td><td style=\"text-align: right;\">  0.970034</td></tr>\n",
              "<tr><td>train_qrt_a6989_00002</td><td>RUNNING   </td><td>172.28.0.2:34701</td><td style=\"text-align: right;\">          64</td><td style=\"text-align: right;\">      0  </td><td style=\"text-align: right;\">0.0764205  </td><td style=\"text-align: right;\">          40</td><td style=\"text-align: right;\">      </td><td style=\"text-align: right;\">                </td><td style=\"text-align: right;\">           </td><td style=\"text-align: right;\">          </td></tr>\n",
              "<tr><td>train_qrt_a6989_00003</td><td>PENDING   </td><td>                </td><td style=\"text-align: right;\">          64</td><td style=\"text-align: right;\">      0  </td><td style=\"text-align: right;\">0.000105935</td><td style=\"text-align: right;\">          60</td><td style=\"text-align: right;\">      </td><td style=\"text-align: right;\">                </td><td style=\"text-align: right;\">           </td><td style=\"text-align: right;\">          </td></tr>\n",
              "<tr><td>train_qrt_a6989_00004</td><td>PENDING   </td><td>                </td><td style=\"text-align: right;\">         128</td><td style=\"text-align: right;\">      0  </td><td style=\"text-align: right;\">0.0251209  </td><td style=\"text-align: right;\">          40</td><td style=\"text-align: right;\">      </td><td style=\"text-align: right;\">                </td><td style=\"text-align: right;\">           </td><td style=\"text-align: right;\">          </td></tr>\n",
              "<tr><td>train_qrt_a6989_00005</td><td>PENDING   </td><td>                </td><td style=\"text-align: right;\">          64</td><td style=\"text-align: right;\">      0.2</td><td style=\"text-align: right;\">1.66108e-05</td><td style=\"text-align: right;\">          20</td><td style=\"text-align: right;\">      </td><td style=\"text-align: right;\">                </td><td style=\"text-align: right;\">           </td><td style=\"text-align: right;\">          </td></tr>\n",
              "<tr><td>train_qrt_a6989_00006</td><td>PENDING   </td><td>                </td><td style=\"text-align: right;\">         128</td><td style=\"text-align: right;\">      0  </td><td style=\"text-align: right;\">0.0012109  </td><td style=\"text-align: right;\">          60</td><td style=\"text-align: right;\">      </td><td style=\"text-align: right;\">                </td><td style=\"text-align: right;\">           </td><td style=\"text-align: right;\">          </td></tr>\n",
              "<tr><td>train_qrt_a6989_00007</td><td>PENDING   </td><td>                </td><td style=\"text-align: right;\">         128</td><td style=\"text-align: right;\">      0.2</td><td style=\"text-align: right;\">0.0824483  </td><td style=\"text-align: right;\">         100</td><td style=\"text-align: right;\">      </td><td style=\"text-align: right;\">                </td><td style=\"text-align: right;\">           </td><td style=\"text-align: right;\">          </td></tr>\n",
              "<tr><td>train_qrt_a6989_00008</td><td>PENDING   </td><td>                </td><td style=\"text-align: right;\">         128</td><td style=\"text-align: right;\">      0  </td><td style=\"text-align: right;\">3.30049e-05</td><td style=\"text-align: right;\">          40</td><td style=\"text-align: right;\">      </td><td style=\"text-align: right;\">                </td><td style=\"text-align: right;\">           </td><td style=\"text-align: right;\">          </td></tr>\n",
              "<tr><td>train_qrt_a6989_00009</td><td>PENDING   </td><td>                </td><td style=\"text-align: right;\">         128</td><td style=\"text-align: right;\">      0.2</td><td style=\"text-align: right;\">0.000485717</td><td style=\"text-align: right;\">          40</td><td style=\"text-align: right;\">      </td><td style=\"text-align: right;\">                </td><td style=\"text-align: right;\">           </td><td style=\"text-align: right;\">          </td></tr>\n",
              "<tr><td>train_qrt_a6989_00001</td><td>TERMINATED</td><td>172.28.0.2:34701</td><td style=\"text-align: right;\">          64</td><td style=\"text-align: right;\">      0  </td><td style=\"text-align: right;\">0.0292711  </td><td style=\"text-align: right;\">          60</td><td style=\"text-align: right;\">    60</td><td style=\"text-align: right;\">         39.2898</td><td style=\"text-align: right;\">0.000634046</td><td style=\"text-align: right;\">  0.947089</td></tr>\n",
              "</tbody>\n",
              "</table><br><br>"
            ],
            "text/plain": [
              "<IPython.core.display.HTML object>"
            ]
          },
          "metadata": {},
          "output_type": "display_data"
        },
        {
          "name": "stdout",
          "output_type": "stream",
          "text": [
            "Result for train_qrt_a6989_00000:\n",
            "  cel_loss: 0.9698982834815979\n",
            "  date: 2022-07-16_21-18-01\n",
            "  done: false\n",
            "  experiment_id: d464be6c0f664d1283297b14baf160ef\n",
            "  hostname: f6468dcefdbf\n",
            "  iterations_since_restore: 55\n",
            "  mse_loss: 0.0002759576600510627\n",
            "  node_ip: 172.28.0.2\n",
            "  pid: 34666\n",
            "  time_since_restore: 47.5513756275177\n",
            "  time_this_iter_s: 0.6363887786865234\n",
            "  time_total_s: 47.5513756275177\n",
            "  timestamp: 1658006281\n",
            "  timesteps_since_restore: 0\n",
            "  training_iteration: 55\n",
            "  trial_id: a6989_00000\n",
            "  warmup_time: 0.004649162292480469\n",
            "  \n"
          ]
        },
        {
          "name": "stderr",
          "output_type": "stream",
          "text": [
            "\u001b[2m\u001b[36m(train_qrt pid=34701)\u001b[0m \n",
            "\u001b[2m\u001b[36m(train_qrt pid=34701)\u001b[0m   | Name     | Type                | Params\n",
            "\u001b[2m\u001b[36m(train_qrt pid=34701)\u001b[0m -------------------------------------------------\n",
            "\u001b[2m\u001b[36m(train_qrt pid=34701)\u001b[0m 0 | model    | Model               | 2.5 K \n",
            "\u001b[2m\u001b[36m(train_qrt pid=34701)\u001b[0m 1 | cel_loss | CosineEmbeddingLoss | 0     \n",
            "\u001b[2m\u001b[36m(train_qrt pid=34701)\u001b[0m 2 | mse_loss | MSELoss             | 0     \n",
            "\u001b[2m\u001b[36m(train_qrt pid=34701)\u001b[0m -------------------------------------------------\n",
            "\u001b[2m\u001b[36m(train_qrt pid=34701)\u001b[0m 2.5 K     Trainable params\n",
            "\u001b[2m\u001b[36m(train_qrt pid=34701)\u001b[0m 0         Non-trainable params\n",
            "\u001b[2m\u001b[36m(train_qrt pid=34701)\u001b[0m 2.5 K     Total params\n",
            "\u001b[2m\u001b[36m(train_qrt pid=34701)\u001b[0m 0.010     Total estimated model params size (MB)\n"
          ]
        },
        {
          "name": "stdout",
          "output_type": "stream",
          "text": [
            "Result for train_qrt_a6989_00002:\n",
            "  cel_loss: 0.9578307271003723\n",
            "  date: 2022-07-16_21-18-05\n",
            "  done: false\n",
            "  experiment_id: 202a61d7a01e47dca4be579c9e2dac4a\n",
            "  hostname: f6468dcefdbf\n",
            "  iterations_since_restore: 1\n",
            "  mse_loss: 0.0004803618649020791\n",
            "  node_ip: 172.28.0.2\n",
            "  pid: 34701\n",
            "  time_since_restore: 5.754257440567017\n",
            "  time_this_iter_s: 5.754257440567017\n",
            "  time_total_s: 5.754257440567017\n",
            "  timestamp: 1658006285\n",
            "  timesteps_since_restore: 0\n",
            "  training_iteration: 1\n",
            "  trial_id: a6989_00002\n",
            "  warmup_time: 0.005987644195556641\n",
            "  \n"
          ]
        },
        {
          "data": {
            "text/html": [
              "== Status ==<br>Current time: 2022-07-16 21:18:05 (running for 00:00:56.97)<br>Memory usage on this node: 2.3/12.7 GiB<br>Using FIFO scheduling algorithm.<br>Resources requested: 2.0/2 CPUs, 0/0 GPUs, 0.0/7.38 GiB heap, 0.0/3.69 GiB objects<br>Current best trial: a6989_00001 with cel_loss=0.9470890164375305 and parameters={'dropout': 0, 'num_epochs': 60, 'lr': 0.029271147456383234, 'batch_size': 64}<br>Result logdir: /root/ray_results/train_qrt_2022-07-16_21-17-08<br>Number of trials: 10/10 (7 PENDING, 2 RUNNING, 1 TERMINATED)<br><table>\n",
              "<thead>\n",
              "<tr><th>Trial name           </th><th>status    </th><th>loc             </th><th style=\"text-align: right;\">  batch_size</th><th style=\"text-align: right;\">  dropout</th><th style=\"text-align: right;\">         lr</th><th style=\"text-align: right;\">  num_epochs</th><th style=\"text-align: right;\">  iter</th><th style=\"text-align: right;\">  total time (s)</th><th style=\"text-align: right;\">   mse_loss</th><th style=\"text-align: right;\">  cel_loss</th></tr>\n",
              "</thead>\n",
              "<tbody>\n",
              "<tr><td>train_qrt_a6989_00000</td><td>RUNNING   </td><td>172.28.0.2:34666</td><td style=\"text-align: right;\">          32</td><td style=\"text-align: right;\">      0.2</td><td style=\"text-align: right;\">1.91481e-05</td><td style=\"text-align: right;\">         100</td><td style=\"text-align: right;\">    62</td><td style=\"text-align: right;\">        51.9587 </td><td style=\"text-align: right;\">0.000275524</td><td style=\"text-align: right;\">  0.969352</td></tr>\n",
              "<tr><td>train_qrt_a6989_00002</td><td>RUNNING   </td><td>172.28.0.2:34701</td><td style=\"text-align: right;\">          64</td><td style=\"text-align: right;\">      0  </td><td style=\"text-align: right;\">0.0764205  </td><td style=\"text-align: right;\">          40</td><td style=\"text-align: right;\">     2</td><td style=\"text-align: right;\">         6.20723</td><td style=\"text-align: right;\">0.000640122</td><td style=\"text-align: right;\">  0.955725</td></tr>\n",
              "<tr><td>train_qrt_a6989_00003</td><td>PENDING   </td><td>                </td><td style=\"text-align: right;\">          64</td><td style=\"text-align: right;\">      0  </td><td style=\"text-align: right;\">0.000105935</td><td style=\"text-align: right;\">          60</td><td style=\"text-align: right;\">      </td><td style=\"text-align: right;\">                </td><td style=\"text-align: right;\">           </td><td style=\"text-align: right;\">          </td></tr>\n",
              "<tr><td>train_qrt_a6989_00004</td><td>PENDING   </td><td>                </td><td style=\"text-align: right;\">         128</td><td style=\"text-align: right;\">      0  </td><td style=\"text-align: right;\">0.0251209  </td><td style=\"text-align: right;\">          40</td><td style=\"text-align: right;\">      </td><td style=\"text-align: right;\">                </td><td style=\"text-align: right;\">           </td><td style=\"text-align: right;\">          </td></tr>\n",
              "<tr><td>train_qrt_a6989_00005</td><td>PENDING   </td><td>                </td><td style=\"text-align: right;\">          64</td><td style=\"text-align: right;\">      0.2</td><td style=\"text-align: right;\">1.66108e-05</td><td style=\"text-align: right;\">          20</td><td style=\"text-align: right;\">      </td><td style=\"text-align: right;\">                </td><td style=\"text-align: right;\">           </td><td style=\"text-align: right;\">          </td></tr>\n",
              "<tr><td>train_qrt_a6989_00006</td><td>PENDING   </td><td>                </td><td style=\"text-align: right;\">         128</td><td style=\"text-align: right;\">      0  </td><td style=\"text-align: right;\">0.0012109  </td><td style=\"text-align: right;\">          60</td><td style=\"text-align: right;\">      </td><td style=\"text-align: right;\">                </td><td style=\"text-align: right;\">           </td><td style=\"text-align: right;\">          </td></tr>\n",
              "<tr><td>train_qrt_a6989_00007</td><td>PENDING   </td><td>                </td><td style=\"text-align: right;\">         128</td><td style=\"text-align: right;\">      0.2</td><td style=\"text-align: right;\">0.0824483  </td><td style=\"text-align: right;\">         100</td><td style=\"text-align: right;\">      </td><td style=\"text-align: right;\">                </td><td style=\"text-align: right;\">           </td><td style=\"text-align: right;\">          </td></tr>\n",
              "<tr><td>train_qrt_a6989_00008</td><td>PENDING   </td><td>                </td><td style=\"text-align: right;\">         128</td><td style=\"text-align: right;\">      0  </td><td style=\"text-align: right;\">3.30049e-05</td><td style=\"text-align: right;\">          40</td><td style=\"text-align: right;\">      </td><td style=\"text-align: right;\">                </td><td style=\"text-align: right;\">           </td><td style=\"text-align: right;\">          </td></tr>\n",
              "<tr><td>train_qrt_a6989_00009</td><td>PENDING   </td><td>                </td><td style=\"text-align: right;\">         128</td><td style=\"text-align: right;\">      0.2</td><td style=\"text-align: right;\">0.000485717</td><td style=\"text-align: right;\">          40</td><td style=\"text-align: right;\">      </td><td style=\"text-align: right;\">                </td><td style=\"text-align: right;\">           </td><td style=\"text-align: right;\">          </td></tr>\n",
              "<tr><td>train_qrt_a6989_00001</td><td>TERMINATED</td><td>172.28.0.2:34701</td><td style=\"text-align: right;\">          64</td><td style=\"text-align: right;\">      0  </td><td style=\"text-align: right;\">0.0292711  </td><td style=\"text-align: right;\">          60</td><td style=\"text-align: right;\">    60</td><td style=\"text-align: right;\">        39.2898 </td><td style=\"text-align: right;\">0.000634046</td><td style=\"text-align: right;\">  0.947089</td></tr>\n",
              "</tbody>\n",
              "</table><br><br>"
            ],
            "text/plain": [
              "<IPython.core.display.HTML object>"
            ]
          },
          "metadata": {},
          "output_type": "display_data"
        },
        {
          "name": "stdout",
          "output_type": "stream",
          "text": [
            "Result for train_qrt_a6989_00000:\n",
            "  cel_loss: 0.9691404700279236\n",
            "  date: 2022-07-16_21-18-06\n",
            "  done: false\n",
            "  experiment_id: d464be6c0f664d1283297b14baf160ef\n",
            "  hostname: f6468dcefdbf\n",
            "  iterations_since_restore: 63\n",
            "  mse_loss: 0.00027545701595954597\n",
            "  node_ip: 172.28.0.2\n",
            "  pid: 34666\n",
            "  time_since_restore: 52.59358263015747\n",
            "  time_this_iter_s: 0.6348466873168945\n",
            "  time_total_s: 52.59358263015747\n",
            "  timestamp: 1658006286\n",
            "  timesteps_since_restore: 0\n",
            "  training_iteration: 63\n",
            "  trial_id: a6989_00000\n",
            "  warmup_time: 0.004649162292480469\n",
            "  \n",
            "Result for train_qrt_a6989_00002:\n",
            "  cel_loss: 0.9430174231529236\n",
            "  date: 2022-07-16_21-18-10\n",
            "  done: false\n",
            "  experiment_id: 202a61d7a01e47dca4be579c9e2dac4a\n",
            "  hostname: f6468dcefdbf\n",
            "  iterations_since_restore: 13\n",
            "  mse_loss: 0.0011683397460728884\n",
            "  node_ip: 172.28.0.2\n",
            "  pid: 34701\n",
            "  time_since_restore: 11.133378267288208\n",
            "  time_this_iter_s: 0.44879817962646484\n",
            "  time_total_s: 11.133378267288208\n",
            "  timestamp: 1658006290\n",
            "  timesteps_since_restore: 0\n",
            "  training_iteration: 13\n",
            "  trial_id: a6989_00002\n",
            "  warmup_time: 0.005987644195556641\n",
            "  \n"
          ]
        },
        {
          "data": {
            "text/html": [
              "== Status ==<br>Current time: 2022-07-16 21:18:10 (running for 00:01:02.05)<br>Memory usage on this node: 2.3/12.7 GiB<br>Using FIFO scheduling algorithm.<br>Resources requested: 2.0/2 CPUs, 0/0 GPUs, 0.0/7.38 GiB heap, 0.0/3.69 GiB objects<br>Current best trial: a6989_00002 with cel_loss=0.9430174231529236 and parameters={'dropout': 0, 'num_epochs': 40, 'lr': 0.07642050372186303, 'batch_size': 64}<br>Result logdir: /root/ray_results/train_qrt_2022-07-16_21-17-08<br>Number of trials: 10/10 (7 PENDING, 2 RUNNING, 1 TERMINATED)<br><table>\n",
              "<thead>\n",
              "<tr><th>Trial name           </th><th>status    </th><th>loc             </th><th style=\"text-align: right;\">  batch_size</th><th style=\"text-align: right;\">  dropout</th><th style=\"text-align: right;\">         lr</th><th style=\"text-align: right;\">  num_epochs</th><th style=\"text-align: right;\">  iter</th><th style=\"text-align: right;\">  total time (s)</th><th style=\"text-align: right;\">   mse_loss</th><th style=\"text-align: right;\">  cel_loss</th></tr>\n",
              "</thead>\n",
              "<tbody>\n",
              "<tr><td>train_qrt_a6989_00000</td><td>RUNNING   </td><td>172.28.0.2:34666</td><td style=\"text-align: right;\">          32</td><td style=\"text-align: right;\">      0.2</td><td style=\"text-align: right;\">1.91481e-05</td><td style=\"text-align: right;\">         100</td><td style=\"text-align: right;\">    70</td><td style=\"text-align: right;\">         57.039 </td><td style=\"text-align: right;\">0.000275016</td><td style=\"text-align: right;\">  0.968313</td></tr>\n",
              "<tr><td>train_qrt_a6989_00002</td><td>RUNNING   </td><td>172.28.0.2:34701</td><td style=\"text-align: right;\">          64</td><td style=\"text-align: right;\">      0  </td><td style=\"text-align: right;\">0.0764205  </td><td style=\"text-align: right;\">          40</td><td style=\"text-align: right;\">    13</td><td style=\"text-align: right;\">         11.1334</td><td style=\"text-align: right;\">0.00116834 </td><td style=\"text-align: right;\">  0.943017</td></tr>\n",
              "<tr><td>train_qrt_a6989_00003</td><td>PENDING   </td><td>                </td><td style=\"text-align: right;\">          64</td><td style=\"text-align: right;\">      0  </td><td style=\"text-align: right;\">0.000105935</td><td style=\"text-align: right;\">          60</td><td style=\"text-align: right;\">      </td><td style=\"text-align: right;\">                </td><td style=\"text-align: right;\">           </td><td style=\"text-align: right;\">          </td></tr>\n",
              "<tr><td>train_qrt_a6989_00004</td><td>PENDING   </td><td>                </td><td style=\"text-align: right;\">         128</td><td style=\"text-align: right;\">      0  </td><td style=\"text-align: right;\">0.0251209  </td><td style=\"text-align: right;\">          40</td><td style=\"text-align: right;\">      </td><td style=\"text-align: right;\">                </td><td style=\"text-align: right;\">           </td><td style=\"text-align: right;\">          </td></tr>\n",
              "<tr><td>train_qrt_a6989_00005</td><td>PENDING   </td><td>                </td><td style=\"text-align: right;\">          64</td><td style=\"text-align: right;\">      0.2</td><td style=\"text-align: right;\">1.66108e-05</td><td style=\"text-align: right;\">          20</td><td style=\"text-align: right;\">      </td><td style=\"text-align: right;\">                </td><td style=\"text-align: right;\">           </td><td style=\"text-align: right;\">          </td></tr>\n",
              "<tr><td>train_qrt_a6989_00006</td><td>PENDING   </td><td>                </td><td style=\"text-align: right;\">         128</td><td style=\"text-align: right;\">      0  </td><td style=\"text-align: right;\">0.0012109  </td><td style=\"text-align: right;\">          60</td><td style=\"text-align: right;\">      </td><td style=\"text-align: right;\">                </td><td style=\"text-align: right;\">           </td><td style=\"text-align: right;\">          </td></tr>\n",
              "<tr><td>train_qrt_a6989_00007</td><td>PENDING   </td><td>                </td><td style=\"text-align: right;\">         128</td><td style=\"text-align: right;\">      0.2</td><td style=\"text-align: right;\">0.0824483  </td><td style=\"text-align: right;\">         100</td><td style=\"text-align: right;\">      </td><td style=\"text-align: right;\">                </td><td style=\"text-align: right;\">           </td><td style=\"text-align: right;\">          </td></tr>\n",
              "<tr><td>train_qrt_a6989_00008</td><td>PENDING   </td><td>                </td><td style=\"text-align: right;\">         128</td><td style=\"text-align: right;\">      0  </td><td style=\"text-align: right;\">3.30049e-05</td><td style=\"text-align: right;\">          40</td><td style=\"text-align: right;\">      </td><td style=\"text-align: right;\">                </td><td style=\"text-align: right;\">           </td><td style=\"text-align: right;\">          </td></tr>\n",
              "<tr><td>train_qrt_a6989_00009</td><td>PENDING   </td><td>                </td><td style=\"text-align: right;\">         128</td><td style=\"text-align: right;\">      0.2</td><td style=\"text-align: right;\">0.000485717</td><td style=\"text-align: right;\">          40</td><td style=\"text-align: right;\">      </td><td style=\"text-align: right;\">                </td><td style=\"text-align: right;\">           </td><td style=\"text-align: right;\">          </td></tr>\n",
              "<tr><td>train_qrt_a6989_00001</td><td>TERMINATED</td><td>172.28.0.2:34701</td><td style=\"text-align: right;\">          64</td><td style=\"text-align: right;\">      0  </td><td style=\"text-align: right;\">0.0292711  </td><td style=\"text-align: right;\">          60</td><td style=\"text-align: right;\">    60</td><td style=\"text-align: right;\">         39.2898</td><td style=\"text-align: right;\">0.000634046</td><td style=\"text-align: right;\">  0.947089</td></tr>\n",
              "</tbody>\n",
              "</table><br><br>"
            ],
            "text/plain": [
              "<IPython.core.display.HTML object>"
            ]
          },
          "metadata": {},
          "output_type": "display_data"
        },
        {
          "name": "stdout",
          "output_type": "stream",
          "text": [
            "Result for train_qrt_a6989_00000:\n",
            "  cel_loss: 0.9681830406188965\n",
            "  date: 2022-07-16_21-18-11\n",
            "  done: false\n",
            "  experiment_id: d464be6c0f664d1283297b14baf160ef\n",
            "  hostname: f6468dcefdbf\n",
            "  iterations_since_restore: 71\n",
            "  mse_loss: 0.0002749792765825987\n",
            "  node_ip: 172.28.0.2\n",
            "  pid: 34666\n",
            "  time_since_restore: 57.69545602798462\n",
            "  time_this_iter_s: 0.6564135551452637\n",
            "  time_total_s: 57.69545602798462\n",
            "  timestamp: 1658006291\n",
            "  timesteps_since_restore: 0\n",
            "  training_iteration: 71\n",
            "  trial_id: a6989_00000\n",
            "  warmup_time: 0.004649162292480469\n",
            "  \n",
            "Result for train_qrt_a6989_00002:\n",
            "  cel_loss: 0.9499139189720154\n",
            "  date: 2022-07-16_21-18-15\n",
            "  done: false\n",
            "  experiment_id: 202a61d7a01e47dca4be579c9e2dac4a\n",
            "  hostname: f6468dcefdbf\n",
            "  iterations_since_restore: 25\n",
            "  mse_loss: 0.0013947479892522097\n",
            "  node_ip: 172.28.0.2\n",
            "  pid: 34701\n",
            "  time_since_restore: 16.563698291778564\n",
            "  time_this_iter_s: 0.4569878578186035\n",
            "  time_total_s: 16.563698291778564\n",
            "  timestamp: 1658006295\n",
            "  timesteps_since_restore: 0\n",
            "  training_iteration: 25\n",
            "  trial_id: a6989_00002\n",
            "  warmup_time: 0.005987644195556641\n",
            "  \n"
          ]
        },
        {
          "data": {
            "text/html": [
              "== Status ==<br>Current time: 2022-07-16 21:18:15 (running for 00:01:07.07)<br>Memory usage on this node: 2.3/12.7 GiB<br>Using FIFO scheduling algorithm.<br>Resources requested: 2.0/2 CPUs, 0/0 GPUs, 0.0/7.38 GiB heap, 0.0/3.69 GiB objects<br>Current best trial: a6989_00001 with cel_loss=0.9470890164375305 and parameters={'dropout': 0, 'num_epochs': 60, 'lr': 0.029271147456383234, 'batch_size': 64}<br>Result logdir: /root/ray_results/train_qrt_2022-07-16_21-17-08<br>Number of trials: 10/10 (7 PENDING, 2 RUNNING, 1 TERMINATED)<br><table>\n",
              "<thead>\n",
              "<tr><th>Trial name           </th><th>status    </th><th>loc             </th><th style=\"text-align: right;\">  batch_size</th><th style=\"text-align: right;\">  dropout</th><th style=\"text-align: right;\">         lr</th><th style=\"text-align: right;\">  num_epochs</th><th style=\"text-align: right;\">  iter</th><th style=\"text-align: right;\">  total time (s)</th><th style=\"text-align: right;\">   mse_loss</th><th style=\"text-align: right;\">  cel_loss</th></tr>\n",
              "</thead>\n",
              "<tbody>\n",
              "<tr><td>train_qrt_a6989_00000</td><td>RUNNING   </td><td>172.28.0.2:34666</td><td style=\"text-align: right;\">          32</td><td style=\"text-align: right;\">      0.2</td><td style=\"text-align: right;\">1.91481e-05</td><td style=\"text-align: right;\">         100</td><td style=\"text-align: right;\">    77</td><td style=\"text-align: right;\">         61.528 </td><td style=\"text-align: right;\">0.000274593</td><td style=\"text-align: right;\">  0.967412</td></tr>\n",
              "<tr><td>train_qrt_a6989_00002</td><td>RUNNING   </td><td>172.28.0.2:34701</td><td style=\"text-align: right;\">          64</td><td style=\"text-align: right;\">      0  </td><td style=\"text-align: right;\">0.0764205  </td><td style=\"text-align: right;\">          40</td><td style=\"text-align: right;\">    25</td><td style=\"text-align: right;\">         16.5637</td><td style=\"text-align: right;\">0.00139475 </td><td style=\"text-align: right;\">  0.949914</td></tr>\n",
              "<tr><td>train_qrt_a6989_00003</td><td>PENDING   </td><td>                </td><td style=\"text-align: right;\">          64</td><td style=\"text-align: right;\">      0  </td><td style=\"text-align: right;\">0.000105935</td><td style=\"text-align: right;\">          60</td><td style=\"text-align: right;\">      </td><td style=\"text-align: right;\">                </td><td style=\"text-align: right;\">           </td><td style=\"text-align: right;\">          </td></tr>\n",
              "<tr><td>train_qrt_a6989_00004</td><td>PENDING   </td><td>                </td><td style=\"text-align: right;\">         128</td><td style=\"text-align: right;\">      0  </td><td style=\"text-align: right;\">0.0251209  </td><td style=\"text-align: right;\">          40</td><td style=\"text-align: right;\">      </td><td style=\"text-align: right;\">                </td><td style=\"text-align: right;\">           </td><td style=\"text-align: right;\">          </td></tr>\n",
              "<tr><td>train_qrt_a6989_00005</td><td>PENDING   </td><td>                </td><td style=\"text-align: right;\">          64</td><td style=\"text-align: right;\">      0.2</td><td style=\"text-align: right;\">1.66108e-05</td><td style=\"text-align: right;\">          20</td><td style=\"text-align: right;\">      </td><td style=\"text-align: right;\">                </td><td style=\"text-align: right;\">           </td><td style=\"text-align: right;\">          </td></tr>\n",
              "<tr><td>train_qrt_a6989_00006</td><td>PENDING   </td><td>                </td><td style=\"text-align: right;\">         128</td><td style=\"text-align: right;\">      0  </td><td style=\"text-align: right;\">0.0012109  </td><td style=\"text-align: right;\">          60</td><td style=\"text-align: right;\">      </td><td style=\"text-align: right;\">                </td><td style=\"text-align: right;\">           </td><td style=\"text-align: right;\">          </td></tr>\n",
              "<tr><td>train_qrt_a6989_00007</td><td>PENDING   </td><td>                </td><td style=\"text-align: right;\">         128</td><td style=\"text-align: right;\">      0.2</td><td style=\"text-align: right;\">0.0824483  </td><td style=\"text-align: right;\">         100</td><td style=\"text-align: right;\">      </td><td style=\"text-align: right;\">                </td><td style=\"text-align: right;\">           </td><td style=\"text-align: right;\">          </td></tr>\n",
              "<tr><td>train_qrt_a6989_00008</td><td>PENDING   </td><td>                </td><td style=\"text-align: right;\">         128</td><td style=\"text-align: right;\">      0  </td><td style=\"text-align: right;\">3.30049e-05</td><td style=\"text-align: right;\">          40</td><td style=\"text-align: right;\">      </td><td style=\"text-align: right;\">                </td><td style=\"text-align: right;\">           </td><td style=\"text-align: right;\">          </td></tr>\n",
              "<tr><td>train_qrt_a6989_00009</td><td>PENDING   </td><td>                </td><td style=\"text-align: right;\">         128</td><td style=\"text-align: right;\">      0.2</td><td style=\"text-align: right;\">0.000485717</td><td style=\"text-align: right;\">          40</td><td style=\"text-align: right;\">      </td><td style=\"text-align: right;\">                </td><td style=\"text-align: right;\">           </td><td style=\"text-align: right;\">          </td></tr>\n",
              "<tr><td>train_qrt_a6989_00001</td><td>TERMINATED</td><td>172.28.0.2:34701</td><td style=\"text-align: right;\">          64</td><td style=\"text-align: right;\">      0  </td><td style=\"text-align: right;\">0.0292711  </td><td style=\"text-align: right;\">          60</td><td style=\"text-align: right;\">    60</td><td style=\"text-align: right;\">         39.2898</td><td style=\"text-align: right;\">0.000634046</td><td style=\"text-align: right;\">  0.947089</td></tr>\n",
              "</tbody>\n",
              "</table><br><br>"
            ],
            "text/plain": [
              "<IPython.core.display.HTML object>"
            ]
          },
          "metadata": {},
          "output_type": "display_data"
        },
        {
          "name": "stdout",
          "output_type": "stream",
          "text": [
            "Result for train_qrt_a6989_00000:\n",
            "  cel_loss: 0.9672235250473022\n",
            "  date: 2022-07-16_21-18-16\n",
            "  done: false\n",
            "  experiment_id: d464be6c0f664d1283297b14baf160ef\n",
            "  hostname: f6468dcefdbf\n",
            "  iterations_since_restore: 79\n",
            "  mse_loss: 0.0002744772646110505\n",
            "  node_ip: 172.28.0.2\n",
            "  pid: 34666\n",
            "  time_since_restore: 62.80011701583862\n",
            "  time_this_iter_s: 0.6078274250030518\n",
            "  time_total_s: 62.80011701583862\n",
            "  timestamp: 1658006296\n",
            "  timesteps_since_restore: 0\n",
            "  training_iteration: 79\n",
            "  trial_id: a6989_00000\n",
            "  warmup_time: 0.004649162292480469\n",
            "  \n",
            "Result for train_qrt_a6989_00002:\n",
            "  cel_loss: 0.9458805918693542\n",
            "  date: 2022-07-16_21-18-20\n",
            "  done: false\n",
            "  experiment_id: 202a61d7a01e47dca4be579c9e2dac4a\n",
            "  hostname: f6468dcefdbf\n",
            "  iterations_since_restore: 36\n",
            "  mse_loss: 0.001633313368074596\n",
            "  node_ip: 172.28.0.2\n",
            "  pid: 34701\n",
            "  time_since_restore: 21.591431379318237\n",
            "  time_this_iter_s: 0.4486861228942871\n",
            "  time_total_s: 21.591431379318237\n",
            "  timestamp: 1658006300\n",
            "  timesteps_since_restore: 0\n",
            "  training_iteration: 36\n",
            "  trial_id: a6989_00002\n",
            "  warmup_time: 0.005987644195556641\n",
            "  \n"
          ]
        },
        {
          "data": {
            "text/html": [
              "== Status ==<br>Current time: 2022-07-16 21:18:20 (running for 00:01:12.08)<br>Memory usage on this node: 2.3/12.7 GiB<br>Using FIFO scheduling algorithm.<br>Resources requested: 2.0/2 CPUs, 0/0 GPUs, 0.0/7.38 GiB heap, 0.0/3.69 GiB objects<br>Current best trial: a6989_00002 with cel_loss=0.9458805918693542 and parameters={'dropout': 0, 'num_epochs': 40, 'lr': 0.07642050372186303, 'batch_size': 64}<br>Result logdir: /root/ray_results/train_qrt_2022-07-16_21-17-08<br>Number of trials: 10/10 (7 PENDING, 2 RUNNING, 1 TERMINATED)<br><table>\n",
              "<thead>\n",
              "<tr><th>Trial name           </th><th>status    </th><th>loc             </th><th style=\"text-align: right;\">  batch_size</th><th style=\"text-align: right;\">  dropout</th><th style=\"text-align: right;\">         lr</th><th style=\"text-align: right;\">  num_epochs</th><th style=\"text-align: right;\">  iter</th><th style=\"text-align: right;\">  total time (s)</th><th style=\"text-align: right;\">   mse_loss</th><th style=\"text-align: right;\">  cel_loss</th></tr>\n",
              "</thead>\n",
              "<tbody>\n",
              "<tr><td>train_qrt_a6989_00000</td><td>RUNNING   </td><td>172.28.0.2:34666</td><td style=\"text-align: right;\">          32</td><td style=\"text-align: right;\">      0.2</td><td style=\"text-align: right;\">1.91481e-05</td><td style=\"text-align: right;\">         100</td><td style=\"text-align: right;\">    85</td><td style=\"text-align: right;\">         66.5921</td><td style=\"text-align: right;\">0.000274118</td><td style=\"text-align: right;\">  0.966191</td></tr>\n",
              "<tr><td>train_qrt_a6989_00002</td><td>RUNNING   </td><td>172.28.0.2:34701</td><td style=\"text-align: right;\">          64</td><td style=\"text-align: right;\">      0  </td><td style=\"text-align: right;\">0.0764205  </td><td style=\"text-align: right;\">          40</td><td style=\"text-align: right;\">    36</td><td style=\"text-align: right;\">         21.5914</td><td style=\"text-align: right;\">0.00163331 </td><td style=\"text-align: right;\">  0.945881</td></tr>\n",
              "<tr><td>train_qrt_a6989_00003</td><td>PENDING   </td><td>                </td><td style=\"text-align: right;\">          64</td><td style=\"text-align: right;\">      0  </td><td style=\"text-align: right;\">0.000105935</td><td style=\"text-align: right;\">          60</td><td style=\"text-align: right;\">      </td><td style=\"text-align: right;\">                </td><td style=\"text-align: right;\">           </td><td style=\"text-align: right;\">          </td></tr>\n",
              "<tr><td>train_qrt_a6989_00004</td><td>PENDING   </td><td>                </td><td style=\"text-align: right;\">         128</td><td style=\"text-align: right;\">      0  </td><td style=\"text-align: right;\">0.0251209  </td><td style=\"text-align: right;\">          40</td><td style=\"text-align: right;\">      </td><td style=\"text-align: right;\">                </td><td style=\"text-align: right;\">           </td><td style=\"text-align: right;\">          </td></tr>\n",
              "<tr><td>train_qrt_a6989_00005</td><td>PENDING   </td><td>                </td><td style=\"text-align: right;\">          64</td><td style=\"text-align: right;\">      0.2</td><td style=\"text-align: right;\">1.66108e-05</td><td style=\"text-align: right;\">          20</td><td style=\"text-align: right;\">      </td><td style=\"text-align: right;\">                </td><td style=\"text-align: right;\">           </td><td style=\"text-align: right;\">          </td></tr>\n",
              "<tr><td>train_qrt_a6989_00006</td><td>PENDING   </td><td>                </td><td style=\"text-align: right;\">         128</td><td style=\"text-align: right;\">      0  </td><td style=\"text-align: right;\">0.0012109  </td><td style=\"text-align: right;\">          60</td><td style=\"text-align: right;\">      </td><td style=\"text-align: right;\">                </td><td style=\"text-align: right;\">           </td><td style=\"text-align: right;\">          </td></tr>\n",
              "<tr><td>train_qrt_a6989_00007</td><td>PENDING   </td><td>                </td><td style=\"text-align: right;\">         128</td><td style=\"text-align: right;\">      0.2</td><td style=\"text-align: right;\">0.0824483  </td><td style=\"text-align: right;\">         100</td><td style=\"text-align: right;\">      </td><td style=\"text-align: right;\">                </td><td style=\"text-align: right;\">           </td><td style=\"text-align: right;\">          </td></tr>\n",
              "<tr><td>train_qrt_a6989_00008</td><td>PENDING   </td><td>                </td><td style=\"text-align: right;\">         128</td><td style=\"text-align: right;\">      0  </td><td style=\"text-align: right;\">3.30049e-05</td><td style=\"text-align: right;\">          40</td><td style=\"text-align: right;\">      </td><td style=\"text-align: right;\">                </td><td style=\"text-align: right;\">           </td><td style=\"text-align: right;\">          </td></tr>\n",
              "<tr><td>train_qrt_a6989_00009</td><td>PENDING   </td><td>                </td><td style=\"text-align: right;\">         128</td><td style=\"text-align: right;\">      0.2</td><td style=\"text-align: right;\">0.000485717</td><td style=\"text-align: right;\">          40</td><td style=\"text-align: right;\">      </td><td style=\"text-align: right;\">                </td><td style=\"text-align: right;\">           </td><td style=\"text-align: right;\">          </td></tr>\n",
              "<tr><td>train_qrt_a6989_00001</td><td>TERMINATED</td><td>172.28.0.2:34701</td><td style=\"text-align: right;\">          64</td><td style=\"text-align: right;\">      0  </td><td style=\"text-align: right;\">0.0292711  </td><td style=\"text-align: right;\">          60</td><td style=\"text-align: right;\">    60</td><td style=\"text-align: right;\">         39.2898</td><td style=\"text-align: right;\">0.000634046</td><td style=\"text-align: right;\">  0.947089</td></tr>\n",
              "</tbody>\n",
              "</table><br><br>"
            ],
            "text/plain": [
              "<IPython.core.display.HTML object>"
            ]
          },
          "metadata": {},
          "output_type": "display_data"
        },
        {
          "name": "stdout",
          "output_type": "stream",
          "text": [
            "Result for train_qrt_a6989_00000:\n",
            "  cel_loss: 0.9658965468406677\n",
            "  date: 2022-07-16_21-18-21\n",
            "  done: false\n",
            "  experiment_id: d464be6c0f664d1283297b14baf160ef\n",
            "  hostname: f6468dcefdbf\n",
            "  iterations_since_restore: 87\n",
            "  mse_loss: 0.0002739987976383418\n",
            "  node_ip: 172.28.0.2\n",
            "  pid: 34666\n",
            "  time_since_restore: 67.86047720909119\n",
            "  time_this_iter_s: 0.6320476531982422\n",
            "  time_total_s: 67.86047720909119\n",
            "  timestamp: 1658006301\n",
            "  timesteps_since_restore: 0\n",
            "  training_iteration: 87\n",
            "  trial_id: a6989_00000\n",
            "  warmup_time: 0.004649162292480469\n",
            "  \n",
            "Result for train_qrt_a6989_00002:\n",
            "  cel_loss: 0.9410867691040039\n",
            "  date: 2022-07-16_21-18-22\n",
            "  done: true\n",
            "  experiment_id: 202a61d7a01e47dca4be579c9e2dac4a\n",
            "  experiment_tag: 2_batch_size=64,dropout=0,lr=0.0764,num_epochs=40\n",
            "  hostname: f6468dcefdbf\n",
            "  iterations_since_restore: 40\n",
            "  mse_loss: 0.00172623700927943\n",
            "  node_ip: 172.28.0.2\n",
            "  pid: 34701\n",
            "  time_since_restore: 23.427706480026245\n",
            "  time_this_iter_s: 0.431626558303833\n",
            "  time_total_s: 23.427706480026245\n",
            "  timestamp: 1658006302\n",
            "  timesteps_since_restore: 0\n",
            "  training_iteration: 40\n",
            "  trial_id: a6989_00002\n",
            "  warmup_time: 0.005987644195556641\n",
            "  \n"
          ]
        },
        {
          "name": "stderr",
          "output_type": "stream",
          "text": [
            "\u001b[2m\u001b[36m(train_qrt pid=34701)\u001b[0m GPU available: False, used: False\n",
            "\u001b[2m\u001b[36m(train_qrt pid=34701)\u001b[0m TPU available: False, using: 0 TPU cores\n",
            "\u001b[2m\u001b[36m(train_qrt pid=34701)\u001b[0m IPU available: False, using: 0 IPUs\n",
            "\u001b[2m\u001b[36m(train_qrt pid=34701)\u001b[0m HPU available: False, using: 0 HPUs\n",
            "\u001b[2m\u001b[36m(train_qrt pid=34701)\u001b[0m Missing logger folder: /root/ray_results/train_qrt_2022-07-16_21-17-08/train_qrt_a6989_00003_3_batch_size=64,dropout=0,lr=0.0001,num_epochs=60_2022-07-16_21-18-22/lightning_logs\n"
          ]
        },
        {
          "data": {
            "text/html": [
              "== Status ==<br>Current time: 2022-07-16 21:18:26 (running for 00:01:17.26)<br>Memory usage on this node: 2.2/12.7 GiB<br>Using FIFO scheduling algorithm.<br>Resources requested: 2.0/2 CPUs, 0/0 GPUs, 0.0/7.38 GiB heap, 0.0/3.69 GiB objects<br>Current best trial: a6989_00002 with cel_loss=0.9410867691040039 and parameters={'dropout': 0, 'num_epochs': 40, 'lr': 0.07642050372186303, 'batch_size': 64}<br>Result logdir: /root/ray_results/train_qrt_2022-07-16_21-17-08<br>Number of trials: 10/10 (6 PENDING, 2 RUNNING, 2 TERMINATED)<br><table>\n",
              "<thead>\n",
              "<tr><th>Trial name           </th><th>status    </th><th>loc             </th><th style=\"text-align: right;\">  batch_size</th><th style=\"text-align: right;\">  dropout</th><th style=\"text-align: right;\">         lr</th><th style=\"text-align: right;\">  num_epochs</th><th style=\"text-align: right;\">  iter</th><th style=\"text-align: right;\">  total time (s)</th><th style=\"text-align: right;\">   mse_loss</th><th style=\"text-align: right;\">  cel_loss</th></tr>\n",
              "</thead>\n",
              "<tbody>\n",
              "<tr><td>train_qrt_a6989_00000</td><td>RUNNING   </td><td>172.28.0.2:34666</td><td style=\"text-align: right;\">          32</td><td style=\"text-align: right;\">      0.2</td><td style=\"text-align: right;\">1.91481e-05</td><td style=\"text-align: right;\">         100</td><td style=\"text-align: right;\">    94</td><td style=\"text-align: right;\">         72.2455</td><td style=\"text-align: right;\">0.000273608</td><td style=\"text-align: right;\">  0.964853</td></tr>\n",
              "<tr><td>train_qrt_a6989_00003</td><td>RUNNING   </td><td>172.28.0.2:34701</td><td style=\"text-align: right;\">          64</td><td style=\"text-align: right;\">      0  </td><td style=\"text-align: right;\">0.000105935</td><td style=\"text-align: right;\">          60</td><td style=\"text-align: right;\">      </td><td style=\"text-align: right;\">                </td><td style=\"text-align: right;\">           </td><td style=\"text-align: right;\">          </td></tr>\n",
              "<tr><td>train_qrt_a6989_00004</td><td>PENDING   </td><td>                </td><td style=\"text-align: right;\">         128</td><td style=\"text-align: right;\">      0  </td><td style=\"text-align: right;\">0.0251209  </td><td style=\"text-align: right;\">          40</td><td style=\"text-align: right;\">      </td><td style=\"text-align: right;\">                </td><td style=\"text-align: right;\">           </td><td style=\"text-align: right;\">          </td></tr>\n",
              "<tr><td>train_qrt_a6989_00005</td><td>PENDING   </td><td>                </td><td style=\"text-align: right;\">          64</td><td style=\"text-align: right;\">      0.2</td><td style=\"text-align: right;\">1.66108e-05</td><td style=\"text-align: right;\">          20</td><td style=\"text-align: right;\">      </td><td style=\"text-align: right;\">                </td><td style=\"text-align: right;\">           </td><td style=\"text-align: right;\">          </td></tr>\n",
              "<tr><td>train_qrt_a6989_00006</td><td>PENDING   </td><td>                </td><td style=\"text-align: right;\">         128</td><td style=\"text-align: right;\">      0  </td><td style=\"text-align: right;\">0.0012109  </td><td style=\"text-align: right;\">          60</td><td style=\"text-align: right;\">      </td><td style=\"text-align: right;\">                </td><td style=\"text-align: right;\">           </td><td style=\"text-align: right;\">          </td></tr>\n",
              "<tr><td>train_qrt_a6989_00007</td><td>PENDING   </td><td>                </td><td style=\"text-align: right;\">         128</td><td style=\"text-align: right;\">      0.2</td><td style=\"text-align: right;\">0.0824483  </td><td style=\"text-align: right;\">         100</td><td style=\"text-align: right;\">      </td><td style=\"text-align: right;\">                </td><td style=\"text-align: right;\">           </td><td style=\"text-align: right;\">          </td></tr>\n",
              "<tr><td>train_qrt_a6989_00008</td><td>PENDING   </td><td>                </td><td style=\"text-align: right;\">         128</td><td style=\"text-align: right;\">      0  </td><td style=\"text-align: right;\">3.30049e-05</td><td style=\"text-align: right;\">          40</td><td style=\"text-align: right;\">      </td><td style=\"text-align: right;\">                </td><td style=\"text-align: right;\">           </td><td style=\"text-align: right;\">          </td></tr>\n",
              "<tr><td>train_qrt_a6989_00009</td><td>PENDING   </td><td>                </td><td style=\"text-align: right;\">         128</td><td style=\"text-align: right;\">      0.2</td><td style=\"text-align: right;\">0.000485717</td><td style=\"text-align: right;\">          40</td><td style=\"text-align: right;\">      </td><td style=\"text-align: right;\">                </td><td style=\"text-align: right;\">           </td><td style=\"text-align: right;\">          </td></tr>\n",
              "<tr><td>train_qrt_a6989_00001</td><td>TERMINATED</td><td>172.28.0.2:34701</td><td style=\"text-align: right;\">          64</td><td style=\"text-align: right;\">      0  </td><td style=\"text-align: right;\">0.0292711  </td><td style=\"text-align: right;\">          60</td><td style=\"text-align: right;\">    60</td><td style=\"text-align: right;\">         39.2898</td><td style=\"text-align: right;\">0.000634046</td><td style=\"text-align: right;\">  0.947089</td></tr>\n",
              "<tr><td>train_qrt_a6989_00002</td><td>TERMINATED</td><td>172.28.0.2:34701</td><td style=\"text-align: right;\">          64</td><td style=\"text-align: right;\">      0  </td><td style=\"text-align: right;\">0.0764205  </td><td style=\"text-align: right;\">          40</td><td style=\"text-align: right;\">    40</td><td style=\"text-align: right;\">         23.4277</td><td style=\"text-align: right;\">0.00172624 </td><td style=\"text-align: right;\">  0.941087</td></tr>\n",
              "</tbody>\n",
              "</table><br><br>"
            ],
            "text/plain": [
              "<IPython.core.display.HTML object>"
            ]
          },
          "metadata": {},
          "output_type": "display_data"
        },
        {
          "name": "stdout",
          "output_type": "stream",
          "text": [
            "Result for train_qrt_a6989_00000:\n",
            "  cel_loss: 0.9646301865577698\n",
            "  date: 2022-07-16_21-18-26\n",
            "  done: false\n",
            "  experiment_id: d464be6c0f664d1283297b14baf160ef\n",
            "  hostname: f6468dcefdbf\n",
            "  iterations_since_restore: 95\n",
            "  mse_loss: 0.0002735661109909415\n",
            "  node_ip: 172.28.0.2\n",
            "  pid: 34666\n",
            "  time_since_restore: 72.91356873512268\n",
            "  time_this_iter_s: 0.668041467666626\n",
            "  time_total_s: 72.91356873512268\n",
            "  timestamp: 1658006306\n",
            "  timesteps_since_restore: 0\n",
            "  training_iteration: 95\n",
            "  trial_id: a6989_00000\n",
            "  warmup_time: 0.004649162292480469\n",
            "  \n"
          ]
        },
        {
          "name": "stderr",
          "output_type": "stream",
          "text": [
            "\u001b[2m\u001b[36m(train_qrt pid=34701)\u001b[0m \n",
            "\u001b[2m\u001b[36m(train_qrt pid=34701)\u001b[0m   | Name     | Type                | Params\n",
            "\u001b[2m\u001b[36m(train_qrt pid=34701)\u001b[0m -------------------------------------------------\n",
            "\u001b[2m\u001b[36m(train_qrt pid=34701)\u001b[0m 0 | model    | Model               | 2.5 K \n",
            "\u001b[2m\u001b[36m(train_qrt pid=34701)\u001b[0m 1 | cel_loss | CosineEmbeddingLoss | 0     \n",
            "\u001b[2m\u001b[36m(train_qrt pid=34701)\u001b[0m 2 | mse_loss | MSELoss             | 0     \n",
            "\u001b[2m\u001b[36m(train_qrt pid=34701)\u001b[0m -------------------------------------------------\n",
            "\u001b[2m\u001b[36m(train_qrt pid=34701)\u001b[0m 2.5 K     Trainable params\n",
            "\u001b[2m\u001b[36m(train_qrt pid=34701)\u001b[0m 0         Non-trainable params\n",
            "\u001b[2m\u001b[36m(train_qrt pid=34701)\u001b[0m 2.5 K     Total params\n",
            "\u001b[2m\u001b[36m(train_qrt pid=34701)\u001b[0m 0.010     Total estimated model params size (MB)\n"
          ]
        },
        {
          "name": "stdout",
          "output_type": "stream",
          "text": [
            "Result for train_qrt_a6989_00003:\n",
            "  cel_loss: 0.99702388048172\n",
            "  date: 2022-07-16_21-18-28\n",
            "  done: false\n",
            "  experiment_id: 202a61d7a01e47dca4be579c9e2dac4a\n",
            "  hostname: f6468dcefdbf\n",
            "  iterations_since_restore: 1\n",
            "  mse_loss: 0.0002922220155596733\n",
            "  node_ip: 172.28.0.2\n",
            "  pid: 34701\n",
            "  time_since_restore: 5.770042419433594\n",
            "  time_this_iter_s: 5.770042419433594\n",
            "  time_total_s: 5.770042419433594\n",
            "  timestamp: 1658006308\n",
            "  timesteps_since_restore: 0\n",
            "  training_iteration: 1\n",
            "  trial_id: a6989_00003\n",
            "  warmup_time: 0.005987644195556641\n",
            "  \n",
            "Result for train_qrt_a6989_00000:\n",
            "  cel_loss: 0.9637404084205627\n",
            "  date: 2022-07-16_21-18-30\n",
            "  done: true\n",
            "  experiment_id: d464be6c0f664d1283297b14baf160ef\n",
            "  experiment_tag: 0_batch_size=32,dropout=0.2000,lr=0.0000,num_epochs=100\n",
            "  hostname: f6468dcefdbf\n",
            "  iterations_since_restore: 100\n",
            "  mse_loss: 0.00027330327429808676\n",
            "  node_ip: 172.28.0.2\n",
            "  pid: 34666\n",
            "  time_since_restore: 76.1070659160614\n",
            "  time_this_iter_s: 0.6286702156066895\n",
            "  time_total_s: 76.1070659160614\n",
            "  timestamp: 1658006310\n",
            "  timesteps_since_restore: 0\n",
            "  training_iteration: 100\n",
            "  trial_id: a6989_00000\n",
            "  warmup_time: 0.004649162292480469\n",
            "  \n"
          ]
        },
        {
          "name": "stderr",
          "output_type": "stream",
          "text": [
            "\u001b[2m\u001b[36m(train_qrt pid=34666)\u001b[0m GPU available: False, used: False\n",
            "\u001b[2m\u001b[36m(train_qrt pid=34666)\u001b[0m TPU available: False, using: 0 TPU cores\n",
            "\u001b[2m\u001b[36m(train_qrt pid=34666)\u001b[0m IPU available: False, using: 0 IPUs\n",
            "\u001b[2m\u001b[36m(train_qrt pid=34666)\u001b[0m HPU available: False, using: 0 HPUs\n",
            "\u001b[2m\u001b[36m(train_qrt pid=34666)\u001b[0m Missing logger folder: /root/ray_results/train_qrt_2022-07-16_21-17-08/train_qrt_a6989_00004_4_batch_size=128,dropout=0,lr=0.0251,num_epochs=40_2022-07-16_21-18-30/lightning_logs\n"
          ]
        },
        {
          "data": {
            "text/html": [
              "== Status ==<br>Current time: 2022-07-16 21:18:31 (running for 00:01:22.54)<br>Memory usage on this node: 2.2/12.7 GiB<br>Using FIFO scheduling algorithm.<br>Resources requested: 2.0/2 CPUs, 0/0 GPUs, 0.0/7.38 GiB heap, 0.0/3.69 GiB objects<br>Current best trial: a6989_00002 with cel_loss=0.9410867691040039 and parameters={'dropout': 0, 'num_epochs': 40, 'lr': 0.07642050372186303, 'batch_size': 64}<br>Result logdir: /root/ray_results/train_qrt_2022-07-16_21-17-08<br>Number of trials: 10/10 (5 PENDING, 2 RUNNING, 3 TERMINATED)<br><table>\n",
              "<thead>\n",
              "<tr><th>Trial name           </th><th>status    </th><th>loc             </th><th style=\"text-align: right;\">  batch_size</th><th style=\"text-align: right;\">  dropout</th><th style=\"text-align: right;\">         lr</th><th style=\"text-align: right;\">  num_epochs</th><th style=\"text-align: right;\">  iter</th><th style=\"text-align: right;\">  total time (s)</th><th style=\"text-align: right;\">   mse_loss</th><th style=\"text-align: right;\">  cel_loss</th></tr>\n",
              "</thead>\n",
              "<tbody>\n",
              "<tr><td>train_qrt_a6989_00003</td><td>RUNNING   </td><td>172.28.0.2:34701</td><td style=\"text-align: right;\">          64</td><td style=\"text-align: right;\">      0  </td><td style=\"text-align: right;\">0.000105935</td><td style=\"text-align: right;\">          60</td><td style=\"text-align: right;\">     7</td><td style=\"text-align: right;\">         8.51625</td><td style=\"text-align: right;\">0.000290305</td><td style=\"text-align: right;\">  0.989178</td></tr>\n",
              "<tr><td>train_qrt_a6989_00004</td><td>RUNNING   </td><td>172.28.0.2:34666</td><td style=\"text-align: right;\">         128</td><td style=\"text-align: right;\">      0  </td><td style=\"text-align: right;\">0.0251209  </td><td style=\"text-align: right;\">          40</td><td style=\"text-align: right;\">      </td><td style=\"text-align: right;\">                </td><td style=\"text-align: right;\">           </td><td style=\"text-align: right;\">          </td></tr>\n",
              "<tr><td>train_qrt_a6989_00005</td><td>PENDING   </td><td>                </td><td style=\"text-align: right;\">          64</td><td style=\"text-align: right;\">      0.2</td><td style=\"text-align: right;\">1.66108e-05</td><td style=\"text-align: right;\">          20</td><td style=\"text-align: right;\">      </td><td style=\"text-align: right;\">                </td><td style=\"text-align: right;\">           </td><td style=\"text-align: right;\">          </td></tr>\n",
              "<tr><td>train_qrt_a6989_00006</td><td>PENDING   </td><td>                </td><td style=\"text-align: right;\">         128</td><td style=\"text-align: right;\">      0  </td><td style=\"text-align: right;\">0.0012109  </td><td style=\"text-align: right;\">          60</td><td style=\"text-align: right;\">      </td><td style=\"text-align: right;\">                </td><td style=\"text-align: right;\">           </td><td style=\"text-align: right;\">          </td></tr>\n",
              "<tr><td>train_qrt_a6989_00007</td><td>PENDING   </td><td>                </td><td style=\"text-align: right;\">         128</td><td style=\"text-align: right;\">      0.2</td><td style=\"text-align: right;\">0.0824483  </td><td style=\"text-align: right;\">         100</td><td style=\"text-align: right;\">      </td><td style=\"text-align: right;\">                </td><td style=\"text-align: right;\">           </td><td style=\"text-align: right;\">          </td></tr>\n",
              "<tr><td>train_qrt_a6989_00008</td><td>PENDING   </td><td>                </td><td style=\"text-align: right;\">         128</td><td style=\"text-align: right;\">      0  </td><td style=\"text-align: right;\">3.30049e-05</td><td style=\"text-align: right;\">          40</td><td style=\"text-align: right;\">      </td><td style=\"text-align: right;\">                </td><td style=\"text-align: right;\">           </td><td style=\"text-align: right;\">          </td></tr>\n",
              "<tr><td>train_qrt_a6989_00009</td><td>PENDING   </td><td>                </td><td style=\"text-align: right;\">         128</td><td style=\"text-align: right;\">      0.2</td><td style=\"text-align: right;\">0.000485717</td><td style=\"text-align: right;\">          40</td><td style=\"text-align: right;\">      </td><td style=\"text-align: right;\">                </td><td style=\"text-align: right;\">           </td><td style=\"text-align: right;\">          </td></tr>\n",
              "<tr><td>train_qrt_a6989_00000</td><td>TERMINATED</td><td>172.28.0.2:34666</td><td style=\"text-align: right;\">          32</td><td style=\"text-align: right;\">      0.2</td><td style=\"text-align: right;\">1.91481e-05</td><td style=\"text-align: right;\">         100</td><td style=\"text-align: right;\">   100</td><td style=\"text-align: right;\">        76.1071 </td><td style=\"text-align: right;\">0.000273303</td><td style=\"text-align: right;\">  0.96374 </td></tr>\n",
              "<tr><td>train_qrt_a6989_00001</td><td>TERMINATED</td><td>172.28.0.2:34701</td><td style=\"text-align: right;\">          64</td><td style=\"text-align: right;\">      0  </td><td style=\"text-align: right;\">0.0292711  </td><td style=\"text-align: right;\">          60</td><td style=\"text-align: right;\">    60</td><td style=\"text-align: right;\">        39.2898 </td><td style=\"text-align: right;\">0.000634046</td><td style=\"text-align: right;\">  0.947089</td></tr>\n",
              "<tr><td>train_qrt_a6989_00002</td><td>TERMINATED</td><td>172.28.0.2:34701</td><td style=\"text-align: right;\">          64</td><td style=\"text-align: right;\">      0  </td><td style=\"text-align: right;\">0.0764205  </td><td style=\"text-align: right;\">          40</td><td style=\"text-align: right;\">    40</td><td style=\"text-align: right;\">        23.4277 </td><td style=\"text-align: right;\">0.00172624 </td><td style=\"text-align: right;\">  0.941087</td></tr>\n",
              "</tbody>\n",
              "</table><br><br>"
            ],
            "text/plain": [
              "<IPython.core.display.HTML object>"
            ]
          },
          "metadata": {},
          "output_type": "display_data"
        },
        {
          "name": "stdout",
          "output_type": "stream",
          "text": [
            "Result for train_qrt_a6989_00003:\n",
            "  cel_loss: 0.9835227727890015\n",
            "  date: 2022-07-16_21-18-34\n",
            "  done: false\n",
            "  experiment_id: 202a61d7a01e47dca4be579c9e2dac4a\n",
            "  hostname: f6468dcefdbf\n",
            "  iterations_since_restore: 13\n",
            "  mse_loss: 0.0002885549911297858\n",
            "  node_ip: 172.28.0.2\n",
            "  pid: 34701\n",
            "  time_since_restore: 11.090550661087036\n",
            "  time_this_iter_s: 0.4250671863555908\n",
            "  time_total_s: 11.090550661087036\n",
            "  timestamp: 1658006314\n",
            "  timesteps_since_restore: 0\n",
            "  training_iteration: 13\n",
            "  trial_id: a6989_00003\n",
            "  warmup_time: 0.005987644195556641\n",
            "  \n"
          ]
        },
        {
          "name": "stderr",
          "output_type": "stream",
          "text": [
            "\u001b[2m\u001b[36m(train_qrt pid=34666)\u001b[0m \n",
            "\u001b[2m\u001b[36m(train_qrt pid=34666)\u001b[0m   | Name     | Type                | Params\n",
            "\u001b[2m\u001b[36m(train_qrt pid=34666)\u001b[0m -------------------------------------------------\n",
            "\u001b[2m\u001b[36m(train_qrt pid=34666)\u001b[0m 0 | model    | Model               | 2.5 K \n",
            "\u001b[2m\u001b[36m(train_qrt pid=34666)\u001b[0m 1 | cel_loss | CosineEmbeddingLoss | 0     \n",
            "\u001b[2m\u001b[36m(train_qrt pid=34666)\u001b[0m 2 | mse_loss | MSELoss             | 0     \n",
            "\u001b[2m\u001b[36m(train_qrt pid=34666)\u001b[0m -------------------------------------------------\n",
            "\u001b[2m\u001b[36m(train_qrt pid=34666)\u001b[0m 2.5 K     Trainable params\n",
            "\u001b[2m\u001b[36m(train_qrt pid=34666)\u001b[0m 0         Non-trainable params\n",
            "\u001b[2m\u001b[36m(train_qrt pid=34666)\u001b[0m 2.5 K     Total params\n",
            "\u001b[2m\u001b[36m(train_qrt pid=34666)\u001b[0m 0.010     Total estimated model params size (MB)\n",
            "\u001b[2m\u001b[36m(train_qrt pid=34666)\u001b[0m /usr/local/lib/python3.7/dist-packages/pytorch_lightning/trainer/trainer.py:1937: PossibleUserWarning: The number of training batches (4) is smaller than the logging interval Trainer(log_every_n_steps=50). Set a lower value for log_every_n_steps if you want to see logs for the training epoch.\n",
            "\u001b[2m\u001b[36m(train_qrt pid=34666)\u001b[0m   category=PossibleUserWarning,\n"
          ]
        },
        {
          "name": "stdout",
          "output_type": "stream",
          "text": [
            "Result for train_qrt_a6989_00004:\n",
            "  cel_loss: 0.9662608504295349\n",
            "  date: 2022-07-16_21-18-35\n",
            "  done: false\n",
            "  experiment_id: d464be6c0f664d1283297b14baf160ef\n",
            "  hostname: f6468dcefdbf\n",
            "  iterations_since_restore: 1\n",
            "  mse_loss: 0.00030063296435400844\n",
            "  node_ip: 172.28.0.2\n",
            "  pid: 34666\n",
            "  time_since_restore: 5.701086521148682\n",
            "  time_this_iter_s: 5.701086521148682\n",
            "  time_total_s: 5.701086521148682\n",
            "  timestamp: 1658006315\n",
            "  timesteps_since_restore: 0\n",
            "  training_iteration: 1\n",
            "  trial_id: a6989_00004\n",
            "  warmup_time: 0.004649162292480469\n",
            "  \n"
          ]
        },
        {
          "data": {
            "text/html": [
              "== Status ==<br>Current time: 2022-07-16 21:18:36 (running for 00:01:27.69)<br>Memory usage on this node: 2.3/12.7 GiB<br>Using FIFO scheduling algorithm.<br>Resources requested: 2.0/2 CPUs, 0/0 GPUs, 0.0/7.38 GiB heap, 0.0/3.69 GiB objects<br>Current best trial: a6989_00002 with cel_loss=0.9410867691040039 and parameters={'dropout': 0, 'num_epochs': 40, 'lr': 0.07642050372186303, 'batch_size': 64}<br>Result logdir: /root/ray_results/train_qrt_2022-07-16_21-17-08<br>Number of trials: 10/10 (5 PENDING, 2 RUNNING, 3 TERMINATED)<br><table>\n",
              "<thead>\n",
              "<tr><th>Trial name           </th><th>status    </th><th>loc             </th><th style=\"text-align: right;\">  batch_size</th><th style=\"text-align: right;\">  dropout</th><th style=\"text-align: right;\">         lr</th><th style=\"text-align: right;\">  num_epochs</th><th style=\"text-align: right;\">  iter</th><th style=\"text-align: right;\">  total time (s)</th><th style=\"text-align: right;\">   mse_loss</th><th style=\"text-align: right;\">  cel_loss</th></tr>\n",
              "</thead>\n",
              "<tbody>\n",
              "<tr><td>train_qrt_a6989_00003</td><td>RUNNING   </td><td>172.28.0.2:34701</td><td style=\"text-align: right;\">          64</td><td style=\"text-align: right;\">      0  </td><td style=\"text-align: right;\">0.000105935</td><td style=\"text-align: right;\">          60</td><td style=\"text-align: right;\">    18</td><td style=\"text-align: right;\">        13.4276 </td><td style=\"text-align: right;\">0.0002871  </td><td style=\"text-align: right;\">  0.980763</td></tr>\n",
              "<tr><td>train_qrt_a6989_00004</td><td>RUNNING   </td><td>172.28.0.2:34666</td><td style=\"text-align: right;\">         128</td><td style=\"text-align: right;\">      0  </td><td style=\"text-align: right;\">0.0251209  </td><td style=\"text-align: right;\">          40</td><td style=\"text-align: right;\">     3</td><td style=\"text-align: right;\">         6.45701</td><td style=\"text-align: right;\">0.000292512</td><td style=\"text-align: right;\">  0.943586</td></tr>\n",
              "<tr><td>train_qrt_a6989_00005</td><td>PENDING   </td><td>                </td><td style=\"text-align: right;\">          64</td><td style=\"text-align: right;\">      0.2</td><td style=\"text-align: right;\">1.66108e-05</td><td style=\"text-align: right;\">          20</td><td style=\"text-align: right;\">      </td><td style=\"text-align: right;\">                </td><td style=\"text-align: right;\">           </td><td style=\"text-align: right;\">          </td></tr>\n",
              "<tr><td>train_qrt_a6989_00006</td><td>PENDING   </td><td>                </td><td style=\"text-align: right;\">         128</td><td style=\"text-align: right;\">      0  </td><td style=\"text-align: right;\">0.0012109  </td><td style=\"text-align: right;\">          60</td><td style=\"text-align: right;\">      </td><td style=\"text-align: right;\">                </td><td style=\"text-align: right;\">           </td><td style=\"text-align: right;\">          </td></tr>\n",
              "<tr><td>train_qrt_a6989_00007</td><td>PENDING   </td><td>                </td><td style=\"text-align: right;\">         128</td><td style=\"text-align: right;\">      0.2</td><td style=\"text-align: right;\">0.0824483  </td><td style=\"text-align: right;\">         100</td><td style=\"text-align: right;\">      </td><td style=\"text-align: right;\">                </td><td style=\"text-align: right;\">           </td><td style=\"text-align: right;\">          </td></tr>\n",
              "<tr><td>train_qrt_a6989_00008</td><td>PENDING   </td><td>                </td><td style=\"text-align: right;\">         128</td><td style=\"text-align: right;\">      0  </td><td style=\"text-align: right;\">3.30049e-05</td><td style=\"text-align: right;\">          40</td><td style=\"text-align: right;\">      </td><td style=\"text-align: right;\">                </td><td style=\"text-align: right;\">           </td><td style=\"text-align: right;\">          </td></tr>\n",
              "<tr><td>train_qrt_a6989_00009</td><td>PENDING   </td><td>                </td><td style=\"text-align: right;\">         128</td><td style=\"text-align: right;\">      0.2</td><td style=\"text-align: right;\">0.000485717</td><td style=\"text-align: right;\">          40</td><td style=\"text-align: right;\">      </td><td style=\"text-align: right;\">                </td><td style=\"text-align: right;\">           </td><td style=\"text-align: right;\">          </td></tr>\n",
              "<tr><td>train_qrt_a6989_00000</td><td>TERMINATED</td><td>172.28.0.2:34666</td><td style=\"text-align: right;\">          32</td><td style=\"text-align: right;\">      0.2</td><td style=\"text-align: right;\">1.91481e-05</td><td style=\"text-align: right;\">         100</td><td style=\"text-align: right;\">   100</td><td style=\"text-align: right;\">        76.1071 </td><td style=\"text-align: right;\">0.000273303</td><td style=\"text-align: right;\">  0.96374 </td></tr>\n",
              "<tr><td>train_qrt_a6989_00001</td><td>TERMINATED</td><td>172.28.0.2:34701</td><td style=\"text-align: right;\">          64</td><td style=\"text-align: right;\">      0  </td><td style=\"text-align: right;\">0.0292711  </td><td style=\"text-align: right;\">          60</td><td style=\"text-align: right;\">    60</td><td style=\"text-align: right;\">        39.2898 </td><td style=\"text-align: right;\">0.000634046</td><td style=\"text-align: right;\">  0.947089</td></tr>\n",
              "<tr><td>train_qrt_a6989_00002</td><td>TERMINATED</td><td>172.28.0.2:34701</td><td style=\"text-align: right;\">          64</td><td style=\"text-align: right;\">      0  </td><td style=\"text-align: right;\">0.0764205  </td><td style=\"text-align: right;\">          40</td><td style=\"text-align: right;\">    40</td><td style=\"text-align: right;\">        23.4277 </td><td style=\"text-align: right;\">0.00172624 </td><td style=\"text-align: right;\">  0.941087</td></tr>\n",
              "</tbody>\n",
              "</table><br><br>"
            ],
            "text/plain": [
              "<IPython.core.display.HTML object>"
            ]
          },
          "metadata": {},
          "output_type": "display_data"
        },
        {
          "name": "stdout",
          "output_type": "stream",
          "text": [
            "Result for train_qrt_a6989_00003:\n",
            "  cel_loss: 0.9795357584953308\n",
            "  date: 2022-07-16_21-18-39\n",
            "  done: false\n",
            "  experiment_id: 202a61d7a01e47dca4be579c9e2dac4a\n",
            "  hostname: f6468dcefdbf\n",
            "  iterations_since_restore: 24\n",
            "  mse_loss: 0.000285570218693465\n",
            "  node_ip: 172.28.0.2\n",
            "  pid: 34701\n",
            "  time_since_restore: 16.1515634059906\n",
            "  time_this_iter_s: 0.46215128898620605\n",
            "  time_total_s: 16.1515634059906\n",
            "  timestamp: 1658006319\n",
            "  timesteps_since_restore: 0\n",
            "  training_iteration: 24\n",
            "  trial_id: a6989_00003\n",
            "  warmup_time: 0.005987644195556641\n",
            "  \n",
            "Result for train_qrt_a6989_00004:\n",
            "  cel_loss: 0.9474251866340637\n",
            "  date: 2022-07-16_21-18-40\n",
            "  done: false\n",
            "  experiment_id: d464be6c0f664d1283297b14baf160ef\n",
            "  hostname: f6468dcefdbf\n",
            "  iterations_since_restore: 15\n",
            "  mse_loss: 0.00035884795943275094\n",
            "  node_ip: 172.28.0.2\n",
            "  pid: 34666\n",
            "  time_since_restore: 10.833632469177246\n",
            "  time_this_iter_s: 0.37945985794067383\n",
            "  time_total_s: 10.833632469177246\n",
            "  timestamp: 1658006320\n",
            "  timesteps_since_restore: 0\n",
            "  training_iteration: 15\n",
            "  trial_id: a6989_00004\n",
            "  warmup_time: 0.004649162292480469\n",
            "  \n"
          ]
        },
        {
          "data": {
            "text/html": [
              "== Status ==<br>Current time: 2022-07-16 21:18:41 (running for 00:01:32.79)<br>Memory usage on this node: 2.3/12.7 GiB<br>Using FIFO scheduling algorithm.<br>Resources requested: 2.0/2 CPUs, 0/0 GPUs, 0.0/7.38 GiB heap, 0.0/3.69 GiB objects<br>Current best trial: a6989_00002 with cel_loss=0.9410867691040039 and parameters={'dropout': 0, 'num_epochs': 40, 'lr': 0.07642050372186303, 'batch_size': 64}<br>Result logdir: /root/ray_results/train_qrt_2022-07-16_21-17-08<br>Number of trials: 10/10 (5 PENDING, 2 RUNNING, 3 TERMINATED)<br><table>\n",
              "<thead>\n",
              "<tr><th>Trial name           </th><th>status    </th><th>loc             </th><th style=\"text-align: right;\">  batch_size</th><th style=\"text-align: right;\">  dropout</th><th style=\"text-align: right;\">         lr</th><th style=\"text-align: right;\">  num_epochs</th><th style=\"text-align: right;\">  iter</th><th style=\"text-align: right;\">  total time (s)</th><th style=\"text-align: right;\">   mse_loss</th><th style=\"text-align: right;\">  cel_loss</th></tr>\n",
              "</thead>\n",
              "<tbody>\n",
              "<tr><td>train_qrt_a6989_00003</td><td>RUNNING   </td><td>172.28.0.2:34701</td><td style=\"text-align: right;\">          64</td><td style=\"text-align: right;\">      0  </td><td style=\"text-align: right;\">0.000105935</td><td style=\"text-align: right;\">          60</td><td style=\"text-align: right;\">    29</td><td style=\"text-align: right;\">         18.407 </td><td style=\"text-align: right;\">0.000284334</td><td style=\"text-align: right;\">  0.978867</td></tr>\n",
              "<tr><td>train_qrt_a6989_00004</td><td>RUNNING   </td><td>172.28.0.2:34666</td><td style=\"text-align: right;\">         128</td><td style=\"text-align: right;\">      0  </td><td style=\"text-align: right;\">0.0251209  </td><td style=\"text-align: right;\">          40</td><td style=\"text-align: right;\">    17</td><td style=\"text-align: right;\">         11.5564</td><td style=\"text-align: right;\">0.000359358</td><td style=\"text-align: right;\">  0.945641</td></tr>\n",
              "<tr><td>train_qrt_a6989_00005</td><td>PENDING   </td><td>                </td><td style=\"text-align: right;\">          64</td><td style=\"text-align: right;\">      0.2</td><td style=\"text-align: right;\">1.66108e-05</td><td style=\"text-align: right;\">          20</td><td style=\"text-align: right;\">      </td><td style=\"text-align: right;\">                </td><td style=\"text-align: right;\">           </td><td style=\"text-align: right;\">          </td></tr>\n",
              "<tr><td>train_qrt_a6989_00006</td><td>PENDING   </td><td>                </td><td style=\"text-align: right;\">         128</td><td style=\"text-align: right;\">      0  </td><td style=\"text-align: right;\">0.0012109  </td><td style=\"text-align: right;\">          60</td><td style=\"text-align: right;\">      </td><td style=\"text-align: right;\">                </td><td style=\"text-align: right;\">           </td><td style=\"text-align: right;\">          </td></tr>\n",
              "<tr><td>train_qrt_a6989_00007</td><td>PENDING   </td><td>                </td><td style=\"text-align: right;\">         128</td><td style=\"text-align: right;\">      0.2</td><td style=\"text-align: right;\">0.0824483  </td><td style=\"text-align: right;\">         100</td><td style=\"text-align: right;\">      </td><td style=\"text-align: right;\">                </td><td style=\"text-align: right;\">           </td><td style=\"text-align: right;\">          </td></tr>\n",
              "<tr><td>train_qrt_a6989_00008</td><td>PENDING   </td><td>                </td><td style=\"text-align: right;\">         128</td><td style=\"text-align: right;\">      0  </td><td style=\"text-align: right;\">3.30049e-05</td><td style=\"text-align: right;\">          40</td><td style=\"text-align: right;\">      </td><td style=\"text-align: right;\">                </td><td style=\"text-align: right;\">           </td><td style=\"text-align: right;\">          </td></tr>\n",
              "<tr><td>train_qrt_a6989_00009</td><td>PENDING   </td><td>                </td><td style=\"text-align: right;\">         128</td><td style=\"text-align: right;\">      0.2</td><td style=\"text-align: right;\">0.000485717</td><td style=\"text-align: right;\">          40</td><td style=\"text-align: right;\">      </td><td style=\"text-align: right;\">                </td><td style=\"text-align: right;\">           </td><td style=\"text-align: right;\">          </td></tr>\n",
              "<tr><td>train_qrt_a6989_00000</td><td>TERMINATED</td><td>172.28.0.2:34666</td><td style=\"text-align: right;\">          32</td><td style=\"text-align: right;\">      0.2</td><td style=\"text-align: right;\">1.91481e-05</td><td style=\"text-align: right;\">         100</td><td style=\"text-align: right;\">   100</td><td style=\"text-align: right;\">         76.1071</td><td style=\"text-align: right;\">0.000273303</td><td style=\"text-align: right;\">  0.96374 </td></tr>\n",
              "<tr><td>train_qrt_a6989_00001</td><td>TERMINATED</td><td>172.28.0.2:34701</td><td style=\"text-align: right;\">          64</td><td style=\"text-align: right;\">      0  </td><td style=\"text-align: right;\">0.0292711  </td><td style=\"text-align: right;\">          60</td><td style=\"text-align: right;\">    60</td><td style=\"text-align: right;\">         39.2898</td><td style=\"text-align: right;\">0.000634046</td><td style=\"text-align: right;\">  0.947089</td></tr>\n",
              "<tr><td>train_qrt_a6989_00002</td><td>TERMINATED</td><td>172.28.0.2:34701</td><td style=\"text-align: right;\">          64</td><td style=\"text-align: right;\">      0  </td><td style=\"text-align: right;\">0.0764205  </td><td style=\"text-align: right;\">          40</td><td style=\"text-align: right;\">    40</td><td style=\"text-align: right;\">         23.4277</td><td style=\"text-align: right;\">0.00172624 </td><td style=\"text-align: right;\">  0.941087</td></tr>\n",
              "</tbody>\n",
              "</table><br><br>"
            ],
            "text/plain": [
              "<IPython.core.display.HTML object>"
            ]
          },
          "metadata": {},
          "output_type": "display_data"
        },
        {
          "name": "stdout",
          "output_type": "stream",
          "text": [
            "Result for train_qrt_a6989_00003:\n",
            "  cel_loss: 0.9781249761581421\n",
            "  date: 2022-07-16_21-18-44\n",
            "  done: false\n",
            "  experiment_id: 202a61d7a01e47dca4be579c9e2dac4a\n",
            "  hostname: f6468dcefdbf\n",
            "  iterations_since_restore: 36\n",
            "  mse_loss: 0.0002828642027452588\n",
            "  node_ip: 172.28.0.2\n",
            "  pid: 34701\n",
            "  time_since_restore: 21.497045755386353\n",
            "  time_this_iter_s: 0.43561291694641113\n",
            "  time_total_s: 21.497045755386353\n",
            "  timestamp: 1658006324\n",
            "  timesteps_since_restore: 0\n",
            "  training_iteration: 36\n",
            "  trial_id: a6989_00003\n",
            "  warmup_time: 0.005987644195556641\n",
            "  \n",
            "Result for train_qrt_a6989_00004:\n",
            "  cel_loss: 0.9474785327911377\n",
            "  date: 2022-07-16_21-18-46\n",
            "  done: false\n",
            "  experiment_id: d464be6c0f664d1283297b14baf160ef\n",
            "  hostname: f6468dcefdbf\n",
            "  iterations_since_restore: 29\n",
            "  mse_loss: 0.00037120835622772574\n",
            "  node_ip: 172.28.0.2\n",
            "  pid: 34666\n",
            "  time_since_restore: 15.921068668365479\n",
            "  time_this_iter_s: 0.36242222785949707\n",
            "  time_total_s: 15.921068668365479\n",
            "  timestamp: 1658006326\n",
            "  timesteps_since_restore: 0\n",
            "  training_iteration: 29\n",
            "  trial_id: a6989_00004\n",
            "  warmup_time: 0.004649162292480469\n",
            "  \n"
          ]
        },
        {
          "data": {
            "text/html": [
              "== Status ==<br>Current time: 2022-07-16 21:18:46 (running for 00:01:37.79)<br>Memory usage on this node: 2.3/12.7 GiB<br>Using FIFO scheduling algorithm.<br>Resources requested: 2.0/2 CPUs, 0/0 GPUs, 0.0/7.38 GiB heap, 0.0/3.69 GiB objects<br>Current best trial: a6989_00002 with cel_loss=0.9410867691040039 and parameters={'dropout': 0, 'num_epochs': 40, 'lr': 0.07642050372186303, 'batch_size': 64}<br>Result logdir: /root/ray_results/train_qrt_2022-07-16_21-17-08<br>Number of trials: 10/10 (5 PENDING, 2 RUNNING, 3 TERMINATED)<br><table>\n",
              "<thead>\n",
              "<tr><th>Trial name           </th><th>status    </th><th>loc             </th><th style=\"text-align: right;\">  batch_size</th><th style=\"text-align: right;\">  dropout</th><th style=\"text-align: right;\">         lr</th><th style=\"text-align: right;\">  num_epochs</th><th style=\"text-align: right;\">  iter</th><th style=\"text-align: right;\">  total time (s)</th><th style=\"text-align: right;\">   mse_loss</th><th style=\"text-align: right;\">  cel_loss</th></tr>\n",
              "</thead>\n",
              "<tbody>\n",
              "<tr><td>train_qrt_a6989_00003</td><td>RUNNING   </td><td>172.28.0.2:34701</td><td style=\"text-align: right;\">          64</td><td style=\"text-align: right;\">      0  </td><td style=\"text-align: right;\">0.000105935</td><td style=\"text-align: right;\">          60</td><td style=\"text-align: right;\">    41</td><td style=\"text-align: right;\">         23.7725</td><td style=\"text-align: right;\">0.000281935</td><td style=\"text-align: right;\">  0.977742</td></tr>\n",
              "<tr><td>train_qrt_a6989_00004</td><td>RUNNING   </td><td>172.28.0.2:34666</td><td style=\"text-align: right;\">         128</td><td style=\"text-align: right;\">      0  </td><td style=\"text-align: right;\">0.0251209  </td><td style=\"text-align: right;\">          40</td><td style=\"text-align: right;\">    30</td><td style=\"text-align: right;\">         16.3413</td><td style=\"text-align: right;\">0.000373542</td><td style=\"text-align: right;\">  0.945877</td></tr>\n",
              "<tr><td>train_qrt_a6989_00005</td><td>PENDING   </td><td>                </td><td style=\"text-align: right;\">          64</td><td style=\"text-align: right;\">      0.2</td><td style=\"text-align: right;\">1.66108e-05</td><td style=\"text-align: right;\">          20</td><td style=\"text-align: right;\">      </td><td style=\"text-align: right;\">                </td><td style=\"text-align: right;\">           </td><td style=\"text-align: right;\">          </td></tr>\n",
              "<tr><td>train_qrt_a6989_00006</td><td>PENDING   </td><td>                </td><td style=\"text-align: right;\">         128</td><td style=\"text-align: right;\">      0  </td><td style=\"text-align: right;\">0.0012109  </td><td style=\"text-align: right;\">          60</td><td style=\"text-align: right;\">      </td><td style=\"text-align: right;\">                </td><td style=\"text-align: right;\">           </td><td style=\"text-align: right;\">          </td></tr>\n",
              "<tr><td>train_qrt_a6989_00007</td><td>PENDING   </td><td>                </td><td style=\"text-align: right;\">         128</td><td style=\"text-align: right;\">      0.2</td><td style=\"text-align: right;\">0.0824483  </td><td style=\"text-align: right;\">         100</td><td style=\"text-align: right;\">      </td><td style=\"text-align: right;\">                </td><td style=\"text-align: right;\">           </td><td style=\"text-align: right;\">          </td></tr>\n",
              "<tr><td>train_qrt_a6989_00008</td><td>PENDING   </td><td>                </td><td style=\"text-align: right;\">         128</td><td style=\"text-align: right;\">      0  </td><td style=\"text-align: right;\">3.30049e-05</td><td style=\"text-align: right;\">          40</td><td style=\"text-align: right;\">      </td><td style=\"text-align: right;\">                </td><td style=\"text-align: right;\">           </td><td style=\"text-align: right;\">          </td></tr>\n",
              "<tr><td>train_qrt_a6989_00009</td><td>PENDING   </td><td>                </td><td style=\"text-align: right;\">         128</td><td style=\"text-align: right;\">      0.2</td><td style=\"text-align: right;\">0.000485717</td><td style=\"text-align: right;\">          40</td><td style=\"text-align: right;\">      </td><td style=\"text-align: right;\">                </td><td style=\"text-align: right;\">           </td><td style=\"text-align: right;\">          </td></tr>\n",
              "<tr><td>train_qrt_a6989_00000</td><td>TERMINATED</td><td>172.28.0.2:34666</td><td style=\"text-align: right;\">          32</td><td style=\"text-align: right;\">      0.2</td><td style=\"text-align: right;\">1.91481e-05</td><td style=\"text-align: right;\">         100</td><td style=\"text-align: right;\">   100</td><td style=\"text-align: right;\">         76.1071</td><td style=\"text-align: right;\">0.000273303</td><td style=\"text-align: right;\">  0.96374 </td></tr>\n",
              "<tr><td>train_qrt_a6989_00001</td><td>TERMINATED</td><td>172.28.0.2:34701</td><td style=\"text-align: right;\">          64</td><td style=\"text-align: right;\">      0  </td><td style=\"text-align: right;\">0.0292711  </td><td style=\"text-align: right;\">          60</td><td style=\"text-align: right;\">    60</td><td style=\"text-align: right;\">         39.2898</td><td style=\"text-align: right;\">0.000634046</td><td style=\"text-align: right;\">  0.947089</td></tr>\n",
              "<tr><td>train_qrt_a6989_00002</td><td>TERMINATED</td><td>172.28.0.2:34701</td><td style=\"text-align: right;\">          64</td><td style=\"text-align: right;\">      0  </td><td style=\"text-align: right;\">0.0764205  </td><td style=\"text-align: right;\">          40</td><td style=\"text-align: right;\">    40</td><td style=\"text-align: right;\">         23.4277</td><td style=\"text-align: right;\">0.00172624 </td><td style=\"text-align: right;\">  0.941087</td></tr>\n",
              "</tbody>\n",
              "</table><br><br>"
            ],
            "text/plain": [
              "<IPython.core.display.HTML object>"
            ]
          },
          "metadata": {},
          "output_type": "display_data"
        },
        {
          "name": "stdout",
          "output_type": "stream",
          "text": [
            "Result for train_qrt_a6989_00003:\n",
            "  cel_loss: 0.9765589833259583\n",
            "  date: 2022-07-16_21-18-49\n",
            "  done: false\n",
            "  experiment_id: 202a61d7a01e47dca4be579c9e2dac4a\n",
            "  hostname: f6468dcefdbf\n",
            "  iterations_since_restore: 48\n",
            "  mse_loss: 0.00028089628904126585\n",
            "  node_ip: 172.28.0.2\n",
            "  pid: 34701\n",
            "  time_since_restore: 26.89293146133423\n",
            "  time_this_iter_s: 0.42374634742736816\n",
            "  time_total_s: 26.89293146133423\n",
            "  timestamp: 1658006329\n",
            "  timesteps_since_restore: 0\n",
            "  training_iteration: 48\n",
            "  trial_id: a6989_00003\n",
            "  warmup_time: 0.005987644195556641\n",
            "  \n",
            "Result for train_qrt_a6989_00004:\n",
            "  cel_loss: 0.9424408078193665\n",
            "  date: 2022-07-16_21-18-50\n",
            "  done: true\n",
            "  experiment_id: d464be6c0f664d1283297b14baf160ef\n",
            "  experiment_tag: 4_batch_size=128,dropout=0,lr=0.0251,num_epochs=40\n",
            "  hostname: f6468dcefdbf\n",
            "  iterations_since_restore: 40\n",
            "  mse_loss: 0.00038587721064686775\n",
            "  node_ip: 172.28.0.2\n",
            "  pid: 34666\n",
            "  time_since_restore: 19.972320795059204\n",
            "  time_this_iter_s: 0.37590885162353516\n",
            "  time_total_s: 19.972320795059204\n",
            "  timestamp: 1658006330\n",
            "  timesteps_since_restore: 0\n",
            "  training_iteration: 40\n",
            "  trial_id: a6989_00004\n",
            "  warmup_time: 0.004649162292480469\n",
            "  \n"
          ]
        },
        {
          "name": "stderr",
          "output_type": "stream",
          "text": [
            "\u001b[2m\u001b[36m(train_qrt pid=34666)\u001b[0m GPU available: False, used: False\n",
            "\u001b[2m\u001b[36m(train_qrt pid=34666)\u001b[0m TPU available: False, using: 0 TPU cores\n",
            "\u001b[2m\u001b[36m(train_qrt pid=34666)\u001b[0m IPU available: False, using: 0 IPUs\n",
            "\u001b[2m\u001b[36m(train_qrt pid=34666)\u001b[0m HPU available: False, using: 0 HPUs\n",
            "\u001b[2m\u001b[36m(train_qrt pid=34666)\u001b[0m Missing logger folder: /root/ray_results/train_qrt_2022-07-16_21-17-08/train_qrt_a6989_00005_5_batch_size=64,dropout=0.2000,lr=0.0000,num_epochs=20_2022-07-16_21-18-50/lightning_logs\n"
          ]
        },
        {
          "data": {
            "text/html": [
              "== Status ==<br>Current time: 2022-07-16 21:18:51 (running for 00:01:42.90)<br>Memory usage on this node: 2.3/12.7 GiB<br>Using FIFO scheduling algorithm.<br>Resources requested: 2.0/2 CPUs, 0/0 GPUs, 0.0/7.38 GiB heap, 0.0/3.69 GiB objects<br>Current best trial: a6989_00002 with cel_loss=0.9410867691040039 and parameters={'dropout': 0, 'num_epochs': 40, 'lr': 0.07642050372186303, 'batch_size': 64}<br>Result logdir: /root/ray_results/train_qrt_2022-07-16_21-17-08<br>Number of trials: 10/10 (4 PENDING, 2 RUNNING, 4 TERMINATED)<br><table>\n",
              "<thead>\n",
              "<tr><th>Trial name           </th><th>status    </th><th>loc             </th><th style=\"text-align: right;\">  batch_size</th><th style=\"text-align: right;\">  dropout</th><th style=\"text-align: right;\">         lr</th><th style=\"text-align: right;\">  num_epochs</th><th style=\"text-align: right;\">  iter</th><th style=\"text-align: right;\">  total time (s)</th><th style=\"text-align: right;\">   mse_loss</th><th style=\"text-align: right;\">  cel_loss</th></tr>\n",
              "</thead>\n",
              "<tbody>\n",
              "<tr><td>train_qrt_a6989_00003</td><td>RUNNING   </td><td>172.28.0.2:34701</td><td style=\"text-align: right;\">          64</td><td style=\"text-align: right;\">      0  </td><td style=\"text-align: right;\">0.000105935</td><td style=\"text-align: right;\">          60</td><td style=\"text-align: right;\">    52</td><td style=\"text-align: right;\">         28.8669</td><td style=\"text-align: right;\">0.000280455</td><td style=\"text-align: right;\">  0.975568</td></tr>\n",
              "<tr><td>train_qrt_a6989_00005</td><td>RUNNING   </td><td>172.28.0.2:34666</td><td style=\"text-align: right;\">          64</td><td style=\"text-align: right;\">      0.2</td><td style=\"text-align: right;\">1.66108e-05</td><td style=\"text-align: right;\">          20</td><td style=\"text-align: right;\">      </td><td style=\"text-align: right;\">                </td><td style=\"text-align: right;\">           </td><td style=\"text-align: right;\">          </td></tr>\n",
              "<tr><td>train_qrt_a6989_00006</td><td>PENDING   </td><td>                </td><td style=\"text-align: right;\">         128</td><td style=\"text-align: right;\">      0  </td><td style=\"text-align: right;\">0.0012109  </td><td style=\"text-align: right;\">          60</td><td style=\"text-align: right;\">      </td><td style=\"text-align: right;\">                </td><td style=\"text-align: right;\">           </td><td style=\"text-align: right;\">          </td></tr>\n",
              "<tr><td>train_qrt_a6989_00007</td><td>PENDING   </td><td>                </td><td style=\"text-align: right;\">         128</td><td style=\"text-align: right;\">      0.2</td><td style=\"text-align: right;\">0.0824483  </td><td style=\"text-align: right;\">         100</td><td style=\"text-align: right;\">      </td><td style=\"text-align: right;\">                </td><td style=\"text-align: right;\">           </td><td style=\"text-align: right;\">          </td></tr>\n",
              "<tr><td>train_qrt_a6989_00008</td><td>PENDING   </td><td>                </td><td style=\"text-align: right;\">         128</td><td style=\"text-align: right;\">      0  </td><td style=\"text-align: right;\">3.30049e-05</td><td style=\"text-align: right;\">          40</td><td style=\"text-align: right;\">      </td><td style=\"text-align: right;\">                </td><td style=\"text-align: right;\">           </td><td style=\"text-align: right;\">          </td></tr>\n",
              "<tr><td>train_qrt_a6989_00009</td><td>PENDING   </td><td>                </td><td style=\"text-align: right;\">         128</td><td style=\"text-align: right;\">      0.2</td><td style=\"text-align: right;\">0.000485717</td><td style=\"text-align: right;\">          40</td><td style=\"text-align: right;\">      </td><td style=\"text-align: right;\">                </td><td style=\"text-align: right;\">           </td><td style=\"text-align: right;\">          </td></tr>\n",
              "<tr><td>train_qrt_a6989_00000</td><td>TERMINATED</td><td>172.28.0.2:34666</td><td style=\"text-align: right;\">          32</td><td style=\"text-align: right;\">      0.2</td><td style=\"text-align: right;\">1.91481e-05</td><td style=\"text-align: right;\">         100</td><td style=\"text-align: right;\">   100</td><td style=\"text-align: right;\">         76.1071</td><td style=\"text-align: right;\">0.000273303</td><td style=\"text-align: right;\">  0.96374 </td></tr>\n",
              "<tr><td>train_qrt_a6989_00001</td><td>TERMINATED</td><td>172.28.0.2:34701</td><td style=\"text-align: right;\">          64</td><td style=\"text-align: right;\">      0  </td><td style=\"text-align: right;\">0.0292711  </td><td style=\"text-align: right;\">          60</td><td style=\"text-align: right;\">    60</td><td style=\"text-align: right;\">         39.2898</td><td style=\"text-align: right;\">0.000634046</td><td style=\"text-align: right;\">  0.947089</td></tr>\n",
              "<tr><td>train_qrt_a6989_00002</td><td>TERMINATED</td><td>172.28.0.2:34701</td><td style=\"text-align: right;\">          64</td><td style=\"text-align: right;\">      0  </td><td style=\"text-align: right;\">0.0764205  </td><td style=\"text-align: right;\">          40</td><td style=\"text-align: right;\">    40</td><td style=\"text-align: right;\">         23.4277</td><td style=\"text-align: right;\">0.00172624 </td><td style=\"text-align: right;\">  0.941087</td></tr>\n",
              "<tr><td>train_qrt_a6989_00004</td><td>TERMINATED</td><td>172.28.0.2:34666</td><td style=\"text-align: right;\">         128</td><td style=\"text-align: right;\">      0  </td><td style=\"text-align: right;\">0.0251209  </td><td style=\"text-align: right;\">          40</td><td style=\"text-align: right;\">    40</td><td style=\"text-align: right;\">         19.9723</td><td style=\"text-align: right;\">0.000385877</td><td style=\"text-align: right;\">  0.942441</td></tr>\n",
              "</tbody>\n",
              "</table><br><br>"
            ],
            "text/plain": [
              "<IPython.core.display.HTML object>"
            ]
          },
          "metadata": {},
          "output_type": "display_data"
        },
        {
          "name": "stdout",
          "output_type": "stream",
          "text": [
            "Result for train_qrt_a6989_00003:\n",
            "  cel_loss: 0.9739927053451538\n",
            "  date: 2022-07-16_21-18-55\n",
            "  done: false\n",
            "  experiment_id: 202a61d7a01e47dca4be579c9e2dac4a\n",
            "  hostname: f6468dcefdbf\n",
            "  iterations_since_restore: 57\n",
            "  mse_loss: 0.00027990745729766786\n",
            "  node_ip: 172.28.0.2\n",
            "  pid: 34701\n",
            "  time_since_restore: 32.4568145275116\n",
            "  time_this_iter_s: 0.603740930557251\n",
            "  time_total_s: 32.4568145275116\n",
            "  timestamp: 1658006335\n",
            "  timesteps_since_restore: 0\n",
            "  training_iteration: 57\n",
            "  trial_id: a6989_00003\n",
            "  warmup_time: 0.005987644195556641\n",
            "  \n"
          ]
        },
        {
          "data": {
            "text/html": [
              "== Status ==<br>Current time: 2022-07-16 21:18:56 (running for 00:01:47.93)<br>Memory usage on this node: 2.2/12.7 GiB<br>Using FIFO scheduling algorithm.<br>Resources requested: 2.0/2 CPUs, 0/0 GPUs, 0.0/7.38 GiB heap, 0.0/3.69 GiB objects<br>Current best trial: a6989_00002 with cel_loss=0.9410867691040039 and parameters={'dropout': 0, 'num_epochs': 40, 'lr': 0.07642050372186303, 'batch_size': 64}<br>Result logdir: /root/ray_results/train_qrt_2022-07-16_21-17-08<br>Number of trials: 10/10 (4 PENDING, 2 RUNNING, 4 TERMINATED)<br><table>\n",
              "<thead>\n",
              "<tr><th>Trial name           </th><th>status    </th><th>loc             </th><th style=\"text-align: right;\">  batch_size</th><th style=\"text-align: right;\">  dropout</th><th style=\"text-align: right;\">         lr</th><th style=\"text-align: right;\">  num_epochs</th><th style=\"text-align: right;\">  iter</th><th style=\"text-align: right;\">  total time (s)</th><th style=\"text-align: right;\">   mse_loss</th><th style=\"text-align: right;\">  cel_loss</th></tr>\n",
              "</thead>\n",
              "<tbody>\n",
              "<tr><td>train_qrt_a6989_00003</td><td>RUNNING   </td><td>172.28.0.2:34701</td><td style=\"text-align: right;\">          64</td><td style=\"text-align: right;\">      0  </td><td style=\"text-align: right;\">0.000105935</td><td style=\"text-align: right;\">          60</td><td style=\"text-align: right;\">    60</td><td style=\"text-align: right;\">         33.8411</td><td style=\"text-align: right;\">0.00027963 </td><td style=\"text-align: right;\">  0.972996</td></tr>\n",
              "<tr><td>train_qrt_a6989_00005</td><td>RUNNING   </td><td>172.28.0.2:34666</td><td style=\"text-align: right;\">          64</td><td style=\"text-align: right;\">      0.2</td><td style=\"text-align: right;\">1.66108e-05</td><td style=\"text-align: right;\">          20</td><td style=\"text-align: right;\">      </td><td style=\"text-align: right;\">                </td><td style=\"text-align: right;\">           </td><td style=\"text-align: right;\">          </td></tr>\n",
              "<tr><td>train_qrt_a6989_00006</td><td>PENDING   </td><td>                </td><td style=\"text-align: right;\">         128</td><td style=\"text-align: right;\">      0  </td><td style=\"text-align: right;\">0.0012109  </td><td style=\"text-align: right;\">          60</td><td style=\"text-align: right;\">      </td><td style=\"text-align: right;\">                </td><td style=\"text-align: right;\">           </td><td style=\"text-align: right;\">          </td></tr>\n",
              "<tr><td>train_qrt_a6989_00007</td><td>PENDING   </td><td>                </td><td style=\"text-align: right;\">         128</td><td style=\"text-align: right;\">      0.2</td><td style=\"text-align: right;\">0.0824483  </td><td style=\"text-align: right;\">         100</td><td style=\"text-align: right;\">      </td><td style=\"text-align: right;\">                </td><td style=\"text-align: right;\">           </td><td style=\"text-align: right;\">          </td></tr>\n",
              "<tr><td>train_qrt_a6989_00008</td><td>PENDING   </td><td>                </td><td style=\"text-align: right;\">         128</td><td style=\"text-align: right;\">      0  </td><td style=\"text-align: right;\">3.30049e-05</td><td style=\"text-align: right;\">          40</td><td style=\"text-align: right;\">      </td><td style=\"text-align: right;\">                </td><td style=\"text-align: right;\">           </td><td style=\"text-align: right;\">          </td></tr>\n",
              "<tr><td>train_qrt_a6989_00009</td><td>PENDING   </td><td>                </td><td style=\"text-align: right;\">         128</td><td style=\"text-align: right;\">      0.2</td><td style=\"text-align: right;\">0.000485717</td><td style=\"text-align: right;\">          40</td><td style=\"text-align: right;\">      </td><td style=\"text-align: right;\">                </td><td style=\"text-align: right;\">           </td><td style=\"text-align: right;\">          </td></tr>\n",
              "<tr><td>train_qrt_a6989_00000</td><td>TERMINATED</td><td>172.28.0.2:34666</td><td style=\"text-align: right;\">          32</td><td style=\"text-align: right;\">      0.2</td><td style=\"text-align: right;\">1.91481e-05</td><td style=\"text-align: right;\">         100</td><td style=\"text-align: right;\">   100</td><td style=\"text-align: right;\">         76.1071</td><td style=\"text-align: right;\">0.000273303</td><td style=\"text-align: right;\">  0.96374 </td></tr>\n",
              "<tr><td>train_qrt_a6989_00001</td><td>TERMINATED</td><td>172.28.0.2:34701</td><td style=\"text-align: right;\">          64</td><td style=\"text-align: right;\">      0  </td><td style=\"text-align: right;\">0.0292711  </td><td style=\"text-align: right;\">          60</td><td style=\"text-align: right;\">    60</td><td style=\"text-align: right;\">         39.2898</td><td style=\"text-align: right;\">0.000634046</td><td style=\"text-align: right;\">  0.947089</td></tr>\n",
              "<tr><td>train_qrt_a6989_00002</td><td>TERMINATED</td><td>172.28.0.2:34701</td><td style=\"text-align: right;\">          64</td><td style=\"text-align: right;\">      0  </td><td style=\"text-align: right;\">0.0764205  </td><td style=\"text-align: right;\">          40</td><td style=\"text-align: right;\">    40</td><td style=\"text-align: right;\">         23.4277</td><td style=\"text-align: right;\">0.00172624 </td><td style=\"text-align: right;\">  0.941087</td></tr>\n",
              "<tr><td>train_qrt_a6989_00004</td><td>TERMINATED</td><td>172.28.0.2:34666</td><td style=\"text-align: right;\">         128</td><td style=\"text-align: right;\">      0  </td><td style=\"text-align: right;\">0.0251209  </td><td style=\"text-align: right;\">          40</td><td style=\"text-align: right;\">    40</td><td style=\"text-align: right;\">         19.9723</td><td style=\"text-align: right;\">0.000385877</td><td style=\"text-align: right;\">  0.942441</td></tr>\n",
              "</tbody>\n",
              "</table><br><br>"
            ],
            "text/plain": [
              "<IPython.core.display.HTML object>"
            ]
          },
          "metadata": {},
          "output_type": "display_data"
        },
        {
          "name": "stdout",
          "output_type": "stream",
          "text": [
            "Result for train_qrt_a6989_00003:\n",
            "  cel_loss: 0.9729956984519958\n",
            "  date: 2022-07-16_21-18-56\n",
            "  done: true\n",
            "  experiment_id: 202a61d7a01e47dca4be579c9e2dac4a\n",
            "  experiment_tag: 3_batch_size=64,dropout=0,lr=0.0001,num_epochs=60\n",
            "  hostname: f6468dcefdbf\n",
            "  iterations_since_restore: 60\n",
            "  mse_loss: 0.00027963006868958473\n",
            "  node_ip: 172.28.0.2\n",
            "  pid: 34701\n",
            "  time_since_restore: 33.8410747051239\n",
            "  time_this_iter_s: 0.45601534843444824\n",
            "  time_total_s: 33.8410747051239\n",
            "  timestamp: 1658006336\n",
            "  timesteps_since_restore: 0\n",
            "  training_iteration: 60\n",
            "  trial_id: a6989_00003\n",
            "  warmup_time: 0.005987644195556641\n",
            "  \n"
          ]
        },
        {
          "name": "stderr",
          "output_type": "stream",
          "text": [
            "\u001b[2m\u001b[36m(train_qrt pid=34701)\u001b[0m GPU available: False, used: False\n",
            "\u001b[2m\u001b[36m(train_qrt pid=34701)\u001b[0m TPU available: False, using: 0 TPU cores\n",
            "\u001b[2m\u001b[36m(train_qrt pid=34701)\u001b[0m IPU available: False, using: 0 IPUs\n",
            "\u001b[2m\u001b[36m(train_qrt pid=34701)\u001b[0m HPU available: False, using: 0 HPUs\n",
            "\u001b[2m\u001b[36m(train_qrt pid=34701)\u001b[0m Missing logger folder: /root/ray_results/train_qrt_2022-07-16_21-17-08/train_qrt_a6989_00006_6_batch_size=128,dropout=0,lr=0.0012,num_epochs=60_2022-07-16_21-18-56/lightning_logs\n",
            "\u001b[2m\u001b[36m(train_qrt pid=34666)\u001b[0m \n",
            "\u001b[2m\u001b[36m(train_qrt pid=34666)\u001b[0m   | Name     | Type                | Params\n",
            "\u001b[2m\u001b[36m(train_qrt pid=34666)\u001b[0m -------------------------------------------------\n",
            "\u001b[2m\u001b[36m(train_qrt pid=34666)\u001b[0m 0 | model    | Model               | 2.5 K \n",
            "\u001b[2m\u001b[36m(train_qrt pid=34666)\u001b[0m 1 | cel_loss | CosineEmbeddingLoss | 0     \n",
            "\u001b[2m\u001b[36m(train_qrt pid=34666)\u001b[0m 2 | mse_loss | MSELoss             | 0     \n",
            "\u001b[2m\u001b[36m(train_qrt pid=34666)\u001b[0m -------------------------------------------------\n",
            "\u001b[2m\u001b[36m(train_qrt pid=34666)\u001b[0m 2.5 K     Trainable params\n",
            "\u001b[2m\u001b[36m(train_qrt pid=34666)\u001b[0m 0         Non-trainable params\n",
            "\u001b[2m\u001b[36m(train_qrt pid=34666)\u001b[0m 2.5 K     Total params\n",
            "\u001b[2m\u001b[36m(train_qrt pid=34666)\u001b[0m 0.010     Total estimated model params size (MB)\n",
            "\u001b[2m\u001b[36m(train_qrt pid=34666)\u001b[0m /usr/local/lib/python3.7/dist-packages/pytorch_lightning/trainer/trainer.py:1937: PossibleUserWarning: The number of training batches (8) is smaller than the logging interval Trainer(log_every_n_steps=50). Set a lower value for log_every_n_steps if you want to see logs for the training epoch.\n",
            "\u001b[2m\u001b[36m(train_qrt pid=34666)\u001b[0m   category=PossibleUserWarning,\n"
          ]
        },
        {
          "name": "stdout",
          "output_type": "stream",
          "text": [
            "Result for train_qrt_a6989_00005:\n",
            "  cel_loss: 0.9893707633018494\n",
            "  date: 2022-07-16_21-18-57\n",
            "  done: false\n",
            "  experiment_id: d464be6c0f664d1283297b14baf160ef\n",
            "  hostname: f6468dcefdbf\n",
            "  iterations_since_restore: 1\n",
            "  mse_loss: 0.0003017639392055571\n",
            "  node_ip: 172.28.0.2\n",
            "  pid: 34666\n",
            "  time_since_restore: 7.685497045516968\n",
            "  time_this_iter_s: 7.685497045516968\n",
            "  time_total_s: 7.685497045516968\n",
            "  timestamp: 1658006337\n",
            "  timesteps_since_restore: 0\n",
            "  training_iteration: 1\n",
            "  trial_id: a6989_00005\n",
            "  warmup_time: 0.004649162292480469\n",
            "  \n"
          ]
        },
        {
          "name": "stderr",
          "output_type": "stream",
          "text": [
            "\u001b[2m\u001b[36m(train_qrt pid=34701)\u001b[0m \n",
            "\u001b[2m\u001b[36m(train_qrt pid=34701)\u001b[0m   | Name     | Type                | Params\n",
            "\u001b[2m\u001b[36m(train_qrt pid=34701)\u001b[0m -------------------------------------------------\n",
            "\u001b[2m\u001b[36m(train_qrt pid=34701)\u001b[0m 0 | model    | Model               | 2.5 K \n",
            "\u001b[2m\u001b[36m(train_qrt pid=34701)\u001b[0m 1 | cel_loss | CosineEmbeddingLoss | 0     \n",
            "\u001b[2m\u001b[36m(train_qrt pid=34701)\u001b[0m 2 | mse_loss | MSELoss             | 0     \n",
            "\u001b[2m\u001b[36m(train_qrt pid=34701)\u001b[0m -------------------------------------------------\n",
            "\u001b[2m\u001b[36m(train_qrt pid=34701)\u001b[0m 2.5 K     Trainable params\n",
            "\u001b[2m\u001b[36m(train_qrt pid=34701)\u001b[0m 0         Non-trainable params\n",
            "\u001b[2m\u001b[36m(train_qrt pid=34701)\u001b[0m 2.5 K     Total params\n",
            "\u001b[2m\u001b[36m(train_qrt pid=34701)\u001b[0m 0.010     Total estimated model params size (MB)\n"
          ]
        },
        {
          "data": {
            "text/html": [
              "== Status ==<br>Current time: 2022-07-16 21:19:02 (running for 00:01:53.35)<br>Memory usage on this node: 2.3/12.7 GiB<br>Using FIFO scheduling algorithm.<br>Resources requested: 2.0/2 CPUs, 0/0 GPUs, 0.0/7.38 GiB heap, 0.0/3.69 GiB objects<br>Current best trial: a6989_00002 with cel_loss=0.9410867691040039 and parameters={'dropout': 0, 'num_epochs': 40, 'lr': 0.07642050372186303, 'batch_size': 64}<br>Result logdir: /root/ray_results/train_qrt_2022-07-16_21-17-08<br>Number of trials: 10/10 (3 PENDING, 2 RUNNING, 5 TERMINATED)<br><table>\n",
              "<thead>\n",
              "<tr><th>Trial name           </th><th>status    </th><th>loc             </th><th style=\"text-align: right;\">  batch_size</th><th style=\"text-align: right;\">  dropout</th><th style=\"text-align: right;\">         lr</th><th style=\"text-align: right;\">  num_epochs</th><th style=\"text-align: right;\">  iter</th><th style=\"text-align: right;\">  total time (s)</th><th style=\"text-align: right;\">   mse_loss</th><th style=\"text-align: right;\">  cel_loss</th></tr>\n",
              "</thead>\n",
              "<tbody>\n",
              "<tr><td>train_qrt_a6989_00005</td><td>RUNNING   </td><td>172.28.0.2:34666</td><td style=\"text-align: right;\">          64</td><td style=\"text-align: right;\">      0.2</td><td style=\"text-align: right;\">1.66108e-05</td><td style=\"text-align: right;\">          20</td><td style=\"text-align: right;\">    11</td><td style=\"text-align: right;\">         12.0407</td><td style=\"text-align: right;\">0.000300983</td><td style=\"text-align: right;\">  0.987001</td></tr>\n",
              "<tr><td>train_qrt_a6989_00006</td><td>RUNNING   </td><td>172.28.0.2:34701</td><td style=\"text-align: right;\">         128</td><td style=\"text-align: right;\">      0  </td><td style=\"text-align: right;\">0.0012109  </td><td style=\"text-align: right;\">          60</td><td style=\"text-align: right;\">      </td><td style=\"text-align: right;\">                </td><td style=\"text-align: right;\">           </td><td style=\"text-align: right;\">          </td></tr>\n",
              "<tr><td>train_qrt_a6989_00007</td><td>PENDING   </td><td>                </td><td style=\"text-align: right;\">         128</td><td style=\"text-align: right;\">      0.2</td><td style=\"text-align: right;\">0.0824483  </td><td style=\"text-align: right;\">         100</td><td style=\"text-align: right;\">      </td><td style=\"text-align: right;\">                </td><td style=\"text-align: right;\">           </td><td style=\"text-align: right;\">          </td></tr>\n",
              "<tr><td>train_qrt_a6989_00008</td><td>PENDING   </td><td>                </td><td style=\"text-align: right;\">         128</td><td style=\"text-align: right;\">      0  </td><td style=\"text-align: right;\">3.30049e-05</td><td style=\"text-align: right;\">          40</td><td style=\"text-align: right;\">      </td><td style=\"text-align: right;\">                </td><td style=\"text-align: right;\">           </td><td style=\"text-align: right;\">          </td></tr>\n",
              "<tr><td>train_qrt_a6989_00009</td><td>PENDING   </td><td>                </td><td style=\"text-align: right;\">         128</td><td style=\"text-align: right;\">      0.2</td><td style=\"text-align: right;\">0.000485717</td><td style=\"text-align: right;\">          40</td><td style=\"text-align: right;\">      </td><td style=\"text-align: right;\">                </td><td style=\"text-align: right;\">           </td><td style=\"text-align: right;\">          </td></tr>\n",
              "<tr><td>train_qrt_a6989_00000</td><td>TERMINATED</td><td>172.28.0.2:34666</td><td style=\"text-align: right;\">          32</td><td style=\"text-align: right;\">      0.2</td><td style=\"text-align: right;\">1.91481e-05</td><td style=\"text-align: right;\">         100</td><td style=\"text-align: right;\">   100</td><td style=\"text-align: right;\">         76.1071</td><td style=\"text-align: right;\">0.000273303</td><td style=\"text-align: right;\">  0.96374 </td></tr>\n",
              "<tr><td>train_qrt_a6989_00001</td><td>TERMINATED</td><td>172.28.0.2:34701</td><td style=\"text-align: right;\">          64</td><td style=\"text-align: right;\">      0  </td><td style=\"text-align: right;\">0.0292711  </td><td style=\"text-align: right;\">          60</td><td style=\"text-align: right;\">    60</td><td style=\"text-align: right;\">         39.2898</td><td style=\"text-align: right;\">0.000634046</td><td style=\"text-align: right;\">  0.947089</td></tr>\n",
              "<tr><td>train_qrt_a6989_00002</td><td>TERMINATED</td><td>172.28.0.2:34701</td><td style=\"text-align: right;\">          64</td><td style=\"text-align: right;\">      0  </td><td style=\"text-align: right;\">0.0764205  </td><td style=\"text-align: right;\">          40</td><td style=\"text-align: right;\">    40</td><td style=\"text-align: right;\">         23.4277</td><td style=\"text-align: right;\">0.00172624 </td><td style=\"text-align: right;\">  0.941087</td></tr>\n",
              "<tr><td>train_qrt_a6989_00003</td><td>TERMINATED</td><td>172.28.0.2:34701</td><td style=\"text-align: right;\">          64</td><td style=\"text-align: right;\">      0  </td><td style=\"text-align: right;\">0.000105935</td><td style=\"text-align: right;\">          60</td><td style=\"text-align: right;\">    60</td><td style=\"text-align: right;\">         33.8411</td><td style=\"text-align: right;\">0.00027963 </td><td style=\"text-align: right;\">  0.972996</td></tr>\n",
              "<tr><td>train_qrt_a6989_00004</td><td>TERMINATED</td><td>172.28.0.2:34666</td><td style=\"text-align: right;\">         128</td><td style=\"text-align: right;\">      0  </td><td style=\"text-align: right;\">0.0251209  </td><td style=\"text-align: right;\">          40</td><td style=\"text-align: right;\">    40</td><td style=\"text-align: right;\">         19.9723</td><td style=\"text-align: right;\">0.000385877</td><td style=\"text-align: right;\">  0.942441</td></tr>\n",
              "</tbody>\n",
              "</table><br><br>"
            ],
            "text/plain": [
              "<IPython.core.display.HTML object>"
            ]
          },
          "metadata": {},
          "output_type": "display_data"
        },
        {
          "name": "stderr",
          "output_type": "stream",
          "text": [
            "\u001b[2m\u001b[36m(train_qrt pid=34701)\u001b[0m /usr/local/lib/python3.7/dist-packages/pytorch_lightning/trainer/trainer.py:1937: PossibleUserWarning: The number of training batches (4) is smaller than the logging interval Trainer(log_every_n_steps=50). Set a lower value for log_every_n_steps if you want to see logs for the training epoch.\n",
            "\u001b[2m\u001b[36m(train_qrt pid=34701)\u001b[0m   category=PossibleUserWarning,\n"
          ]
        },
        {
          "name": "stdout",
          "output_type": "stream",
          "text": [
            "Result for train_qrt_a6989_00006:\n",
            "  cel_loss: 0.9845942258834839\n",
            "  date: 2022-07-16_21-19-02\n",
            "  done: false\n",
            "  experiment_id: 202a61d7a01e47dca4be579c9e2dac4a\n",
            "  hostname: f6468dcefdbf\n",
            "  iterations_since_restore: 1\n",
            "  mse_loss: 0.00027273394516669214\n",
            "  node_ip: 172.28.0.2\n",
            "  pid: 34701\n",
            "  time_since_restore: 5.667978763580322\n",
            "  time_this_iter_s: 5.667978763580322\n",
            "  time_total_s: 5.667978763580322\n",
            "  timestamp: 1658006342\n",
            "  timesteps_since_restore: 0\n",
            "  training_iteration: 1\n",
            "  trial_id: a6989_00006\n",
            "  warmup_time: 0.005987644195556641\n",
            "  \n",
            "Result for train_qrt_a6989_00005:\n",
            "  cel_loss: 0.986535906791687\n",
            "  date: 2022-07-16_21-19-03\n",
            "  done: false\n",
            "  experiment_id: d464be6c0f664d1283297b14baf160ef\n",
            "  hostname: f6468dcefdbf\n",
            "  iterations_since_restore: 13\n",
            "  mse_loss: 0.00030082350713200867\n",
            "  node_ip: 172.28.0.2\n",
            "  pid: 34666\n",
            "  time_since_restore: 13.031946659088135\n",
            "  time_this_iter_s: 0.4775729179382324\n",
            "  time_total_s: 13.031946659088135\n",
            "  timestamp: 1658006343\n",
            "  timesteps_since_restore: 0\n",
            "  training_iteration: 13\n",
            "  trial_id: a6989_00005\n",
            "  warmup_time: 0.004649162292480469\n",
            "  \n",
            "Result for train_qrt_a6989_00005:\n",
            "  cel_loss: 0.9849432706832886\n",
            "  date: 2022-07-16_21-19-06\n",
            "  done: true\n",
            "  experiment_id: d464be6c0f664d1283297b14baf160ef\n",
            "  experiment_tag: 5_batch_size=64,dropout=0.2000,lr=0.0000,num_epochs=20\n",
            "  hostname: f6468dcefdbf\n",
            "  iterations_since_restore: 20\n",
            "  mse_loss: 0.00030030106427147985\n",
            "  node_ip: 172.28.0.2\n",
            "  pid: 34666\n",
            "  time_since_restore: 16.239962100982666\n",
            "  time_this_iter_s: 0.4676649570465088\n",
            "  time_total_s: 16.239962100982666\n",
            "  timestamp: 1658006346\n",
            "  timesteps_since_restore: 0\n",
            "  training_iteration: 20\n",
            "  trial_id: a6989_00005\n",
            "  warmup_time: 0.004649162292480469\n",
            "  \n"
          ]
        },
        {
          "name": "stderr",
          "output_type": "stream",
          "text": [
            "\u001b[2m\u001b[36m(train_qrt pid=34666)\u001b[0m GPU available: False, used: False\n",
            "\u001b[2m\u001b[36m(train_qrt pid=34666)\u001b[0m TPU available: False, using: 0 TPU cores\n",
            "\u001b[2m\u001b[36m(train_qrt pid=34666)\u001b[0m IPU available: False, using: 0 IPUs\n",
            "\u001b[2m\u001b[36m(train_qrt pid=34666)\u001b[0m HPU available: False, using: 0 HPUs\n",
            "\u001b[2m\u001b[36m(train_qrt pid=34666)\u001b[0m Missing logger folder: /root/ray_results/train_qrt_2022-07-16_21-17-08/train_qrt_a6989_00007_7_batch_size=128,dropout=0.2000,lr=0.0824,num_epochs=100_2022-07-16_21-19-06/lightning_logs\n"
          ]
        },
        {
          "data": {
            "text/html": [
              "== Status ==<br>Current time: 2022-07-16 21:19:07 (running for 00:01:58.48)<br>Memory usage on this node: 2.2/12.7 GiB<br>Using FIFO scheduling algorithm.<br>Resources requested: 2.0/2 CPUs, 0/0 GPUs, 0.0/7.38 GiB heap, 0.0/3.69 GiB objects<br>Current best trial: a6989_00002 with cel_loss=0.9410867691040039 and parameters={'dropout': 0, 'num_epochs': 40, 'lr': 0.07642050372186303, 'batch_size': 64}<br>Result logdir: /root/ray_results/train_qrt_2022-07-16_21-17-08<br>Number of trials: 10/10 (2 PENDING, 2 RUNNING, 6 TERMINATED)<br><table>\n",
              "<thead>\n",
              "<tr><th>Trial name           </th><th>status    </th><th>loc             </th><th style=\"text-align: right;\">  batch_size</th><th style=\"text-align: right;\">  dropout</th><th style=\"text-align: right;\">         lr</th><th style=\"text-align: right;\">  num_epochs</th><th style=\"text-align: right;\">  iter</th><th style=\"text-align: right;\">  total time (s)</th><th style=\"text-align: right;\">   mse_loss</th><th style=\"text-align: right;\">  cel_loss</th></tr>\n",
              "</thead>\n",
              "<tbody>\n",
              "<tr><td>train_qrt_a6989_00006</td><td>RUNNING   </td><td>172.28.0.2:34701</td><td style=\"text-align: right;\">         128</td><td style=\"text-align: right;\">      0  </td><td style=\"text-align: right;\">0.0012109  </td><td style=\"text-align: right;\">          60</td><td style=\"text-align: right;\">    14</td><td style=\"text-align: right;\">         10.4971</td><td style=\"text-align: right;\">0.000268381</td><td style=\"text-align: right;\">  0.955148</td></tr>\n",
              "<tr><td>train_qrt_a6989_00007</td><td>RUNNING   </td><td>172.28.0.2:34666</td><td style=\"text-align: right;\">         128</td><td style=\"text-align: right;\">      0.2</td><td style=\"text-align: right;\">0.0824483  </td><td style=\"text-align: right;\">         100</td><td style=\"text-align: right;\">      </td><td style=\"text-align: right;\">                </td><td style=\"text-align: right;\">           </td><td style=\"text-align: right;\">          </td></tr>\n",
              "<tr><td>train_qrt_a6989_00008</td><td>PENDING   </td><td>                </td><td style=\"text-align: right;\">         128</td><td style=\"text-align: right;\">      0  </td><td style=\"text-align: right;\">3.30049e-05</td><td style=\"text-align: right;\">          40</td><td style=\"text-align: right;\">      </td><td style=\"text-align: right;\">                </td><td style=\"text-align: right;\">           </td><td style=\"text-align: right;\">          </td></tr>\n",
              "<tr><td>train_qrt_a6989_00009</td><td>PENDING   </td><td>                </td><td style=\"text-align: right;\">         128</td><td style=\"text-align: right;\">      0.2</td><td style=\"text-align: right;\">0.000485717</td><td style=\"text-align: right;\">          40</td><td style=\"text-align: right;\">      </td><td style=\"text-align: right;\">                </td><td style=\"text-align: right;\">           </td><td style=\"text-align: right;\">          </td></tr>\n",
              "<tr><td>train_qrt_a6989_00000</td><td>TERMINATED</td><td>172.28.0.2:34666</td><td style=\"text-align: right;\">          32</td><td style=\"text-align: right;\">      0.2</td><td style=\"text-align: right;\">1.91481e-05</td><td style=\"text-align: right;\">         100</td><td style=\"text-align: right;\">   100</td><td style=\"text-align: right;\">         76.1071</td><td style=\"text-align: right;\">0.000273303</td><td style=\"text-align: right;\">  0.96374 </td></tr>\n",
              "<tr><td>train_qrt_a6989_00001</td><td>TERMINATED</td><td>172.28.0.2:34701</td><td style=\"text-align: right;\">          64</td><td style=\"text-align: right;\">      0  </td><td style=\"text-align: right;\">0.0292711  </td><td style=\"text-align: right;\">          60</td><td style=\"text-align: right;\">    60</td><td style=\"text-align: right;\">         39.2898</td><td style=\"text-align: right;\">0.000634046</td><td style=\"text-align: right;\">  0.947089</td></tr>\n",
              "<tr><td>train_qrt_a6989_00002</td><td>TERMINATED</td><td>172.28.0.2:34701</td><td style=\"text-align: right;\">          64</td><td style=\"text-align: right;\">      0  </td><td style=\"text-align: right;\">0.0764205  </td><td style=\"text-align: right;\">          40</td><td style=\"text-align: right;\">    40</td><td style=\"text-align: right;\">         23.4277</td><td style=\"text-align: right;\">0.00172624 </td><td style=\"text-align: right;\">  0.941087</td></tr>\n",
              "<tr><td>train_qrt_a6989_00003</td><td>TERMINATED</td><td>172.28.0.2:34701</td><td style=\"text-align: right;\">          64</td><td style=\"text-align: right;\">      0  </td><td style=\"text-align: right;\">0.000105935</td><td style=\"text-align: right;\">          60</td><td style=\"text-align: right;\">    60</td><td style=\"text-align: right;\">         33.8411</td><td style=\"text-align: right;\">0.00027963 </td><td style=\"text-align: right;\">  0.972996</td></tr>\n",
              "<tr><td>train_qrt_a6989_00004</td><td>TERMINATED</td><td>172.28.0.2:34666</td><td style=\"text-align: right;\">         128</td><td style=\"text-align: right;\">      0  </td><td style=\"text-align: right;\">0.0251209  </td><td style=\"text-align: right;\">          40</td><td style=\"text-align: right;\">    40</td><td style=\"text-align: right;\">         19.9723</td><td style=\"text-align: right;\">0.000385877</td><td style=\"text-align: right;\">  0.942441</td></tr>\n",
              "<tr><td>train_qrt_a6989_00005</td><td>TERMINATED</td><td>172.28.0.2:34666</td><td style=\"text-align: right;\">          64</td><td style=\"text-align: right;\">      0.2</td><td style=\"text-align: right;\">1.66108e-05</td><td style=\"text-align: right;\">          20</td><td style=\"text-align: right;\">    20</td><td style=\"text-align: right;\">         16.24  </td><td style=\"text-align: right;\">0.000300301</td><td style=\"text-align: right;\">  0.984943</td></tr>\n",
              "</tbody>\n",
              "</table><br><br>"
            ],
            "text/plain": [
              "<IPython.core.display.HTML object>"
            ]
          },
          "metadata": {},
          "output_type": "display_data"
        },
        {
          "name": "stdout",
          "output_type": "stream",
          "text": [
            "Result for train_qrt_a6989_00006:\n",
            "  cel_loss: 0.9539155960083008\n",
            "  date: 2022-07-16_21-19-07\n",
            "  done: false\n",
            "  experiment_id: 202a61d7a01e47dca4be579c9e2dac4a\n",
            "  hostname: f6468dcefdbf\n",
            "  iterations_since_restore: 15\n",
            "  mse_loss: 0.0002683379570953548\n",
            "  node_ip: 172.28.0.2\n",
            "  pid: 34701\n",
            "  time_since_restore: 10.870346069335938\n",
            "  time_this_iter_s: 0.37321043014526367\n",
            "  time_total_s: 10.870346069335938\n",
            "  timestamp: 1658006347\n",
            "  timesteps_since_restore: 0\n",
            "  training_iteration: 15\n",
            "  trial_id: a6989_00006\n",
            "  warmup_time: 0.005987644195556641\n",
            "  \n"
          ]
        },
        {
          "name": "stderr",
          "output_type": "stream",
          "text": [
            "\u001b[2m\u001b[36m(train_qrt pid=34666)\u001b[0m \n",
            "\u001b[2m\u001b[36m(train_qrt pid=34666)\u001b[0m   | Name     | Type                | Params\n",
            "\u001b[2m\u001b[36m(train_qrt pid=34666)\u001b[0m -------------------------------------------------\n",
            "\u001b[2m\u001b[36m(train_qrt pid=34666)\u001b[0m 0 | model    | Model               | 2.5 K \n",
            "\u001b[2m\u001b[36m(train_qrt pid=34666)\u001b[0m 1 | cel_loss | CosineEmbeddingLoss | 0     \n",
            "\u001b[2m\u001b[36m(train_qrt pid=34666)\u001b[0m 2 | mse_loss | MSELoss             | 0     \n",
            "\u001b[2m\u001b[36m(train_qrt pid=34666)\u001b[0m -------------------------------------------------\n",
            "\u001b[2m\u001b[36m(train_qrt pid=34666)\u001b[0m 2.5 K     Trainable params\n",
            "\u001b[2m\u001b[36m(train_qrt pid=34666)\u001b[0m 0         Non-trainable params\n",
            "\u001b[2m\u001b[36m(train_qrt pid=34666)\u001b[0m 2.5 K     Total params\n",
            "\u001b[2m\u001b[36m(train_qrt pid=34666)\u001b[0m 0.010     Total estimated model params size (MB)\n"
          ]
        },
        {
          "name": "stdout",
          "output_type": "stream",
          "text": [
            "Result for train_qrt_a6989_00007:\n",
            "  cel_loss: 1.0005863904953003\n",
            "  date: 2022-07-16_21-19-12\n",
            "  done: false\n",
            "  experiment_id: d464be6c0f664d1283297b14baf160ef\n",
            "  hostname: f6468dcefdbf\n",
            "  iterations_since_restore: 1\n",
            "  mse_loss: 0.0003288298612460494\n",
            "  node_ip: 172.28.0.2\n",
            "  pid: 34666\n",
            "  time_since_restore: 5.557110548019409\n",
            "  time_this_iter_s: 5.557110548019409\n",
            "  time_total_s: 5.557110548019409\n",
            "  timestamp: 1658006352\n",
            "  timesteps_since_restore: 0\n",
            "  training_iteration: 1\n",
            "  trial_id: a6989_00007\n",
            "  warmup_time: 0.004649162292480469\n",
            "  \n"
          ]
        },
        {
          "data": {
            "text/html": [
              "== Status ==<br>Current time: 2022-07-16 21:19:12 (running for 00:02:03.58)<br>Memory usage on this node: 2.3/12.7 GiB<br>Using FIFO scheduling algorithm.<br>Resources requested: 2.0/2 CPUs, 0/0 GPUs, 0.0/7.38 GiB heap, 0.0/3.69 GiB objects<br>Current best trial: a6989_00002 with cel_loss=0.9410867691040039 and parameters={'dropout': 0, 'num_epochs': 40, 'lr': 0.07642050372186303, 'batch_size': 64}<br>Result logdir: /root/ray_results/train_qrt_2022-07-16_21-17-08<br>Number of trials: 10/10 (2 PENDING, 2 RUNNING, 6 TERMINATED)<br><table>\n",
              "<thead>\n",
              "<tr><th>Trial name           </th><th>status    </th><th>loc             </th><th style=\"text-align: right;\">  batch_size</th><th style=\"text-align: right;\">  dropout</th><th style=\"text-align: right;\">         lr</th><th style=\"text-align: right;\">  num_epochs</th><th style=\"text-align: right;\">  iter</th><th style=\"text-align: right;\">  total time (s)</th><th style=\"text-align: right;\">   mse_loss</th><th style=\"text-align: right;\">  cel_loss</th></tr>\n",
              "</thead>\n",
              "<tbody>\n",
              "<tr><td>train_qrt_a6989_00006</td><td>RUNNING   </td><td>172.28.0.2:34701</td><td style=\"text-align: right;\">         128</td><td style=\"text-align: right;\">      0  </td><td style=\"text-align: right;\">0.0012109  </td><td style=\"text-align: right;\">          60</td><td style=\"text-align: right;\">    28</td><td style=\"text-align: right;\">        15.3982 </td><td style=\"text-align: right;\">0.000268603</td><td style=\"text-align: right;\">  0.946283</td></tr>\n",
              "<tr><td>train_qrt_a6989_00007</td><td>RUNNING   </td><td>172.28.0.2:34666</td><td style=\"text-align: right;\">         128</td><td style=\"text-align: right;\">      0.2</td><td style=\"text-align: right;\">0.0824483  </td><td style=\"text-align: right;\">         100</td><td style=\"text-align: right;\">     2</td><td style=\"text-align: right;\">         5.92019</td><td style=\"text-align: right;\">0.000406007</td><td style=\"text-align: right;\">  0.989128</td></tr>\n",
              "<tr><td>train_qrt_a6989_00008</td><td>PENDING   </td><td>                </td><td style=\"text-align: right;\">         128</td><td style=\"text-align: right;\">      0  </td><td style=\"text-align: right;\">3.30049e-05</td><td style=\"text-align: right;\">          40</td><td style=\"text-align: right;\">      </td><td style=\"text-align: right;\">                </td><td style=\"text-align: right;\">           </td><td style=\"text-align: right;\">          </td></tr>\n",
              "<tr><td>train_qrt_a6989_00009</td><td>PENDING   </td><td>                </td><td style=\"text-align: right;\">         128</td><td style=\"text-align: right;\">      0.2</td><td style=\"text-align: right;\">0.000485717</td><td style=\"text-align: right;\">          40</td><td style=\"text-align: right;\">      </td><td style=\"text-align: right;\">                </td><td style=\"text-align: right;\">           </td><td style=\"text-align: right;\">          </td></tr>\n",
              "<tr><td>train_qrt_a6989_00000</td><td>TERMINATED</td><td>172.28.0.2:34666</td><td style=\"text-align: right;\">          32</td><td style=\"text-align: right;\">      0.2</td><td style=\"text-align: right;\">1.91481e-05</td><td style=\"text-align: right;\">         100</td><td style=\"text-align: right;\">   100</td><td style=\"text-align: right;\">        76.1071 </td><td style=\"text-align: right;\">0.000273303</td><td style=\"text-align: right;\">  0.96374 </td></tr>\n",
              "<tr><td>train_qrt_a6989_00001</td><td>TERMINATED</td><td>172.28.0.2:34701</td><td style=\"text-align: right;\">          64</td><td style=\"text-align: right;\">      0  </td><td style=\"text-align: right;\">0.0292711  </td><td style=\"text-align: right;\">          60</td><td style=\"text-align: right;\">    60</td><td style=\"text-align: right;\">        39.2898 </td><td style=\"text-align: right;\">0.000634046</td><td style=\"text-align: right;\">  0.947089</td></tr>\n",
              "<tr><td>train_qrt_a6989_00002</td><td>TERMINATED</td><td>172.28.0.2:34701</td><td style=\"text-align: right;\">          64</td><td style=\"text-align: right;\">      0  </td><td style=\"text-align: right;\">0.0764205  </td><td style=\"text-align: right;\">          40</td><td style=\"text-align: right;\">    40</td><td style=\"text-align: right;\">        23.4277 </td><td style=\"text-align: right;\">0.00172624 </td><td style=\"text-align: right;\">  0.941087</td></tr>\n",
              "<tr><td>train_qrt_a6989_00003</td><td>TERMINATED</td><td>172.28.0.2:34701</td><td style=\"text-align: right;\">          64</td><td style=\"text-align: right;\">      0  </td><td style=\"text-align: right;\">0.000105935</td><td style=\"text-align: right;\">          60</td><td style=\"text-align: right;\">    60</td><td style=\"text-align: right;\">        33.8411 </td><td style=\"text-align: right;\">0.00027963 </td><td style=\"text-align: right;\">  0.972996</td></tr>\n",
              "<tr><td>train_qrt_a6989_00004</td><td>TERMINATED</td><td>172.28.0.2:34666</td><td style=\"text-align: right;\">         128</td><td style=\"text-align: right;\">      0  </td><td style=\"text-align: right;\">0.0251209  </td><td style=\"text-align: right;\">          40</td><td style=\"text-align: right;\">    40</td><td style=\"text-align: right;\">        19.9723 </td><td style=\"text-align: right;\">0.000385877</td><td style=\"text-align: right;\">  0.942441</td></tr>\n",
              "<tr><td>train_qrt_a6989_00005</td><td>TERMINATED</td><td>172.28.0.2:34666</td><td style=\"text-align: right;\">          64</td><td style=\"text-align: right;\">      0.2</td><td style=\"text-align: right;\">1.66108e-05</td><td style=\"text-align: right;\">          20</td><td style=\"text-align: right;\">    20</td><td style=\"text-align: right;\">        16.24   </td><td style=\"text-align: right;\">0.000300301</td><td style=\"text-align: right;\">  0.984943</td></tr>\n",
              "</tbody>\n",
              "</table><br><br>"
            ],
            "text/plain": [
              "<IPython.core.display.HTML object>"
            ]
          },
          "metadata": {},
          "output_type": "display_data"
        },
        {
          "name": "stdout",
          "output_type": "stream",
          "text": [
            "Result for train_qrt_a6989_00006:\n",
            "  cel_loss: 0.9468785524368286\n",
            "  date: 2022-07-16_21-19-13\n",
            "  done: false\n",
            "  experiment_id: 202a61d7a01e47dca4be579c9e2dac4a\n",
            "  hostname: f6468dcefdbf\n",
            "  iterations_since_restore: 30\n",
            "  mse_loss: 0.0002687867672648281\n",
            "  node_ip: 172.28.0.2\n",
            "  pid: 34701\n",
            "  time_since_restore: 16.163262128829956\n",
            "  time_this_iter_s: 0.37952685356140137\n",
            "  time_total_s: 16.163262128829956\n",
            "  timestamp: 1658006353\n",
            "  timesteps_since_restore: 0\n",
            "  training_iteration: 30\n",
            "  trial_id: a6989_00006\n",
            "  warmup_time: 0.005987644195556641\n",
            "  \n",
            "Result for train_qrt_a6989_00007:\n",
            "  cel_loss: 0.9562456607818604\n",
            "  date: 2022-07-16_21-19-17\n",
            "  done: false\n",
            "  experiment_id: d464be6c0f664d1283297b14baf160ef\n",
            "  hostname: f6468dcefdbf\n",
            "  iterations_since_restore: 15\n",
            "  mse_loss: 0.0011220838641747832\n",
            "  node_ip: 172.28.0.2\n",
            "  pid: 34666\n",
            "  time_since_restore: 10.751718759536743\n",
            "  time_this_iter_s: 0.3897860050201416\n",
            "  time_total_s: 10.751718759536743\n",
            "  timestamp: 1658006357\n",
            "  timesteps_since_restore: 0\n",
            "  training_iteration: 15\n",
            "  trial_id: a6989_00007\n",
            "  warmup_time: 0.004649162292480469\n",
            "  \n"
          ]
        },
        {
          "data": {
            "text/html": [
              "== Status ==<br>Current time: 2022-07-16 21:19:17 (running for 00:02:08.78)<br>Memory usage on this node: 2.3/12.7 GiB<br>Using FIFO scheduling algorithm.<br>Resources requested: 2.0/2 CPUs, 0/0 GPUs, 0.0/7.38 GiB heap, 0.0/3.69 GiB objects<br>Current best trial: a6989_00002 with cel_loss=0.9410867691040039 and parameters={'dropout': 0, 'num_epochs': 40, 'lr': 0.07642050372186303, 'batch_size': 64}<br>Result logdir: /root/ray_results/train_qrt_2022-07-16_21-17-08<br>Number of trials: 10/10 (2 PENDING, 2 RUNNING, 6 TERMINATED)<br><table>\n",
              "<thead>\n",
              "<tr><th>Trial name           </th><th>status    </th><th>loc             </th><th style=\"text-align: right;\">  batch_size</th><th style=\"text-align: right;\">  dropout</th><th style=\"text-align: right;\">         lr</th><th style=\"text-align: right;\">  num_epochs</th><th style=\"text-align: right;\">  iter</th><th style=\"text-align: right;\">  total time (s)</th><th style=\"text-align: right;\">   mse_loss</th><th style=\"text-align: right;\">  cel_loss</th></tr>\n",
              "</thead>\n",
              "<tbody>\n",
              "<tr><td>train_qrt_a6989_00006</td><td>RUNNING   </td><td>172.28.0.2:34701</td><td style=\"text-align: right;\">         128</td><td style=\"text-align: right;\">      0  </td><td style=\"text-align: right;\">0.0012109  </td><td style=\"text-align: right;\">          60</td><td style=\"text-align: right;\">    42</td><td style=\"text-align: right;\">         20.5819</td><td style=\"text-align: right;\">0.000268572</td><td style=\"text-align: right;\">  0.945565</td></tr>\n",
              "<tr><td>train_qrt_a6989_00007</td><td>RUNNING   </td><td>172.28.0.2:34666</td><td style=\"text-align: right;\">         128</td><td style=\"text-align: right;\">      0.2</td><td style=\"text-align: right;\">0.0824483  </td><td style=\"text-align: right;\">         100</td><td style=\"text-align: right;\">    16</td><td style=\"text-align: right;\">         11.1228</td><td style=\"text-align: right;\">0.00113768 </td><td style=\"text-align: right;\">  0.954763</td></tr>\n",
              "<tr><td>train_qrt_a6989_00008</td><td>PENDING   </td><td>                </td><td style=\"text-align: right;\">         128</td><td style=\"text-align: right;\">      0  </td><td style=\"text-align: right;\">3.30049e-05</td><td style=\"text-align: right;\">          40</td><td style=\"text-align: right;\">      </td><td style=\"text-align: right;\">                </td><td style=\"text-align: right;\">           </td><td style=\"text-align: right;\">          </td></tr>\n",
              "<tr><td>train_qrt_a6989_00009</td><td>PENDING   </td><td>                </td><td style=\"text-align: right;\">         128</td><td style=\"text-align: right;\">      0.2</td><td style=\"text-align: right;\">0.000485717</td><td style=\"text-align: right;\">          40</td><td style=\"text-align: right;\">      </td><td style=\"text-align: right;\">                </td><td style=\"text-align: right;\">           </td><td style=\"text-align: right;\">          </td></tr>\n",
              "<tr><td>train_qrt_a6989_00000</td><td>TERMINATED</td><td>172.28.0.2:34666</td><td style=\"text-align: right;\">          32</td><td style=\"text-align: right;\">      0.2</td><td style=\"text-align: right;\">1.91481e-05</td><td style=\"text-align: right;\">         100</td><td style=\"text-align: right;\">   100</td><td style=\"text-align: right;\">         76.1071</td><td style=\"text-align: right;\">0.000273303</td><td style=\"text-align: right;\">  0.96374 </td></tr>\n",
              "<tr><td>train_qrt_a6989_00001</td><td>TERMINATED</td><td>172.28.0.2:34701</td><td style=\"text-align: right;\">          64</td><td style=\"text-align: right;\">      0  </td><td style=\"text-align: right;\">0.0292711  </td><td style=\"text-align: right;\">          60</td><td style=\"text-align: right;\">    60</td><td style=\"text-align: right;\">         39.2898</td><td style=\"text-align: right;\">0.000634046</td><td style=\"text-align: right;\">  0.947089</td></tr>\n",
              "<tr><td>train_qrt_a6989_00002</td><td>TERMINATED</td><td>172.28.0.2:34701</td><td style=\"text-align: right;\">          64</td><td style=\"text-align: right;\">      0  </td><td style=\"text-align: right;\">0.0764205  </td><td style=\"text-align: right;\">          40</td><td style=\"text-align: right;\">    40</td><td style=\"text-align: right;\">         23.4277</td><td style=\"text-align: right;\">0.00172624 </td><td style=\"text-align: right;\">  0.941087</td></tr>\n",
              "<tr><td>train_qrt_a6989_00003</td><td>TERMINATED</td><td>172.28.0.2:34701</td><td style=\"text-align: right;\">          64</td><td style=\"text-align: right;\">      0  </td><td style=\"text-align: right;\">0.000105935</td><td style=\"text-align: right;\">          60</td><td style=\"text-align: right;\">    60</td><td style=\"text-align: right;\">         33.8411</td><td style=\"text-align: right;\">0.00027963 </td><td style=\"text-align: right;\">  0.972996</td></tr>\n",
              "<tr><td>train_qrt_a6989_00004</td><td>TERMINATED</td><td>172.28.0.2:34666</td><td style=\"text-align: right;\">         128</td><td style=\"text-align: right;\">      0  </td><td style=\"text-align: right;\">0.0251209  </td><td style=\"text-align: right;\">          40</td><td style=\"text-align: right;\">    40</td><td style=\"text-align: right;\">         19.9723</td><td style=\"text-align: right;\">0.000385877</td><td style=\"text-align: right;\">  0.942441</td></tr>\n",
              "<tr><td>train_qrt_a6989_00005</td><td>TERMINATED</td><td>172.28.0.2:34666</td><td style=\"text-align: right;\">          64</td><td style=\"text-align: right;\">      0.2</td><td style=\"text-align: right;\">1.66108e-05</td><td style=\"text-align: right;\">          20</td><td style=\"text-align: right;\">    20</td><td style=\"text-align: right;\">         16.24  </td><td style=\"text-align: right;\">0.000300301</td><td style=\"text-align: right;\">  0.984943</td></tr>\n",
              "</tbody>\n",
              "</table><br><br>"
            ],
            "text/plain": [
              "<IPython.core.display.HTML object>"
            ]
          },
          "metadata": {},
          "output_type": "display_data"
        },
        {
          "name": "stdout",
          "output_type": "stream",
          "text": [
            "Result for train_qrt_a6989_00006:\n",
            "  cel_loss: 0.9460670948028564\n",
            "  date: 2022-07-16_21-19-18\n",
            "  done: false\n",
            "  experiment_id: 202a61d7a01e47dca4be579c9e2dac4a\n",
            "  hostname: f6468dcefdbf\n",
            "  iterations_since_restore: 44\n",
            "  mse_loss: 0.00026858842466026545\n",
            "  node_ip: 172.28.0.2\n",
            "  pid: 34701\n",
            "  time_since_restore: 21.35309648513794\n",
            "  time_this_iter_s: 0.4019649028778076\n",
            "  time_total_s: 21.35309648513794\n",
            "  timestamp: 1658006358\n",
            "  timesteps_since_restore: 0\n",
            "  training_iteration: 44\n",
            "  trial_id: a6989_00006\n",
            "  warmup_time: 0.005987644195556641\n",
            "  \n",
            "Result for train_qrt_a6989_00007:\n",
            "  cel_loss: 0.9507582783699036\n",
            "  date: 2022-07-16_21-19-22\n",
            "  done: false\n",
            "  experiment_id: d464be6c0f664d1283297b14baf160ef\n",
            "  hostname: f6468dcefdbf\n",
            "  iterations_since_restore: 29\n",
            "  mse_loss: 0.0012362473644316196\n",
            "  node_ip: 172.28.0.2\n",
            "  pid: 34666\n",
            "  time_since_restore: 15.92593240737915\n",
            "  time_this_iter_s: 0.3687136173248291\n",
            "  time_total_s: 15.92593240737915\n",
            "  timestamp: 1658006362\n",
            "  timesteps_since_restore: 0\n",
            "  training_iteration: 29\n",
            "  trial_id: a6989_00007\n",
            "  warmup_time: 0.004649162292480469\n",
            "  \n"
          ]
        },
        {
          "data": {
            "text/html": [
              "== Status ==<br>Current time: 2022-07-16 21:19:22 (running for 00:02:13.96)<br>Memory usage on this node: 2.3/12.7 GiB<br>Using FIFO scheduling algorithm.<br>Resources requested: 2.0/2 CPUs, 0/0 GPUs, 0.0/7.38 GiB heap, 0.0/3.69 GiB objects<br>Current best trial: a6989_00002 with cel_loss=0.9410867691040039 and parameters={'dropout': 0, 'num_epochs': 40, 'lr': 0.07642050372186303, 'batch_size': 64}<br>Result logdir: /root/ray_results/train_qrt_2022-07-16_21-17-08<br>Number of trials: 10/10 (2 PENDING, 2 RUNNING, 6 TERMINATED)<br><table>\n",
              "<thead>\n",
              "<tr><th>Trial name           </th><th>status    </th><th>loc             </th><th style=\"text-align: right;\">  batch_size</th><th style=\"text-align: right;\">  dropout</th><th style=\"text-align: right;\">         lr</th><th style=\"text-align: right;\">  num_epochs</th><th style=\"text-align: right;\">  iter</th><th style=\"text-align: right;\">  total time (s)</th><th style=\"text-align: right;\">   mse_loss</th><th style=\"text-align: right;\">  cel_loss</th></tr>\n",
              "</thead>\n",
              "<tbody>\n",
              "<tr><td>train_qrt_a6989_00006</td><td>RUNNING   </td><td>172.28.0.2:34701</td><td style=\"text-align: right;\">         128</td><td style=\"text-align: right;\">      0  </td><td style=\"text-align: right;\">0.0012109  </td><td style=\"text-align: right;\">          60</td><td style=\"text-align: right;\">    56</td><td style=\"text-align: right;\">         25.7673</td><td style=\"text-align: right;\">0.000268593</td><td style=\"text-align: right;\">  0.946027</td></tr>\n",
              "<tr><td>train_qrt_a6989_00007</td><td>RUNNING   </td><td>172.28.0.2:34666</td><td style=\"text-align: right;\">         128</td><td style=\"text-align: right;\">      0.2</td><td style=\"text-align: right;\">0.0824483  </td><td style=\"text-align: right;\">         100</td><td style=\"text-align: right;\">    30</td><td style=\"text-align: right;\">         16.3023</td><td style=\"text-align: right;\">0.00123633 </td><td style=\"text-align: right;\">  0.947997</td></tr>\n",
              "<tr><td>train_qrt_a6989_00008</td><td>PENDING   </td><td>                </td><td style=\"text-align: right;\">         128</td><td style=\"text-align: right;\">      0  </td><td style=\"text-align: right;\">3.30049e-05</td><td style=\"text-align: right;\">          40</td><td style=\"text-align: right;\">      </td><td style=\"text-align: right;\">                </td><td style=\"text-align: right;\">           </td><td style=\"text-align: right;\">          </td></tr>\n",
              "<tr><td>train_qrt_a6989_00009</td><td>PENDING   </td><td>                </td><td style=\"text-align: right;\">         128</td><td style=\"text-align: right;\">      0.2</td><td style=\"text-align: right;\">0.000485717</td><td style=\"text-align: right;\">          40</td><td style=\"text-align: right;\">      </td><td style=\"text-align: right;\">                </td><td style=\"text-align: right;\">           </td><td style=\"text-align: right;\">          </td></tr>\n",
              "<tr><td>train_qrt_a6989_00000</td><td>TERMINATED</td><td>172.28.0.2:34666</td><td style=\"text-align: right;\">          32</td><td style=\"text-align: right;\">      0.2</td><td style=\"text-align: right;\">1.91481e-05</td><td style=\"text-align: right;\">         100</td><td style=\"text-align: right;\">   100</td><td style=\"text-align: right;\">         76.1071</td><td style=\"text-align: right;\">0.000273303</td><td style=\"text-align: right;\">  0.96374 </td></tr>\n",
              "<tr><td>train_qrt_a6989_00001</td><td>TERMINATED</td><td>172.28.0.2:34701</td><td style=\"text-align: right;\">          64</td><td style=\"text-align: right;\">      0  </td><td style=\"text-align: right;\">0.0292711  </td><td style=\"text-align: right;\">          60</td><td style=\"text-align: right;\">    60</td><td style=\"text-align: right;\">         39.2898</td><td style=\"text-align: right;\">0.000634046</td><td style=\"text-align: right;\">  0.947089</td></tr>\n",
              "<tr><td>train_qrt_a6989_00002</td><td>TERMINATED</td><td>172.28.0.2:34701</td><td style=\"text-align: right;\">          64</td><td style=\"text-align: right;\">      0  </td><td style=\"text-align: right;\">0.0764205  </td><td style=\"text-align: right;\">          40</td><td style=\"text-align: right;\">    40</td><td style=\"text-align: right;\">         23.4277</td><td style=\"text-align: right;\">0.00172624 </td><td style=\"text-align: right;\">  0.941087</td></tr>\n",
              "<tr><td>train_qrt_a6989_00003</td><td>TERMINATED</td><td>172.28.0.2:34701</td><td style=\"text-align: right;\">          64</td><td style=\"text-align: right;\">      0  </td><td style=\"text-align: right;\">0.000105935</td><td style=\"text-align: right;\">          60</td><td style=\"text-align: right;\">    60</td><td style=\"text-align: right;\">         33.8411</td><td style=\"text-align: right;\">0.00027963 </td><td style=\"text-align: right;\">  0.972996</td></tr>\n",
              "<tr><td>train_qrt_a6989_00004</td><td>TERMINATED</td><td>172.28.0.2:34666</td><td style=\"text-align: right;\">         128</td><td style=\"text-align: right;\">      0  </td><td style=\"text-align: right;\">0.0251209  </td><td style=\"text-align: right;\">          40</td><td style=\"text-align: right;\">    40</td><td style=\"text-align: right;\">         19.9723</td><td style=\"text-align: right;\">0.000385877</td><td style=\"text-align: right;\">  0.942441</td></tr>\n",
              "<tr><td>train_qrt_a6989_00005</td><td>TERMINATED</td><td>172.28.0.2:34666</td><td style=\"text-align: right;\">          64</td><td style=\"text-align: right;\">      0.2</td><td style=\"text-align: right;\">1.66108e-05</td><td style=\"text-align: right;\">          20</td><td style=\"text-align: right;\">    20</td><td style=\"text-align: right;\">         16.24  </td><td style=\"text-align: right;\">0.000300301</td><td style=\"text-align: right;\">  0.984943</td></tr>\n",
              "</tbody>\n",
              "</table><br><br>"
            ],
            "text/plain": [
              "<IPython.core.display.HTML object>"
            ]
          },
          "metadata": {},
          "output_type": "display_data"
        },
        {
          "name": "stdout",
          "output_type": "stream",
          "text": [
            "Result for train_qrt_a6989_00006:\n",
            "  cel_loss: 0.9447751045227051\n",
            "  date: 2022-07-16_21-19-23\n",
            "  done: false\n",
            "  experiment_id: 202a61d7a01e47dca4be579c9e2dac4a\n",
            "  hostname: f6468dcefdbf\n",
            "  iterations_since_restore: 58\n",
            "  mse_loss: 0.00026836810866370797\n",
            "  node_ip: 172.28.0.2\n",
            "  pid: 34701\n",
            "  time_since_restore: 26.497734308242798\n",
            "  time_this_iter_s: 0.34972667694091797\n",
            "  time_total_s: 26.497734308242798\n",
            "  timestamp: 1658006363\n",
            "  timesteps_since_restore: 0\n",
            "  training_iteration: 58\n",
            "  trial_id: a6989_00006\n",
            "  warmup_time: 0.005987644195556641\n",
            "  \n",
            "Result for train_qrt_a6989_00006:\n",
            "  cel_loss: 0.9450885057449341\n",
            "  date: 2022-07-16_21-19-24\n",
            "  done: true\n",
            "  experiment_id: 202a61d7a01e47dca4be579c9e2dac4a\n",
            "  experiment_tag: 6_batch_size=128,dropout=0,lr=0.0012,num_epochs=60\n",
            "  hostname: f6468dcefdbf\n",
            "  iterations_since_restore: 60\n",
            "  mse_loss: 0.00026850003632716835\n",
            "  node_ip: 172.28.0.2\n",
            "  pid: 34701\n",
            "  time_since_restore: 27.223187685012817\n",
            "  time_this_iter_s: 0.3616964817047119\n",
            "  time_total_s: 27.223187685012817\n",
            "  timestamp: 1658006364\n",
            "  timesteps_since_restore: 0\n",
            "  training_iteration: 60\n",
            "  trial_id: a6989_00006\n",
            "  warmup_time: 0.005987644195556641\n",
            "  \n"
          ]
        },
        {
          "name": "stderr",
          "output_type": "stream",
          "text": [
            "\u001b[2m\u001b[36m(train_qrt pid=34701)\u001b[0m GPU available: False, used: False\n",
            "\u001b[2m\u001b[36m(train_qrt pid=34701)\u001b[0m TPU available: False, using: 0 TPU cores\n",
            "\u001b[2m\u001b[36m(train_qrt pid=34701)\u001b[0m IPU available: False, using: 0 IPUs\n",
            "\u001b[2m\u001b[36m(train_qrt pid=34701)\u001b[0m HPU available: False, using: 0 HPUs\n",
            "\u001b[2m\u001b[36m(train_qrt pid=34701)\u001b[0m Missing logger folder: /root/ray_results/train_qrt_2022-07-16_21-17-08/train_qrt_a6989_00008_8_batch_size=128,dropout=0,lr=0.0000,num_epochs=40_2022-07-16_21-19-24/lightning_logs\n"
          ]
        },
        {
          "name": "stdout",
          "output_type": "stream",
          "text": [
            "Result for train_qrt_a6989_00007:\n",
            "  cel_loss: 0.9443306922912598\n",
            "  date: 2022-07-16_21-19-27\n",
            "  done: false\n",
            "  experiment_id: d464be6c0f664d1283297b14baf160ef\n",
            "  hostname: f6468dcefdbf\n",
            "  iterations_since_restore: 43\n",
            "  mse_loss: 0.0013598100049421191\n",
            "  node_ip: 172.28.0.2\n",
            "  pid: 34666\n",
            "  time_since_restore: 21.12423849105835\n",
            "  time_this_iter_s: 0.36444759368896484\n",
            "  time_total_s: 21.12423849105835\n",
            "  timestamp: 1658006367\n",
            "  timesteps_since_restore: 0\n",
            "  training_iteration: 43\n",
            "  trial_id: a6989_00007\n",
            "  warmup_time: 0.004649162292480469\n",
            "  \n"
          ]
        },
        {
          "data": {
            "text/html": [
              "== Status ==<br>Current time: 2022-07-16 21:19:28 (running for 00:02:19.17)<br>Memory usage on this node: 2.2/12.7 GiB<br>Using FIFO scheduling algorithm.<br>Resources requested: 2.0/2 CPUs, 0/0 GPUs, 0.0/7.38 GiB heap, 0.0/3.69 GiB objects<br>Current best trial: a6989_00002 with cel_loss=0.9410867691040039 and parameters={'dropout': 0, 'num_epochs': 40, 'lr': 0.07642050372186303, 'batch_size': 64}<br>Result logdir: /root/ray_results/train_qrt_2022-07-16_21-17-08<br>Number of trials: 10/10 (1 PENDING, 2 RUNNING, 7 TERMINATED)<br><table>\n",
              "<thead>\n",
              "<tr><th>Trial name           </th><th>status    </th><th>loc             </th><th style=\"text-align: right;\">  batch_size</th><th style=\"text-align: right;\">  dropout</th><th style=\"text-align: right;\">         lr</th><th style=\"text-align: right;\">  num_epochs</th><th style=\"text-align: right;\">  iter</th><th style=\"text-align: right;\">  total time (s)</th><th style=\"text-align: right;\">   mse_loss</th><th style=\"text-align: right;\">  cel_loss</th></tr>\n",
              "</thead>\n",
              "<tbody>\n",
              "<tr><td>train_qrt_a6989_00007</td><td>RUNNING   </td><td>172.28.0.2:34666</td><td style=\"text-align: right;\">         128</td><td style=\"text-align: right;\">      0.2</td><td style=\"text-align: right;\">0.0824483  </td><td style=\"text-align: right;\">         100</td><td style=\"text-align: right;\">    44</td><td style=\"text-align: right;\">         21.5119</td><td style=\"text-align: right;\">0.00136989 </td><td style=\"text-align: right;\">  0.946706</td></tr>\n",
              "<tr><td>train_qrt_a6989_00008</td><td>RUNNING   </td><td>172.28.0.2:34701</td><td style=\"text-align: right;\">         128</td><td style=\"text-align: right;\">      0  </td><td style=\"text-align: right;\">3.30049e-05</td><td style=\"text-align: right;\">          40</td><td style=\"text-align: right;\">      </td><td style=\"text-align: right;\">                </td><td style=\"text-align: right;\">           </td><td style=\"text-align: right;\">          </td></tr>\n",
              "<tr><td>train_qrt_a6989_00009</td><td>PENDING   </td><td>                </td><td style=\"text-align: right;\">         128</td><td style=\"text-align: right;\">      0.2</td><td style=\"text-align: right;\">0.000485717</td><td style=\"text-align: right;\">          40</td><td style=\"text-align: right;\">      </td><td style=\"text-align: right;\">                </td><td style=\"text-align: right;\">           </td><td style=\"text-align: right;\">          </td></tr>\n",
              "<tr><td>train_qrt_a6989_00000</td><td>TERMINATED</td><td>172.28.0.2:34666</td><td style=\"text-align: right;\">          32</td><td style=\"text-align: right;\">      0.2</td><td style=\"text-align: right;\">1.91481e-05</td><td style=\"text-align: right;\">         100</td><td style=\"text-align: right;\">   100</td><td style=\"text-align: right;\">         76.1071</td><td style=\"text-align: right;\">0.000273303</td><td style=\"text-align: right;\">  0.96374 </td></tr>\n",
              "<tr><td>train_qrt_a6989_00001</td><td>TERMINATED</td><td>172.28.0.2:34701</td><td style=\"text-align: right;\">          64</td><td style=\"text-align: right;\">      0  </td><td style=\"text-align: right;\">0.0292711  </td><td style=\"text-align: right;\">          60</td><td style=\"text-align: right;\">    60</td><td style=\"text-align: right;\">         39.2898</td><td style=\"text-align: right;\">0.000634046</td><td style=\"text-align: right;\">  0.947089</td></tr>\n",
              "<tr><td>train_qrt_a6989_00002</td><td>TERMINATED</td><td>172.28.0.2:34701</td><td style=\"text-align: right;\">          64</td><td style=\"text-align: right;\">      0  </td><td style=\"text-align: right;\">0.0764205  </td><td style=\"text-align: right;\">          40</td><td style=\"text-align: right;\">    40</td><td style=\"text-align: right;\">         23.4277</td><td style=\"text-align: right;\">0.00172624 </td><td style=\"text-align: right;\">  0.941087</td></tr>\n",
              "<tr><td>train_qrt_a6989_00003</td><td>TERMINATED</td><td>172.28.0.2:34701</td><td style=\"text-align: right;\">          64</td><td style=\"text-align: right;\">      0  </td><td style=\"text-align: right;\">0.000105935</td><td style=\"text-align: right;\">          60</td><td style=\"text-align: right;\">    60</td><td style=\"text-align: right;\">         33.8411</td><td style=\"text-align: right;\">0.00027963 </td><td style=\"text-align: right;\">  0.972996</td></tr>\n",
              "<tr><td>train_qrt_a6989_00004</td><td>TERMINATED</td><td>172.28.0.2:34666</td><td style=\"text-align: right;\">         128</td><td style=\"text-align: right;\">      0  </td><td style=\"text-align: right;\">0.0251209  </td><td style=\"text-align: right;\">          40</td><td style=\"text-align: right;\">    40</td><td style=\"text-align: right;\">         19.9723</td><td style=\"text-align: right;\">0.000385877</td><td style=\"text-align: right;\">  0.942441</td></tr>\n",
              "<tr><td>train_qrt_a6989_00005</td><td>TERMINATED</td><td>172.28.0.2:34666</td><td style=\"text-align: right;\">          64</td><td style=\"text-align: right;\">      0.2</td><td style=\"text-align: right;\">1.66108e-05</td><td style=\"text-align: right;\">          20</td><td style=\"text-align: right;\">    20</td><td style=\"text-align: right;\">         16.24  </td><td style=\"text-align: right;\">0.000300301</td><td style=\"text-align: right;\">  0.984943</td></tr>\n",
              "<tr><td>train_qrt_a6989_00006</td><td>TERMINATED</td><td>172.28.0.2:34701</td><td style=\"text-align: right;\">         128</td><td style=\"text-align: right;\">      0  </td><td style=\"text-align: right;\">0.0012109  </td><td style=\"text-align: right;\">          60</td><td style=\"text-align: right;\">    60</td><td style=\"text-align: right;\">         27.2232</td><td style=\"text-align: right;\">0.0002685  </td><td style=\"text-align: right;\">  0.945089</td></tr>\n",
              "</tbody>\n",
              "</table><br><br>"
            ],
            "text/plain": [
              "<IPython.core.display.HTML object>"
            ]
          },
          "metadata": {},
          "output_type": "display_data"
        },
        {
          "name": "stderr",
          "output_type": "stream",
          "text": [
            "\u001b[2m\u001b[36m(train_qrt pid=34701)\u001b[0m \n",
            "\u001b[2m\u001b[36m(train_qrt pid=34701)\u001b[0m   | Name     | Type                | Params\n",
            "\u001b[2m\u001b[36m(train_qrt pid=34701)\u001b[0m -------------------------------------------------\n",
            "\u001b[2m\u001b[36m(train_qrt pid=34701)\u001b[0m 0 | model    | Model               | 2.5 K \n",
            "\u001b[2m\u001b[36m(train_qrt pid=34701)\u001b[0m 1 | cel_loss | CosineEmbeddingLoss | 0     \n",
            "\u001b[2m\u001b[36m(train_qrt pid=34701)\u001b[0m 2 | mse_loss | MSELoss             | 0     \n",
            "\u001b[2m\u001b[36m(train_qrt pid=34701)\u001b[0m -------------------------------------------------\n",
            "\u001b[2m\u001b[36m(train_qrt pid=34701)\u001b[0m 2.5 K     Trainable params\n",
            "\u001b[2m\u001b[36m(train_qrt pid=34701)\u001b[0m 0         Non-trainable params\n",
            "\u001b[2m\u001b[36m(train_qrt pid=34701)\u001b[0m 2.5 K     Total params\n",
            "\u001b[2m\u001b[36m(train_qrt pid=34701)\u001b[0m 0.010     Total estimated model params size (MB)\n"
          ]
        },
        {
          "name": "stdout",
          "output_type": "stream",
          "text": [
            "Result for train_qrt_a6989_00008:\n",
            "  cel_loss: 0.9916380047798157\n",
            "  date: 2022-07-16_21-19-29\n",
            "  done: false\n",
            "  experiment_id: 202a61d7a01e47dca4be579c9e2dac4a\n",
            "  hostname: f6468dcefdbf\n",
            "  iterations_since_restore: 1\n",
            "  mse_loss: 0.00024108050274662673\n",
            "  node_ip: 172.28.0.2\n",
            "  pid: 34701\n",
            "  time_since_restore: 5.190894365310669\n",
            "  time_this_iter_s: 5.190894365310669\n",
            "  time_total_s: 5.190894365310669\n",
            "  timestamp: 1658006369\n",
            "  timesteps_since_restore: 0\n",
            "  training_iteration: 1\n",
            "  trial_id: a6989_00008\n",
            "  warmup_time: 0.005987644195556641\n",
            "  \n",
            "Result for train_qrt_a6989_00007:\n",
            "  cel_loss: 0.9514421224594116\n",
            "  date: 2022-07-16_21-19-32\n",
            "  done: false\n",
            "  experiment_id: d464be6c0f664d1283297b14baf160ef\n",
            "  hostname: f6468dcefdbf\n",
            "  iterations_since_restore: 57\n",
            "  mse_loss: 0.0015363253187388182\n",
            "  node_ip: 172.28.0.2\n",
            "  pid: 34666\n",
            "  time_since_restore: 26.4078106880188\n",
            "  time_this_iter_s: 0.3499019145965576\n",
            "  time_total_s: 26.4078106880188\n",
            "  timestamp: 1658006372\n",
            "  timesteps_since_restore: 0\n",
            "  training_iteration: 57\n",
            "  trial_id: a6989_00007\n",
            "  warmup_time: 0.004649162292480469\n",
            "  \n"
          ]
        },
        {
          "data": {
            "text/html": [
              "== Status ==<br>Current time: 2022-07-16 21:19:33 (running for 00:02:24.45)<br>Memory usage on this node: 2.3/12.7 GiB<br>Using FIFO scheduling algorithm.<br>Resources requested: 2.0/2 CPUs, 0/0 GPUs, 0.0/7.38 GiB heap, 0.0/3.69 GiB objects<br>Current best trial: a6989_00002 with cel_loss=0.9410867691040039 and parameters={'dropout': 0, 'num_epochs': 40, 'lr': 0.07642050372186303, 'batch_size': 64}<br>Result logdir: /root/ray_results/train_qrt_2022-07-16_21-17-08<br>Number of trials: 10/10 (1 PENDING, 2 RUNNING, 7 TERMINATED)<br><table>\n",
              "<thead>\n",
              "<tr><th>Trial name           </th><th>status    </th><th>loc             </th><th style=\"text-align: right;\">  batch_size</th><th style=\"text-align: right;\">  dropout</th><th style=\"text-align: right;\">         lr</th><th style=\"text-align: right;\">  num_epochs</th><th style=\"text-align: right;\">  iter</th><th style=\"text-align: right;\">  total time (s)</th><th style=\"text-align: right;\">   mse_loss</th><th style=\"text-align: right;\">  cel_loss</th></tr>\n",
              "</thead>\n",
              "<tbody>\n",
              "<tr><td>train_qrt_a6989_00007</td><td>RUNNING   </td><td>172.28.0.2:34666</td><td style=\"text-align: right;\">         128</td><td style=\"text-align: right;\">      0.2</td><td style=\"text-align: right;\">0.0824483  </td><td style=\"text-align: right;\">         100</td><td style=\"text-align: right;\">    58</td><td style=\"text-align: right;\">        26.7818 </td><td style=\"text-align: right;\">0.00154542 </td><td style=\"text-align: right;\">  0.953433</td></tr>\n",
              "<tr><td>train_qrt_a6989_00008</td><td>RUNNING   </td><td>172.28.0.2:34701</td><td style=\"text-align: right;\">         128</td><td style=\"text-align: right;\">      0  </td><td style=\"text-align: right;\">3.30049e-05</td><td style=\"text-align: right;\">          40</td><td style=\"text-align: right;\">    11</td><td style=\"text-align: right;\">         8.82276</td><td style=\"text-align: right;\">0.000240765</td><td style=\"text-align: right;\">  0.989133</td></tr>\n",
              "<tr><td>train_qrt_a6989_00009</td><td>PENDING   </td><td>                </td><td style=\"text-align: right;\">         128</td><td style=\"text-align: right;\">      0.2</td><td style=\"text-align: right;\">0.000485717</td><td style=\"text-align: right;\">          40</td><td style=\"text-align: right;\">      </td><td style=\"text-align: right;\">                </td><td style=\"text-align: right;\">           </td><td style=\"text-align: right;\">          </td></tr>\n",
              "<tr><td>train_qrt_a6989_00000</td><td>TERMINATED</td><td>172.28.0.2:34666</td><td style=\"text-align: right;\">          32</td><td style=\"text-align: right;\">      0.2</td><td style=\"text-align: right;\">1.91481e-05</td><td style=\"text-align: right;\">         100</td><td style=\"text-align: right;\">   100</td><td style=\"text-align: right;\">        76.1071 </td><td style=\"text-align: right;\">0.000273303</td><td style=\"text-align: right;\">  0.96374 </td></tr>\n",
              "<tr><td>train_qrt_a6989_00001</td><td>TERMINATED</td><td>172.28.0.2:34701</td><td style=\"text-align: right;\">          64</td><td style=\"text-align: right;\">      0  </td><td style=\"text-align: right;\">0.0292711  </td><td style=\"text-align: right;\">          60</td><td style=\"text-align: right;\">    60</td><td style=\"text-align: right;\">        39.2898 </td><td style=\"text-align: right;\">0.000634046</td><td style=\"text-align: right;\">  0.947089</td></tr>\n",
              "<tr><td>train_qrt_a6989_00002</td><td>TERMINATED</td><td>172.28.0.2:34701</td><td style=\"text-align: right;\">          64</td><td style=\"text-align: right;\">      0  </td><td style=\"text-align: right;\">0.0764205  </td><td style=\"text-align: right;\">          40</td><td style=\"text-align: right;\">    40</td><td style=\"text-align: right;\">        23.4277 </td><td style=\"text-align: right;\">0.00172624 </td><td style=\"text-align: right;\">  0.941087</td></tr>\n",
              "<tr><td>train_qrt_a6989_00003</td><td>TERMINATED</td><td>172.28.0.2:34701</td><td style=\"text-align: right;\">          64</td><td style=\"text-align: right;\">      0  </td><td style=\"text-align: right;\">0.000105935</td><td style=\"text-align: right;\">          60</td><td style=\"text-align: right;\">    60</td><td style=\"text-align: right;\">        33.8411 </td><td style=\"text-align: right;\">0.00027963 </td><td style=\"text-align: right;\">  0.972996</td></tr>\n",
              "<tr><td>train_qrt_a6989_00004</td><td>TERMINATED</td><td>172.28.0.2:34666</td><td style=\"text-align: right;\">         128</td><td style=\"text-align: right;\">      0  </td><td style=\"text-align: right;\">0.0251209  </td><td style=\"text-align: right;\">          40</td><td style=\"text-align: right;\">    40</td><td style=\"text-align: right;\">        19.9723 </td><td style=\"text-align: right;\">0.000385877</td><td style=\"text-align: right;\">  0.942441</td></tr>\n",
              "<tr><td>train_qrt_a6989_00005</td><td>TERMINATED</td><td>172.28.0.2:34666</td><td style=\"text-align: right;\">          64</td><td style=\"text-align: right;\">      0.2</td><td style=\"text-align: right;\">1.66108e-05</td><td style=\"text-align: right;\">          20</td><td style=\"text-align: right;\">    20</td><td style=\"text-align: right;\">        16.24   </td><td style=\"text-align: right;\">0.000300301</td><td style=\"text-align: right;\">  0.984943</td></tr>\n",
              "<tr><td>train_qrt_a6989_00006</td><td>TERMINATED</td><td>172.28.0.2:34701</td><td style=\"text-align: right;\">         128</td><td style=\"text-align: right;\">      0  </td><td style=\"text-align: right;\">0.0012109  </td><td style=\"text-align: right;\">          60</td><td style=\"text-align: right;\">    60</td><td style=\"text-align: right;\">        27.2232 </td><td style=\"text-align: right;\">0.0002685  </td><td style=\"text-align: right;\">  0.945089</td></tr>\n",
              "</tbody>\n",
              "</table><br><br>"
            ],
            "text/plain": [
              "<IPython.core.display.HTML object>"
            ]
          },
          "metadata": {},
          "output_type": "display_data"
        },
        {
          "name": "stdout",
          "output_type": "stream",
          "text": [
            "Result for train_qrt_a6989_00008:\n",
            "  cel_loss: 0.9881566166877747\n",
            "  date: 2022-07-16_21-19-34\n",
            "  done: false\n",
            "  experiment_id: 202a61d7a01e47dca4be579c9e2dac4a\n",
            "  hostname: f6468dcefdbf\n",
            "  iterations_since_restore: 15\n",
            "  mse_loss: 0.0002406309067737311\n",
            "  node_ip: 172.28.0.2\n",
            "  pid: 34701\n",
            "  time_since_restore: 10.314069747924805\n",
            "  time_this_iter_s: 0.3584723472595215\n",
            "  time_total_s: 10.314069747924805\n",
            "  timestamp: 1658006374\n",
            "  timesteps_since_restore: 0\n",
            "  training_iteration: 15\n",
            "  trial_id: a6989_00008\n",
            "  warmup_time: 0.005987644195556641\n",
            "  \n",
            "Result for train_qrt_a6989_00007:\n",
            "  cel_loss: 0.9436689615249634\n",
            "  date: 2022-07-16_21-19-38\n",
            "  done: false\n",
            "  experiment_id: d464be6c0f664d1283297b14baf160ef\n",
            "  hostname: f6468dcefdbf\n",
            "  iterations_since_restore: 71\n",
            "  mse_loss: 0.0016753406962379813\n",
            "  node_ip: 172.28.0.2\n",
            "  pid: 34666\n",
            "  time_since_restore: 31.71528124809265\n",
            "  time_this_iter_s: 0.3679842948913574\n",
            "  time_total_s: 31.71528124809265\n",
            "  timestamp: 1658006378\n",
            "  timesteps_since_restore: 0\n",
            "  training_iteration: 71\n",
            "  trial_id: a6989_00007\n",
            "  warmup_time: 0.004649162292480469\n",
            "  \n"
          ]
        },
        {
          "data": {
            "text/html": [
              "== Status ==<br>Current time: 2022-07-16 21:19:38 (running for 00:02:29.62)<br>Memory usage on this node: 2.3/12.7 GiB<br>Using FIFO scheduling algorithm.<br>Resources requested: 2.0/2 CPUs, 0/0 GPUs, 0.0/7.38 GiB heap, 0.0/3.69 GiB objects<br>Current best trial: a6989_00002 with cel_loss=0.9410867691040039 and parameters={'dropout': 0, 'num_epochs': 40, 'lr': 0.07642050372186303, 'batch_size': 64}<br>Result logdir: /root/ray_results/train_qrt_2022-07-16_21-17-08<br>Number of trials: 10/10 (1 PENDING, 2 RUNNING, 7 TERMINATED)<br><table>\n",
              "<thead>\n",
              "<tr><th>Trial name           </th><th>status    </th><th>loc             </th><th style=\"text-align: right;\">  batch_size</th><th style=\"text-align: right;\">  dropout</th><th style=\"text-align: right;\">         lr</th><th style=\"text-align: right;\">  num_epochs</th><th style=\"text-align: right;\">  iter</th><th style=\"text-align: right;\">  total time (s)</th><th style=\"text-align: right;\">   mse_loss</th><th style=\"text-align: right;\">  cel_loss</th></tr>\n",
              "</thead>\n",
              "<tbody>\n",
              "<tr><td>train_qrt_a6989_00007</td><td>RUNNING   </td><td>172.28.0.2:34666</td><td style=\"text-align: right;\">         128</td><td style=\"text-align: right;\">      0.2</td><td style=\"text-align: right;\">0.0824483  </td><td style=\"text-align: right;\">         100</td><td style=\"text-align: right;\">    71</td><td style=\"text-align: right;\">         31.7153</td><td style=\"text-align: right;\">0.00167534 </td><td style=\"text-align: right;\">  0.943669</td></tr>\n",
              "<tr><td>train_qrt_a6989_00008</td><td>RUNNING   </td><td>172.28.0.2:34701</td><td style=\"text-align: right;\">         128</td><td style=\"text-align: right;\">      0  </td><td style=\"text-align: right;\">3.30049e-05</td><td style=\"text-align: right;\">          40</td><td style=\"text-align: right;\">    26</td><td style=\"text-align: right;\">         14.3051</td><td style=\"text-align: right;\">0.000240279</td><td style=\"text-align: right;\">  0.985771</td></tr>\n",
              "<tr><td>train_qrt_a6989_00009</td><td>PENDING   </td><td>                </td><td style=\"text-align: right;\">         128</td><td style=\"text-align: right;\">      0.2</td><td style=\"text-align: right;\">0.000485717</td><td style=\"text-align: right;\">          40</td><td style=\"text-align: right;\">      </td><td style=\"text-align: right;\">                </td><td style=\"text-align: right;\">           </td><td style=\"text-align: right;\">          </td></tr>\n",
              "<tr><td>train_qrt_a6989_00000</td><td>TERMINATED</td><td>172.28.0.2:34666</td><td style=\"text-align: right;\">          32</td><td style=\"text-align: right;\">      0.2</td><td style=\"text-align: right;\">1.91481e-05</td><td style=\"text-align: right;\">         100</td><td style=\"text-align: right;\">   100</td><td style=\"text-align: right;\">         76.1071</td><td style=\"text-align: right;\">0.000273303</td><td style=\"text-align: right;\">  0.96374 </td></tr>\n",
              "<tr><td>train_qrt_a6989_00001</td><td>TERMINATED</td><td>172.28.0.2:34701</td><td style=\"text-align: right;\">          64</td><td style=\"text-align: right;\">      0  </td><td style=\"text-align: right;\">0.0292711  </td><td style=\"text-align: right;\">          60</td><td style=\"text-align: right;\">    60</td><td style=\"text-align: right;\">         39.2898</td><td style=\"text-align: right;\">0.000634046</td><td style=\"text-align: right;\">  0.947089</td></tr>\n",
              "<tr><td>train_qrt_a6989_00002</td><td>TERMINATED</td><td>172.28.0.2:34701</td><td style=\"text-align: right;\">          64</td><td style=\"text-align: right;\">      0  </td><td style=\"text-align: right;\">0.0764205  </td><td style=\"text-align: right;\">          40</td><td style=\"text-align: right;\">    40</td><td style=\"text-align: right;\">         23.4277</td><td style=\"text-align: right;\">0.00172624 </td><td style=\"text-align: right;\">  0.941087</td></tr>\n",
              "<tr><td>train_qrt_a6989_00003</td><td>TERMINATED</td><td>172.28.0.2:34701</td><td style=\"text-align: right;\">          64</td><td style=\"text-align: right;\">      0  </td><td style=\"text-align: right;\">0.000105935</td><td style=\"text-align: right;\">          60</td><td style=\"text-align: right;\">    60</td><td style=\"text-align: right;\">         33.8411</td><td style=\"text-align: right;\">0.00027963 </td><td style=\"text-align: right;\">  0.972996</td></tr>\n",
              "<tr><td>train_qrt_a6989_00004</td><td>TERMINATED</td><td>172.28.0.2:34666</td><td style=\"text-align: right;\">         128</td><td style=\"text-align: right;\">      0  </td><td style=\"text-align: right;\">0.0251209  </td><td style=\"text-align: right;\">          40</td><td style=\"text-align: right;\">    40</td><td style=\"text-align: right;\">         19.9723</td><td style=\"text-align: right;\">0.000385877</td><td style=\"text-align: right;\">  0.942441</td></tr>\n",
              "<tr><td>train_qrt_a6989_00005</td><td>TERMINATED</td><td>172.28.0.2:34666</td><td style=\"text-align: right;\">          64</td><td style=\"text-align: right;\">      0.2</td><td style=\"text-align: right;\">1.66108e-05</td><td style=\"text-align: right;\">          20</td><td style=\"text-align: right;\">    20</td><td style=\"text-align: right;\">         16.24  </td><td style=\"text-align: right;\">0.000300301</td><td style=\"text-align: right;\">  0.984943</td></tr>\n",
              "<tr><td>train_qrt_a6989_00006</td><td>TERMINATED</td><td>172.28.0.2:34701</td><td style=\"text-align: right;\">         128</td><td style=\"text-align: right;\">      0  </td><td style=\"text-align: right;\">0.0012109  </td><td style=\"text-align: right;\">          60</td><td style=\"text-align: right;\">    60</td><td style=\"text-align: right;\">         27.2232</td><td style=\"text-align: right;\">0.0002685  </td><td style=\"text-align: right;\">  0.945089</td></tr>\n",
              "</tbody>\n",
              "</table><br><br>"
            ],
            "text/plain": [
              "<IPython.core.display.HTML object>"
            ]
          },
          "metadata": {},
          "output_type": "display_data"
        },
        {
          "name": "stdout",
          "output_type": "stream",
          "text": [
            "Result for train_qrt_a6989_00008:\n",
            "  cel_loss: 0.9851131439208984\n",
            "  date: 2022-07-16_21-19-39\n",
            "  done: false\n",
            "  experiment_id: 202a61d7a01e47dca4be579c9e2dac4a\n",
            "  hostname: f6468dcefdbf\n",
            "  iterations_since_restore: 29\n",
            "  mse_loss: 0.00024017516989260912\n",
            "  node_ip: 172.28.0.2\n",
            "  pid: 34701\n",
            "  time_since_restore: 15.391861200332642\n",
            "  time_this_iter_s: 0.3434445858001709\n",
            "  time_total_s: 15.391861200332642\n",
            "  timestamp: 1658006379\n",
            "  timesteps_since_restore: 0\n",
            "  training_iteration: 29\n",
            "  trial_id: a6989_00008\n",
            "  warmup_time: 0.005987644195556641\n",
            "  \n",
            "Result for train_qrt_a6989_00007:\n",
            "  cel_loss: 0.9489486217498779\n",
            "  date: 2022-07-16_21-19-43\n",
            "  done: false\n",
            "  experiment_id: d464be6c0f664d1283297b14baf160ef\n",
            "  hostname: f6468dcefdbf\n",
            "  iterations_since_restore: 85\n",
            "  mse_loss: 0.0017880427185446024\n",
            "  node_ip: 172.28.0.2\n",
            "  pid: 34666\n",
            "  time_since_restore: 36.8947970867157\n",
            "  time_this_iter_s: 0.3697171211242676\n",
            "  time_total_s: 36.8947970867157\n",
            "  timestamp: 1658006383\n",
            "  timesteps_since_restore: 0\n",
            "  training_iteration: 85\n",
            "  trial_id: a6989_00007\n",
            "  warmup_time: 0.004649162292480469\n",
            "  \n"
          ]
        },
        {
          "data": {
            "text/html": [
              "== Status ==<br>Current time: 2022-07-16 21:19:43 (running for 00:02:34.69)<br>Memory usage on this node: 2.3/12.7 GiB<br>Using FIFO scheduling algorithm.<br>Resources requested: 2.0/2 CPUs, 0/0 GPUs, 0.0/7.38 GiB heap, 0.0/3.69 GiB objects<br>Current best trial: a6989_00002 with cel_loss=0.9410867691040039 and parameters={'dropout': 0, 'num_epochs': 40, 'lr': 0.07642050372186303, 'batch_size': 64}<br>Result logdir: /root/ray_results/train_qrt_2022-07-16_21-17-08<br>Number of trials: 10/10 (1 PENDING, 2 RUNNING, 7 TERMINATED)<br><table>\n",
              "<thead>\n",
              "<tr><th>Trial name           </th><th>status    </th><th>loc             </th><th style=\"text-align: right;\">  batch_size</th><th style=\"text-align: right;\">  dropout</th><th style=\"text-align: right;\">         lr</th><th style=\"text-align: right;\">  num_epochs</th><th style=\"text-align: right;\">  iter</th><th style=\"text-align: right;\">  total time (s)</th><th style=\"text-align: right;\">   mse_loss</th><th style=\"text-align: right;\">  cel_loss</th></tr>\n",
              "</thead>\n",
              "<tbody>\n",
              "<tr><td>train_qrt_a6989_00007</td><td>RUNNING   </td><td>172.28.0.2:34666</td><td style=\"text-align: right;\">         128</td><td style=\"text-align: right;\">      0.2</td><td style=\"text-align: right;\">0.0824483  </td><td style=\"text-align: right;\">         100</td><td style=\"text-align: right;\">    85</td><td style=\"text-align: right;\">         36.8948</td><td style=\"text-align: right;\">0.00178804 </td><td style=\"text-align: right;\">  0.948949</td></tr>\n",
              "<tr><td>train_qrt_a6989_00008</td><td>RUNNING   </td><td>172.28.0.2:34701</td><td style=\"text-align: right;\">         128</td><td style=\"text-align: right;\">      0  </td><td style=\"text-align: right;\">3.30049e-05</td><td style=\"text-align: right;\">          40</td><td style=\"text-align: right;\">    40</td><td style=\"text-align: right;\">         19.3896</td><td style=\"text-align: right;\">0.00023981 </td><td style=\"text-align: right;\">  0.983026</td></tr>\n",
              "<tr><td>train_qrt_a6989_00009</td><td>PENDING   </td><td>                </td><td style=\"text-align: right;\">         128</td><td style=\"text-align: right;\">      0.2</td><td style=\"text-align: right;\">0.000485717</td><td style=\"text-align: right;\">          40</td><td style=\"text-align: right;\">      </td><td style=\"text-align: right;\">                </td><td style=\"text-align: right;\">           </td><td style=\"text-align: right;\">          </td></tr>\n",
              "<tr><td>train_qrt_a6989_00000</td><td>TERMINATED</td><td>172.28.0.2:34666</td><td style=\"text-align: right;\">          32</td><td style=\"text-align: right;\">      0.2</td><td style=\"text-align: right;\">1.91481e-05</td><td style=\"text-align: right;\">         100</td><td style=\"text-align: right;\">   100</td><td style=\"text-align: right;\">         76.1071</td><td style=\"text-align: right;\">0.000273303</td><td style=\"text-align: right;\">  0.96374 </td></tr>\n",
              "<tr><td>train_qrt_a6989_00001</td><td>TERMINATED</td><td>172.28.0.2:34701</td><td style=\"text-align: right;\">          64</td><td style=\"text-align: right;\">      0  </td><td style=\"text-align: right;\">0.0292711  </td><td style=\"text-align: right;\">          60</td><td style=\"text-align: right;\">    60</td><td style=\"text-align: right;\">         39.2898</td><td style=\"text-align: right;\">0.000634046</td><td style=\"text-align: right;\">  0.947089</td></tr>\n",
              "<tr><td>train_qrt_a6989_00002</td><td>TERMINATED</td><td>172.28.0.2:34701</td><td style=\"text-align: right;\">          64</td><td style=\"text-align: right;\">      0  </td><td style=\"text-align: right;\">0.0764205  </td><td style=\"text-align: right;\">          40</td><td style=\"text-align: right;\">    40</td><td style=\"text-align: right;\">         23.4277</td><td style=\"text-align: right;\">0.00172624 </td><td style=\"text-align: right;\">  0.941087</td></tr>\n",
              "<tr><td>train_qrt_a6989_00003</td><td>TERMINATED</td><td>172.28.0.2:34701</td><td style=\"text-align: right;\">          64</td><td style=\"text-align: right;\">      0  </td><td style=\"text-align: right;\">0.000105935</td><td style=\"text-align: right;\">          60</td><td style=\"text-align: right;\">    60</td><td style=\"text-align: right;\">         33.8411</td><td style=\"text-align: right;\">0.00027963 </td><td style=\"text-align: right;\">  0.972996</td></tr>\n",
              "<tr><td>train_qrt_a6989_00004</td><td>TERMINATED</td><td>172.28.0.2:34666</td><td style=\"text-align: right;\">         128</td><td style=\"text-align: right;\">      0  </td><td style=\"text-align: right;\">0.0251209  </td><td style=\"text-align: right;\">          40</td><td style=\"text-align: right;\">    40</td><td style=\"text-align: right;\">         19.9723</td><td style=\"text-align: right;\">0.000385877</td><td style=\"text-align: right;\">  0.942441</td></tr>\n",
              "<tr><td>train_qrt_a6989_00005</td><td>TERMINATED</td><td>172.28.0.2:34666</td><td style=\"text-align: right;\">          64</td><td style=\"text-align: right;\">      0.2</td><td style=\"text-align: right;\">1.66108e-05</td><td style=\"text-align: right;\">          20</td><td style=\"text-align: right;\">    20</td><td style=\"text-align: right;\">         16.24  </td><td style=\"text-align: right;\">0.000300301</td><td style=\"text-align: right;\">  0.984943</td></tr>\n",
              "<tr><td>train_qrt_a6989_00006</td><td>TERMINATED</td><td>172.28.0.2:34701</td><td style=\"text-align: right;\">         128</td><td style=\"text-align: right;\">      0  </td><td style=\"text-align: right;\">0.0012109  </td><td style=\"text-align: right;\">          60</td><td style=\"text-align: right;\">    60</td><td style=\"text-align: right;\">         27.2232</td><td style=\"text-align: right;\">0.0002685  </td><td style=\"text-align: right;\">  0.945089</td></tr>\n",
              "</tbody>\n",
              "</table><br><br>"
            ],
            "text/plain": [
              "<IPython.core.display.HTML object>"
            ]
          },
          "metadata": {},
          "output_type": "display_data"
        },
        {
          "name": "stdout",
          "output_type": "stream",
          "text": [
            "Result for train_qrt_a6989_00008:\n",
            "  cel_loss: 0.9830262660980225\n",
            "  date: 2022-07-16_21-19-43\n",
            "  done: true\n",
            "  experiment_id: 202a61d7a01e47dca4be579c9e2dac4a\n",
            "  experiment_tag: 8_batch_size=128,dropout=0,lr=0.0000,num_epochs=40\n",
            "  hostname: f6468dcefdbf\n",
            "  iterations_since_restore: 40\n",
            "  mse_loss: 0.00023980988771654665\n",
            "  node_ip: 172.28.0.2\n",
            "  pid: 34701\n",
            "  time_since_restore: 19.389588117599487\n",
            "  time_this_iter_s: 0.3781414031982422\n",
            "  time_total_s: 19.389588117599487\n",
            "  timestamp: 1658006383\n",
            "  timesteps_since_restore: 0\n",
            "  training_iteration: 40\n",
            "  trial_id: a6989_00008\n",
            "  warmup_time: 0.005987644195556641\n",
            "  \n"
          ]
        },
        {
          "name": "stderr",
          "output_type": "stream",
          "text": [
            "\u001b[2m\u001b[36m(train_qrt pid=34701)\u001b[0m GPU available: False, used: False\n",
            "\u001b[2m\u001b[36m(train_qrt pid=34701)\u001b[0m TPU available: False, using: 0 TPU cores\n",
            "\u001b[2m\u001b[36m(train_qrt pid=34701)\u001b[0m IPU available: False, using: 0 IPUs\n",
            "\u001b[2m\u001b[36m(train_qrt pid=34701)\u001b[0m HPU available: False, using: 0 HPUs\n",
            "\u001b[2m\u001b[36m(train_qrt pid=34701)\u001b[0m Missing logger folder: /root/ray_results/train_qrt_2022-07-16_21-17-08/train_qrt_a6989_00009_9_batch_size=128,dropout=0.2000,lr=0.0005,num_epochs=40_2022-07-16_21-19-43/lightning_logs\n"
          ]
        },
        {
          "name": "stdout",
          "output_type": "stream",
          "text": [
            "Result for train_qrt_a6989_00007:\n",
            "  cel_loss: 0.9470476508140564\n",
            "  date: 2022-07-16_21-19-48\n",
            "  done: false\n",
            "  experiment_id: d464be6c0f664d1283297b14baf160ef\n",
            "  hostname: f6468dcefdbf\n",
            "  iterations_since_restore: 99\n",
            "  mse_loss: 0.001982332207262516\n",
            "  node_ip: 172.28.0.2\n",
            "  pid: 34666\n",
            "  time_since_restore: 42.01177144050598\n",
            "  time_this_iter_s: 0.32945752143859863\n",
            "  time_total_s: 42.01177144050598\n",
            "  timestamp: 1658006388\n",
            "  timesteps_since_restore: 0\n",
            "  training_iteration: 99\n",
            "  trial_id: a6989_00007\n",
            "  warmup_time: 0.004649162292480469\n",
            "  \n"
          ]
        },
        {
          "data": {
            "text/html": [
              "== Status ==<br>Current time: 2022-07-16 21:19:48 (running for 00:02:40.07)<br>Memory usage on this node: 2.3/12.7 GiB<br>Using FIFO scheduling algorithm.<br>Resources requested: 2.0/2 CPUs, 0/0 GPUs, 0.0/7.38 GiB heap, 0.0/3.69 GiB objects<br>Current best trial: a6989_00002 with cel_loss=0.9410867691040039 and parameters={'dropout': 0, 'num_epochs': 40, 'lr': 0.07642050372186303, 'batch_size': 64}<br>Result logdir: /root/ray_results/train_qrt_2022-07-16_21-17-08<br>Number of trials: 10/10 (2 RUNNING, 8 TERMINATED)<br><table>\n",
              "<thead>\n",
              "<tr><th>Trial name           </th><th>status    </th><th>loc             </th><th style=\"text-align: right;\">  batch_size</th><th style=\"text-align: right;\">  dropout</th><th style=\"text-align: right;\">         lr</th><th style=\"text-align: right;\">  num_epochs</th><th style=\"text-align: right;\">  iter</th><th style=\"text-align: right;\">  total time (s)</th><th style=\"text-align: right;\">   mse_loss</th><th style=\"text-align: right;\">  cel_loss</th></tr>\n",
              "</thead>\n",
              "<tbody>\n",
              "<tr><td>train_qrt_a6989_00007</td><td>RUNNING   </td><td>172.28.0.2:34666</td><td style=\"text-align: right;\">         128</td><td style=\"text-align: right;\">      0.2</td><td style=\"text-align: right;\">0.0824483  </td><td style=\"text-align: right;\">         100</td><td style=\"text-align: right;\">   100</td><td style=\"text-align: right;\">         42.41  </td><td style=\"text-align: right;\">0.00198168 </td><td style=\"text-align: right;\">  0.950524</td></tr>\n",
              "<tr><td>train_qrt_a6989_00009</td><td>RUNNING   </td><td>172.28.0.2:34701</td><td style=\"text-align: right;\">         128</td><td style=\"text-align: right;\">      0.2</td><td style=\"text-align: right;\">0.000485717</td><td style=\"text-align: right;\">          40</td><td style=\"text-align: right;\">      </td><td style=\"text-align: right;\">                </td><td style=\"text-align: right;\">           </td><td style=\"text-align: right;\">          </td></tr>\n",
              "<tr><td>train_qrt_a6989_00000</td><td>TERMINATED</td><td>172.28.0.2:34666</td><td style=\"text-align: right;\">          32</td><td style=\"text-align: right;\">      0.2</td><td style=\"text-align: right;\">1.91481e-05</td><td style=\"text-align: right;\">         100</td><td style=\"text-align: right;\">   100</td><td style=\"text-align: right;\">         76.1071</td><td style=\"text-align: right;\">0.000273303</td><td style=\"text-align: right;\">  0.96374 </td></tr>\n",
              "<tr><td>train_qrt_a6989_00001</td><td>TERMINATED</td><td>172.28.0.2:34701</td><td style=\"text-align: right;\">          64</td><td style=\"text-align: right;\">      0  </td><td style=\"text-align: right;\">0.0292711  </td><td style=\"text-align: right;\">          60</td><td style=\"text-align: right;\">    60</td><td style=\"text-align: right;\">         39.2898</td><td style=\"text-align: right;\">0.000634046</td><td style=\"text-align: right;\">  0.947089</td></tr>\n",
              "<tr><td>train_qrt_a6989_00002</td><td>TERMINATED</td><td>172.28.0.2:34701</td><td style=\"text-align: right;\">          64</td><td style=\"text-align: right;\">      0  </td><td style=\"text-align: right;\">0.0764205  </td><td style=\"text-align: right;\">          40</td><td style=\"text-align: right;\">    40</td><td style=\"text-align: right;\">         23.4277</td><td style=\"text-align: right;\">0.00172624 </td><td style=\"text-align: right;\">  0.941087</td></tr>\n",
              "<tr><td>train_qrt_a6989_00003</td><td>TERMINATED</td><td>172.28.0.2:34701</td><td style=\"text-align: right;\">          64</td><td style=\"text-align: right;\">      0  </td><td style=\"text-align: right;\">0.000105935</td><td style=\"text-align: right;\">          60</td><td style=\"text-align: right;\">    60</td><td style=\"text-align: right;\">         33.8411</td><td style=\"text-align: right;\">0.00027963 </td><td style=\"text-align: right;\">  0.972996</td></tr>\n",
              "<tr><td>train_qrt_a6989_00004</td><td>TERMINATED</td><td>172.28.0.2:34666</td><td style=\"text-align: right;\">         128</td><td style=\"text-align: right;\">      0  </td><td style=\"text-align: right;\">0.0251209  </td><td style=\"text-align: right;\">          40</td><td style=\"text-align: right;\">    40</td><td style=\"text-align: right;\">         19.9723</td><td style=\"text-align: right;\">0.000385877</td><td style=\"text-align: right;\">  0.942441</td></tr>\n",
              "<tr><td>train_qrt_a6989_00005</td><td>TERMINATED</td><td>172.28.0.2:34666</td><td style=\"text-align: right;\">          64</td><td style=\"text-align: right;\">      0.2</td><td style=\"text-align: right;\">1.66108e-05</td><td style=\"text-align: right;\">          20</td><td style=\"text-align: right;\">    20</td><td style=\"text-align: right;\">         16.24  </td><td style=\"text-align: right;\">0.000300301</td><td style=\"text-align: right;\">  0.984943</td></tr>\n",
              "<tr><td>train_qrt_a6989_00006</td><td>TERMINATED</td><td>172.28.0.2:34701</td><td style=\"text-align: right;\">         128</td><td style=\"text-align: right;\">      0  </td><td style=\"text-align: right;\">0.0012109  </td><td style=\"text-align: right;\">          60</td><td style=\"text-align: right;\">    60</td><td style=\"text-align: right;\">         27.2232</td><td style=\"text-align: right;\">0.0002685  </td><td style=\"text-align: right;\">  0.945089</td></tr>\n",
              "<tr><td>train_qrt_a6989_00008</td><td>TERMINATED</td><td>172.28.0.2:34701</td><td style=\"text-align: right;\">         128</td><td style=\"text-align: right;\">      0  </td><td style=\"text-align: right;\">3.30049e-05</td><td style=\"text-align: right;\">          40</td><td style=\"text-align: right;\">    40</td><td style=\"text-align: right;\">         19.3896</td><td style=\"text-align: right;\">0.00023981 </td><td style=\"text-align: right;\">  0.983026</td></tr>\n",
              "</tbody>\n",
              "</table><br><br>"
            ],
            "text/plain": [
              "<IPython.core.display.HTML object>"
            ]
          },
          "metadata": {},
          "output_type": "display_data"
        },
        {
          "name": "stdout",
          "output_type": "stream",
          "text": [
            "Result for train_qrt_a6989_00007:\n",
            "  cel_loss: 0.9505236148834229\n",
            "  date: 2022-07-16_21-19-48\n",
            "  done: true\n",
            "  experiment_id: d464be6c0f664d1283297b14baf160ef\n",
            "  experiment_tag: 7_batch_size=128,dropout=0.2000,lr=0.0824,num_epochs=100\n",
            "  hostname: f6468dcefdbf\n",
            "  iterations_since_restore: 100\n",
            "  mse_loss: 0.001981683075428009\n",
            "  node_ip: 172.28.0.2\n",
            "  pid: 34666\n",
            "  time_since_restore: 42.410048484802246\n",
            "  time_this_iter_s: 0.39827704429626465\n",
            "  time_total_s: 42.410048484802246\n",
            "  timestamp: 1658006388\n",
            "  timesteps_since_restore: 0\n",
            "  training_iteration: 100\n",
            "  trial_id: a6989_00007\n",
            "  warmup_time: 0.004649162292480469\n",
            "  \n"
          ]
        },
        {
          "name": "stderr",
          "output_type": "stream",
          "text": [
            "\u001b[2m\u001b[36m(train_qrt pid=34701)\u001b[0m \n",
            "\u001b[2m\u001b[36m(train_qrt pid=34701)\u001b[0m   | Name     | Type                | Params\n",
            "\u001b[2m\u001b[36m(train_qrt pid=34701)\u001b[0m -------------------------------------------------\n",
            "\u001b[2m\u001b[36m(train_qrt pid=34701)\u001b[0m 0 | model    | Model               | 2.5 K \n",
            "\u001b[2m\u001b[36m(train_qrt pid=34701)\u001b[0m 1 | cel_loss | CosineEmbeddingLoss | 0     \n",
            "\u001b[2m\u001b[36m(train_qrt pid=34701)\u001b[0m 2 | mse_loss | MSELoss             | 0     \n",
            "\u001b[2m\u001b[36m(train_qrt pid=34701)\u001b[0m -------------------------------------------------\n",
            "\u001b[2m\u001b[36m(train_qrt pid=34701)\u001b[0m 2.5 K     Trainable params\n",
            "\u001b[2m\u001b[36m(train_qrt pid=34701)\u001b[0m 0         Non-trainable params\n",
            "\u001b[2m\u001b[36m(train_qrt pid=34701)\u001b[0m 2.5 K     Total params\n",
            "\u001b[2m\u001b[36m(train_qrt pid=34701)\u001b[0m 0.010     Total estimated model params size (MB)\n"
          ]
        },
        {
          "name": "stdout",
          "output_type": "stream",
          "text": [
            "Result for train_qrt_a6989_00009:\n",
            "  cel_loss: 0.9527429342269897\n",
            "  date: 2022-07-16_21-19-49\n",
            "  done: false\n",
            "  experiment_id: 202a61d7a01e47dca4be579c9e2dac4a\n",
            "  hostname: f6468dcefdbf\n",
            "  iterations_since_restore: 1\n",
            "  mse_loss: 0.00028112903237342834\n",
            "  node_ip: 172.28.0.2\n",
            "  pid: 34701\n",
            "  time_since_restore: 5.621202707290649\n",
            "  time_this_iter_s: 5.621202707290649\n",
            "  time_total_s: 5.621202707290649\n",
            "  timestamp: 1658006389\n",
            "  timesteps_since_restore: 0\n",
            "  training_iteration: 1\n",
            "  trial_id: a6989_00009\n",
            "  warmup_time: 0.005987644195556641\n",
            "  \n"
          ]
        },
        {
          "data": {
            "text/html": [
              "== Status ==<br>Current time: 2022-07-16 21:19:54 (running for 00:02:45.13)<br>Memory usage on this node: 1.9/12.7 GiB<br>Using FIFO scheduling algorithm.<br>Resources requested: 1.0/2 CPUs, 0/0 GPUs, 0.0/7.38 GiB heap, 0.0/3.69 GiB objects<br>Current best trial: a6989_00009 with cel_loss=0.9388377070426941 and parameters={'dropout': 0.2, 'num_epochs': 40, 'lr': 0.00048571674202158065, 'batch_size': 128}<br>Result logdir: /root/ray_results/train_qrt_2022-07-16_21-17-08<br>Number of trials: 10/10 (1 RUNNING, 9 TERMINATED)<br><table>\n",
              "<thead>\n",
              "<tr><th>Trial name           </th><th>status    </th><th>loc             </th><th style=\"text-align: right;\">  batch_size</th><th style=\"text-align: right;\">  dropout</th><th style=\"text-align: right;\">         lr</th><th style=\"text-align: right;\">  num_epochs</th><th style=\"text-align: right;\">  iter</th><th style=\"text-align: right;\">  total time (s)</th><th style=\"text-align: right;\">   mse_loss</th><th style=\"text-align: right;\">  cel_loss</th></tr>\n",
              "</thead>\n",
              "<tbody>\n",
              "<tr><td>train_qrt_a6989_00009</td><td>RUNNING   </td><td>172.28.0.2:34701</td><td style=\"text-align: right;\">         128</td><td style=\"text-align: right;\">      0.2</td><td style=\"text-align: right;\">0.000485717</td><td style=\"text-align: right;\">          40</td><td style=\"text-align: right;\">    21</td><td style=\"text-align: right;\">         10.2801</td><td style=\"text-align: right;\">0.000275259</td><td style=\"text-align: right;\">  0.938838</td></tr>\n",
              "<tr><td>train_qrt_a6989_00000</td><td>TERMINATED</td><td>172.28.0.2:34666</td><td style=\"text-align: right;\">          32</td><td style=\"text-align: right;\">      0.2</td><td style=\"text-align: right;\">1.91481e-05</td><td style=\"text-align: right;\">         100</td><td style=\"text-align: right;\">   100</td><td style=\"text-align: right;\">         76.1071</td><td style=\"text-align: right;\">0.000273303</td><td style=\"text-align: right;\">  0.96374 </td></tr>\n",
              "<tr><td>train_qrt_a6989_00001</td><td>TERMINATED</td><td>172.28.0.2:34701</td><td style=\"text-align: right;\">          64</td><td style=\"text-align: right;\">      0  </td><td style=\"text-align: right;\">0.0292711  </td><td style=\"text-align: right;\">          60</td><td style=\"text-align: right;\">    60</td><td style=\"text-align: right;\">         39.2898</td><td style=\"text-align: right;\">0.000634046</td><td style=\"text-align: right;\">  0.947089</td></tr>\n",
              "<tr><td>train_qrt_a6989_00002</td><td>TERMINATED</td><td>172.28.0.2:34701</td><td style=\"text-align: right;\">          64</td><td style=\"text-align: right;\">      0  </td><td style=\"text-align: right;\">0.0764205  </td><td style=\"text-align: right;\">          40</td><td style=\"text-align: right;\">    40</td><td style=\"text-align: right;\">         23.4277</td><td style=\"text-align: right;\">0.00172624 </td><td style=\"text-align: right;\">  0.941087</td></tr>\n",
              "<tr><td>train_qrt_a6989_00003</td><td>TERMINATED</td><td>172.28.0.2:34701</td><td style=\"text-align: right;\">          64</td><td style=\"text-align: right;\">      0  </td><td style=\"text-align: right;\">0.000105935</td><td style=\"text-align: right;\">          60</td><td style=\"text-align: right;\">    60</td><td style=\"text-align: right;\">         33.8411</td><td style=\"text-align: right;\">0.00027963 </td><td style=\"text-align: right;\">  0.972996</td></tr>\n",
              "<tr><td>train_qrt_a6989_00004</td><td>TERMINATED</td><td>172.28.0.2:34666</td><td style=\"text-align: right;\">         128</td><td style=\"text-align: right;\">      0  </td><td style=\"text-align: right;\">0.0251209  </td><td style=\"text-align: right;\">          40</td><td style=\"text-align: right;\">    40</td><td style=\"text-align: right;\">         19.9723</td><td style=\"text-align: right;\">0.000385877</td><td style=\"text-align: right;\">  0.942441</td></tr>\n",
              "<tr><td>train_qrt_a6989_00005</td><td>TERMINATED</td><td>172.28.0.2:34666</td><td style=\"text-align: right;\">          64</td><td style=\"text-align: right;\">      0.2</td><td style=\"text-align: right;\">1.66108e-05</td><td style=\"text-align: right;\">          20</td><td style=\"text-align: right;\">    20</td><td style=\"text-align: right;\">         16.24  </td><td style=\"text-align: right;\">0.000300301</td><td style=\"text-align: right;\">  0.984943</td></tr>\n",
              "<tr><td>train_qrt_a6989_00006</td><td>TERMINATED</td><td>172.28.0.2:34701</td><td style=\"text-align: right;\">         128</td><td style=\"text-align: right;\">      0  </td><td style=\"text-align: right;\">0.0012109  </td><td style=\"text-align: right;\">          60</td><td style=\"text-align: right;\">    60</td><td style=\"text-align: right;\">         27.2232</td><td style=\"text-align: right;\">0.0002685  </td><td style=\"text-align: right;\">  0.945089</td></tr>\n",
              "<tr><td>train_qrt_a6989_00007</td><td>TERMINATED</td><td>172.28.0.2:34666</td><td style=\"text-align: right;\">         128</td><td style=\"text-align: right;\">      0.2</td><td style=\"text-align: right;\">0.0824483  </td><td style=\"text-align: right;\">         100</td><td style=\"text-align: right;\">   100</td><td style=\"text-align: right;\">         42.41  </td><td style=\"text-align: right;\">0.00198168 </td><td style=\"text-align: right;\">  0.950524</td></tr>\n",
              "<tr><td>train_qrt_a6989_00008</td><td>TERMINATED</td><td>172.28.0.2:34701</td><td style=\"text-align: right;\">         128</td><td style=\"text-align: right;\">      0  </td><td style=\"text-align: right;\">3.30049e-05</td><td style=\"text-align: right;\">          40</td><td style=\"text-align: right;\">    40</td><td style=\"text-align: right;\">         19.3896</td><td style=\"text-align: right;\">0.00023981 </td><td style=\"text-align: right;\">  0.983026</td></tr>\n",
              "</tbody>\n",
              "</table><br><br>"
            ],
            "text/plain": [
              "<IPython.core.display.HTML object>"
            ]
          },
          "metadata": {},
          "output_type": "display_data"
        },
        {
          "name": "stdout",
          "output_type": "stream",
          "text": [
            "Result for train_qrt_a6989_00009:\n",
            "  cel_loss: 0.9406606554985046\n",
            "  date: 2022-07-16_21-19-54\n",
            "  done: false\n",
            "  experiment_id: 202a61d7a01e47dca4be579c9e2dac4a\n",
            "  hostname: f6468dcefdbf\n",
            "  iterations_since_restore: 23\n",
            "  mse_loss: 0.0002756898757070303\n",
            "  node_ip: 172.28.0.2\n",
            "  pid: 34701\n",
            "  time_since_restore: 10.746259450912476\n",
            "  time_this_iter_s: 0.22700905799865723\n",
            "  time_total_s: 10.746259450912476\n",
            "  timestamp: 1658006394\n",
            "  timesteps_since_restore: 0\n",
            "  training_iteration: 23\n",
            "  trial_id: a6989_00009\n",
            "  warmup_time: 0.005987644195556641\n",
            "  \n",
            "Result for train_qrt_a6989_00009:\n",
            "  cel_loss: 0.9494091272354126\n",
            "  date: 2022-07-16_21-19-58\n",
            "  done: true\n",
            "  experiment_id: 202a61d7a01e47dca4be579c9e2dac4a\n",
            "  experiment_tag: 9_batch_size=128,dropout=0.2000,lr=0.0005,num_epochs=40\n",
            "  hostname: f6468dcefdbf\n",
            "  iterations_since_restore: 40\n",
            "  mse_loss: 0.0002792386803776026\n",
            "  node_ip: 172.28.0.2\n",
            "  pid: 34701\n",
            "  time_since_restore: 14.723361253738403\n",
            "  time_this_iter_s: 0.22038531303405762\n",
            "  time_total_s: 14.723361253738403\n",
            "  timestamp: 1658006398\n",
            "  timesteps_since_restore: 0\n",
            "  training_iteration: 40\n",
            "  trial_id: a6989_00009\n",
            "  warmup_time: 0.005987644195556641\n",
            "  \n"
          ]
        },
        {
          "data": {
            "text/html": [
              "== Status ==<br>Current time: 2022-07-16 21:19:58 (running for 00:02:49.65)<br>Memory usage on this node: 1.8/12.7 GiB<br>Using FIFO scheduling algorithm.<br>Resources requested: 0/2 CPUs, 0/0 GPUs, 0.0/7.38 GiB heap, 0.0/3.69 GiB objects<br>Current best trial: a6989_00002 with cel_loss=0.9410867691040039 and parameters={'dropout': 0, 'num_epochs': 40, 'lr': 0.07642050372186303, 'batch_size': 64}<br>Result logdir: /root/ray_results/train_qrt_2022-07-16_21-17-08<br>Number of trials: 10/10 (10 TERMINATED)<br><table>\n",
              "<thead>\n",
              "<tr><th>Trial name           </th><th>status    </th><th>loc             </th><th style=\"text-align: right;\">  batch_size</th><th style=\"text-align: right;\">  dropout</th><th style=\"text-align: right;\">         lr</th><th style=\"text-align: right;\">  num_epochs</th><th style=\"text-align: right;\">  iter</th><th style=\"text-align: right;\">  total time (s)</th><th style=\"text-align: right;\">   mse_loss</th><th style=\"text-align: right;\">  cel_loss</th></tr>\n",
              "</thead>\n",
              "<tbody>\n",
              "<tr><td>train_qrt_a6989_00000</td><td>TERMINATED</td><td>172.28.0.2:34666</td><td style=\"text-align: right;\">          32</td><td style=\"text-align: right;\">      0.2</td><td style=\"text-align: right;\">1.91481e-05</td><td style=\"text-align: right;\">         100</td><td style=\"text-align: right;\">   100</td><td style=\"text-align: right;\">         76.1071</td><td style=\"text-align: right;\">0.000273303</td><td style=\"text-align: right;\">  0.96374 </td></tr>\n",
              "<tr><td>train_qrt_a6989_00001</td><td>TERMINATED</td><td>172.28.0.2:34701</td><td style=\"text-align: right;\">          64</td><td style=\"text-align: right;\">      0  </td><td style=\"text-align: right;\">0.0292711  </td><td style=\"text-align: right;\">          60</td><td style=\"text-align: right;\">    60</td><td style=\"text-align: right;\">         39.2898</td><td style=\"text-align: right;\">0.000634046</td><td style=\"text-align: right;\">  0.947089</td></tr>\n",
              "<tr><td>train_qrt_a6989_00002</td><td>TERMINATED</td><td>172.28.0.2:34701</td><td style=\"text-align: right;\">          64</td><td style=\"text-align: right;\">      0  </td><td style=\"text-align: right;\">0.0764205  </td><td style=\"text-align: right;\">          40</td><td style=\"text-align: right;\">    40</td><td style=\"text-align: right;\">         23.4277</td><td style=\"text-align: right;\">0.00172624 </td><td style=\"text-align: right;\">  0.941087</td></tr>\n",
              "<tr><td>train_qrt_a6989_00003</td><td>TERMINATED</td><td>172.28.0.2:34701</td><td style=\"text-align: right;\">          64</td><td style=\"text-align: right;\">      0  </td><td style=\"text-align: right;\">0.000105935</td><td style=\"text-align: right;\">          60</td><td style=\"text-align: right;\">    60</td><td style=\"text-align: right;\">         33.8411</td><td style=\"text-align: right;\">0.00027963 </td><td style=\"text-align: right;\">  0.972996</td></tr>\n",
              "<tr><td>train_qrt_a6989_00004</td><td>TERMINATED</td><td>172.28.0.2:34666</td><td style=\"text-align: right;\">         128</td><td style=\"text-align: right;\">      0  </td><td style=\"text-align: right;\">0.0251209  </td><td style=\"text-align: right;\">          40</td><td style=\"text-align: right;\">    40</td><td style=\"text-align: right;\">         19.9723</td><td style=\"text-align: right;\">0.000385877</td><td style=\"text-align: right;\">  0.942441</td></tr>\n",
              "<tr><td>train_qrt_a6989_00005</td><td>TERMINATED</td><td>172.28.0.2:34666</td><td style=\"text-align: right;\">          64</td><td style=\"text-align: right;\">      0.2</td><td style=\"text-align: right;\">1.66108e-05</td><td style=\"text-align: right;\">          20</td><td style=\"text-align: right;\">    20</td><td style=\"text-align: right;\">         16.24  </td><td style=\"text-align: right;\">0.000300301</td><td style=\"text-align: right;\">  0.984943</td></tr>\n",
              "<tr><td>train_qrt_a6989_00006</td><td>TERMINATED</td><td>172.28.0.2:34701</td><td style=\"text-align: right;\">         128</td><td style=\"text-align: right;\">      0  </td><td style=\"text-align: right;\">0.0012109  </td><td style=\"text-align: right;\">          60</td><td style=\"text-align: right;\">    60</td><td style=\"text-align: right;\">         27.2232</td><td style=\"text-align: right;\">0.0002685  </td><td style=\"text-align: right;\">  0.945089</td></tr>\n",
              "<tr><td>train_qrt_a6989_00007</td><td>TERMINATED</td><td>172.28.0.2:34666</td><td style=\"text-align: right;\">         128</td><td style=\"text-align: right;\">      0.2</td><td style=\"text-align: right;\">0.0824483  </td><td style=\"text-align: right;\">         100</td><td style=\"text-align: right;\">   100</td><td style=\"text-align: right;\">         42.41  </td><td style=\"text-align: right;\">0.00198168 </td><td style=\"text-align: right;\">  0.950524</td></tr>\n",
              "<tr><td>train_qrt_a6989_00008</td><td>TERMINATED</td><td>172.28.0.2:34701</td><td style=\"text-align: right;\">         128</td><td style=\"text-align: right;\">      0  </td><td style=\"text-align: right;\">3.30049e-05</td><td style=\"text-align: right;\">          40</td><td style=\"text-align: right;\">    40</td><td style=\"text-align: right;\">         19.3896</td><td style=\"text-align: right;\">0.00023981 </td><td style=\"text-align: right;\">  0.983026</td></tr>\n",
              "<tr><td>train_qrt_a6989_00009</td><td>TERMINATED</td><td>172.28.0.2:34701</td><td style=\"text-align: right;\">         128</td><td style=\"text-align: right;\">      0.2</td><td style=\"text-align: right;\">0.000485717</td><td style=\"text-align: right;\">          40</td><td style=\"text-align: right;\">    40</td><td style=\"text-align: right;\">         14.7234</td><td style=\"text-align: right;\">0.000279239</td><td style=\"text-align: right;\">  0.949409</td></tr>\n",
              "</tbody>\n",
              "</table><br><br>"
            ],
            "text/plain": [
              "<IPython.core.display.HTML object>"
            ]
          },
          "metadata": {},
          "output_type": "display_data"
        },
        {
          "name": "stderr",
          "output_type": "stream",
          "text": [
            "2022-07-16 21:19:58,676\tINFO tune.py:748 -- Total run time: 169.78 seconds (169.64 seconds for the tuning loop).\n"
          ]
        }
      ],
      "source": [
        "# Execute the hyperparameter search\n",
        "analysis = tune.run(\n",
        " tune.with_parameters(train_qrt, data_dir = \"/content/QRT_DataChallenge/data\", num_gpus=0),\n",
        " config=config,\n",
        " num_samples=10, checkpoint_at_end=True, metric=\"cel_loss\", mode=\"min\")"
      ]
    },
    {
      "cell_type": "code",
      "execution_count": 27,
      "metadata": {
        "id": "jUIjkgUM2Qn5"
      },
      "outputs": [],
      "source": [
        "config_to_use = analysis.best_config"
      ]
    },
    {
      "cell_type": "code",
      "execution_count": 33,
      "metadata": {
        "colab": {
          "base_uri": "https://localhost:8080/"
        },
        "id": "ev5sYSGs4qB5",
        "outputId": "4a0638c4-6d5a-42eb-cb6b-c3aaacd70f10"
      },
      "outputs": [
        {
          "name": "stderr",
          "output_type": "stream",
          "text": [
            "/usr/local/lib/python3.7/dist-packages/pytorch_lightning/trainer/connectors/callback_connector.py:97: LightningDeprecationWarning: Setting `Trainer(progress_bar_refresh_rate=0)` is deprecated in v1.5 and will be removed in v1.7. Please pass `pytorch_lightning.callbacks.progress.TQDMProgressBar` with `refresh_rate` directly to the Trainer's `callbacks` argument instead. Or, to disable the progress bar pass `enable_progress_bar = False` to the Trainer.\n",
            "  f\"Setting `Trainer(progress_bar_refresh_rate={progress_bar_refresh_rate})` is deprecated in v1.5 and\"\n",
            "GPU available: False, used: False\n",
            "TPU available: False, using: 0 TPU cores\n",
            "IPU available: False, using: 0 IPUs\n",
            "HPU available: False, using: 0 HPUs\n",
            "Missing logger folder: /content/lightning_logs\n",
            "/content/QRT_DataChallenge/pl_data_module.py:45: FutureWarning: In a future version of pandas all arguments of concat except for the argument 'objs' will be keyword-only\n",
            "  X_train_reshape = pd.concat([ X_train.T.shift(i+1).stack(dropna=False) for i in range(250) ], 1).dropna()\n",
            "\n",
            "  | Name     | Type                | Params\n",
            "-------------------------------------------------\n",
            "0 | model    | Model               | 2.5 K \n",
            "1 | cel_loss | CosineEmbeddingLoss | 0     \n",
            "2 | mse_loss | MSELoss             | 0     \n",
            "-------------------------------------------------\n",
            "2.5 K     Trainable params\n",
            "0         Non-trainable params\n",
            "2.5 K     Total params\n",
            "0.010     Total estimated model params size (MB)\n",
            "/usr/local/lib/python3.7/dist-packages/pytorch_lightning/trainer/connectors/data_connector.py:378: UserWarning: One of given dataloaders is None and it will be skipped.\n",
            "  rank_zero_warn(\"One of given dataloaders is None and it will be skipped.\")\n",
            "/usr/local/lib/python3.7/dist-packages/pytorch_lightning/trainer/trainer.py:1937: PossibleUserWarning: The number of training batches (8) is smaller than the logging interval Trainer(log_every_n_steps=50). Set a lower value for log_every_n_steps if you want to see logs for the training epoch.\n",
            "  category=PossibleUserWarning,\n"
          ]
        }
      ],
      "source": [
        "model = QRTChallengeRegressor(config_to_use)\n",
        "dm = QRTDataModule(\n",
        "    data_dir=\"/content/QRT_DataChallenge/data\", num_splits= 1, num_workers=1, batch_size=config_to_use[\"batch_size\"])\n",
        "metrics = {\"mse_loss\": \"ptl/mse_loss\", \"cel_loss\": \"ptl/cel_loss\"}\n",
        "trainer = pl.Trainer(\n",
        "    max_epochs=config_to_use[\"num_epochs\"],\n",
        "    progress_bar_refresh_rate=0)\n",
        "trainer.fit(model, dm)"
      ]
    },
    {
      "cell_type": "code",
      "execution_count": 36,
      "metadata": {
        "id": "xHeJ05cM-FMY"
      },
      "outputs": [],
      "source": [
        "from utils import extract_AB, createSubmission\n",
        "\n",
        "A, beta = extract_AB(model.model)\n",
        "df_out = createSubmission(A, beta, 1, \"full_train_data_no_val\")"
      ]
    },
    {
      "cell_type": "code",
      "execution_count": 37,
      "metadata": {
        "colab": {
          "base_uri": "https://localhost:8080/"
        },
        "id": "oC3zCqW7-weA",
        "outputId": "a0501fb9-e3e9-45c9-ccde-f2131a921064"
      },
      "outputs": [
        {
          "data": {
            "text/plain": [
              "{'batch_size': 64, 'dropout': 0, 'lr': 0.07642050372186303, 'num_epochs': 40}"
            ]
          },
          "execution_count": 37,
          "metadata": {},
          "output_type": "execute_result"
        }
      ],
      "source": [
        "config_to_use"
      ]
    },
    {
      "cell_type": "code",
      "execution_count": null,
      "metadata": {
        "id": "2ITaM-lz_IjN"
      },
      "outputs": [],
      "source": []
    }
  ],
  "metadata": {
    "accelerator": "GPU",
    "colab": {
      "name": "Untitled28.ipynb",
      "provenance": []
    },
    "gpuClass": "standard",
    "kernelspec": {
      "display_name": "Python 3.9.1 64-bit",
      "language": "python",
      "name": "python3"
    },
    "language_info": {
      "name": "python",
      "version": "3.9.1"
    },
    "vscode": {
      "interpreter": {
        "hash": "81794d4967e6c3204c66dcd87b604927b115b27c00565d3d43f05ba2f3a2cb0d"
      }
    }
  },
  "nbformat": 4,
  "nbformat_minor": 0
}
